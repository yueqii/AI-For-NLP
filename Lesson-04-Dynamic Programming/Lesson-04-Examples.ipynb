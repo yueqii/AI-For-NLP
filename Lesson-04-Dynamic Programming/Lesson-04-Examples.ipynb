{
 "cells": [
  {
   "cell_type": "markdown",
   "metadata": {},
   "source": [
    "## Dynamic Programming"
   ]
  },
  {
   "cell_type": "code",
   "execution_count": 1,
   "metadata": {},
   "outputs": [],
   "source": [
    "original_price = [1, 5, 8, 9, 10, 17, 17, 20, 24, 30]"
   ]
  },
  {
   "cell_type": "code",
   "execution_count": 4,
   "metadata": {},
   "outputs": [],
   "source": [
    "from collections import defaultdict\n",
    "price = defaultdict(int)"
   ]
  },
  {
   "cell_type": "code",
   "execution_count": 5,
   "metadata": {},
   "outputs": [],
   "source": [
    "for i, p in enumerate(original_price):\n",
    "    price[i+1] = p"
   ]
  },
  {
   "cell_type": "code",
   "execution_count": 6,
   "metadata": {},
   "outputs": [],
   "source": [
    "assert price[1] == 1"
   ]
  },
  {
   "cell_type": "code",
   "execution_count": 7,
   "metadata": {},
   "outputs": [],
   "source": [
    "# Calculate the total revenue.\n",
    "# REV = max(P[n], r(1) + r(n-1), r(2) + r(n-2), ..., r(n-1)+ r(1))\n",
    "\n",
    "def r(n):\n",
    "    return max(\n",
    "        [price[n]] + [r(i) + r(n-i) for i in range(1, n)]\n",
    "    )"
   ]
  },
  {
   "cell_type": "code",
   "execution_count": 9,
   "metadata": {},
   "outputs": [
    {
     "data": {
      "text/plain": [
       "10"
      ]
     },
     "execution_count": 9,
     "metadata": {},
     "output_type": "execute_result"
    }
   ],
   "source": [
    "r(4)"
   ]
  },
  {
   "cell_type": "code",
   "execution_count": 11,
   "metadata": {},
   "outputs": [],
   "source": [
    "# r(121)\n",
    "\n",
    "# This really takes a looooong time!\n",
    "# ---------------------------------------------------------------------------\n",
    "# KeyboardInterrupt                         Traceback (most recent call last)\n"
   ]
  },
  {
   "cell_type": "code",
   "execution_count": 98,
   "metadata": {},
   "outputs": [],
   "source": [
    "solution = {}\n",
    "## For a given length N, we want to find an optimal splitting pattern:\n",
    "## eg: solution = {\n",
    "##             4: (2, 2)\n",
    "##    }"
   ]
  },
  {
   "cell_type": "code",
   "execution_count": 99,
   "metadata": {},
   "outputs": [],
   "source": [
    "# Update func r(n)\n",
    "\n",
    "\n",
    "def r(n):\n",
    "    max_price, split_point =  max(\n",
    "        [(price[n], 0)] + [(r(i) + r(n-i), i) for i in range(1, n)], key = lambda x: x[0]\n",
    "    )\n",
    "    \n",
    "    solution[n] = (split_point, n - split_point) # Append split solutions to dictionary\n",
    "    \n",
    "    return max_price\n"
   ]
  },
  {
   "cell_type": "code",
   "execution_count": 95,
   "metadata": {},
   "outputs": [
    {
     "data": {
      "text/plain": [
       "43"
      ]
     },
     "execution_count": 95,
     "metadata": {},
     "output_type": "execute_result"
    }
   ],
   "source": [
    "r(15)"
   ]
  },
  {
   "cell_type": "code",
   "execution_count": 100,
   "metadata": {},
   "outputs": [
    {
     "data": {
      "text/plain": [
       "13"
      ]
     },
     "execution_count": 100,
     "metadata": {},
     "output_type": "execute_result"
    }
   ],
   "source": [
    "r(5)"
   ]
  },
  {
   "cell_type": "code",
   "execution_count": 101,
   "metadata": {},
   "outputs": [
    {
     "data": {
      "text/plain": [
       "{1: (0, 1), 2: (0, 2), 3: (0, 3), 4: (2, 2), 5: (2, 3)}"
      ]
     },
     "execution_count": 101,
     "metadata": {},
     "output_type": "execute_result"
    }
   ],
   "source": [
    "solution"
   ]
  },
  {
   "cell_type": "code",
   "execution_count": 102,
   "metadata": {},
   "outputs": [],
   "source": [
    "# Figuring out the result takes long time because our program \n",
    "# did a lot of repetitive calculations that had done but not saved.\n",
    "# In python 3+, use decorator lru_cache:\n",
    "\n",
    "from functools import lru_cache\n",
    "@lru_cache(maxsize=2**10)\n",
    "\n",
    "def r1(n):\n",
    "    \n",
    "    max_price, split_point = max(\n",
    "        [(price[n], 0)] + [(r(i) + r(n-i), i) for i in range(1, n)], key=lambda x: x[0]\n",
    "    )\n",
    "    solution[n] = (split_point, n - split_point)\n",
    "    \n",
    "    return max_price\n",
    "\n"
   ]
  },
  {
   "cell_type": "code",
   "execution_count": 103,
   "metadata": {},
   "outputs": [
    {
     "data": {
      "text/plain": [
       "43"
      ]
     },
     "execution_count": 103,
     "metadata": {},
     "output_type": "execute_result"
    }
   ],
   "source": [
    "r1(15)"
   ]
  },
  {
   "cell_type": "code",
   "execution_count": 104,
   "metadata": {},
   "outputs": [
    {
     "data": {
      "text/plain": [
       "{1: (0, 1),\n",
       " 2: (0, 2),\n",
       " 3: (0, 3),\n",
       " 4: (2, 2),\n",
       " 5: (2, 3),\n",
       " 6: (0, 6),\n",
       " 7: (1, 6),\n",
       " 8: (2, 6),\n",
       " 9: (3, 6),\n",
       " 10: (0, 10),\n",
       " 11: (1, 10),\n",
       " 12: (2, 10),\n",
       " 13: (3, 10),\n",
       " 14: (2, 12),\n",
       " 15: (2, 13)}"
      ]
     },
     "execution_count": 104,
     "metadata": {},
     "output_type": "execute_result"
    }
   ],
   "source": [
    "solution"
   ]
  },
  {
   "cell_type": "markdown",
   "metadata": {},
   "source": [
    "### 装饰器"
   ]
  },
  {
   "cell_type": "code",
   "execution_count": 24,
   "metadata": {},
   "outputs": [],
   "source": [
    "import time\n",
    "def func_1(n): \n",
    "    for i in range(n):\n",
    "        print(n)\n",
    "    \n",
    "def func_slow(n):\n",
    "    for i in range(n):\n",
    "        time.sleep(0.15)\n",
    "        print(n)"
   ]
  },
  {
   "cell_type": "code",
   "execution_count": 25,
   "metadata": {},
   "outputs": [],
   "source": [
    "# X Oriented --- X: 1. as arg 2. as variable(able to assign an value) \n",
    "#                   3. return\n",
    "# Functions in python can be used as args of another function.\n",
    "\n",
    "def call_time(func_1, arg): #脚手架程序\n",
    "    start = time.time()\n",
    "    func_1(arg)\n",
    "    print('Time used: {}'.format(time.time() - start))"
   ]
  },
  {
   "cell_type": "code",
   "execution_count": 47,
   "metadata": {},
   "outputs": [],
   "source": [
    "# Due to the fuction oriented feature of python, \n",
    "# we can wrap a function to form a new function.\n",
    "\n",
    "def get_call_time(func):\n",
    "    \n",
    "    def _wrap(arg):\n",
    "        \"\"\" It's a inner function.\"\"\"\n",
    "        start = time.time()\n",
    "        result = func(arg)\n",
    "        print('Time used: {}'.format(time.time() - start))\n",
    "        return result\n",
    "    return _wrap"
   ]
  },
  {
   "cell_type": "code",
   "execution_count": 27,
   "metadata": {},
   "outputs": [
    {
     "name": "stdout",
     "output_type": "stream",
     "text": [
      "10\n",
      "10\n",
      "10\n",
      "10\n",
      "10\n",
      "10\n",
      "10\n",
      "10\n",
      "10\n",
      "10\n",
      "Time used: 1.5191559791564941\n"
     ]
    }
   ],
   "source": [
    "call_time(func_slow, 10)"
   ]
  },
  {
   "cell_type": "code",
   "execution_count": 30,
   "metadata": {},
   "outputs": [],
   "source": [
    "get_time_func_slow = get_call_time(func_slow)"
   ]
  },
  {
   "cell_type": "code",
   "execution_count": 32,
   "metadata": {},
   "outputs": [
    {
     "data": {
      "text/plain": [
       "'_wrap'"
      ]
     },
     "execution_count": 32,
     "metadata": {},
     "output_type": "execute_result"
    }
   ],
   "source": [
    "get_time_func_slow.__name__"
   ]
  },
  {
   "cell_type": "code",
   "execution_count": 33,
   "metadata": {
    "collapsed": true
   },
   "outputs": [
    {
     "name": "stdout",
     "output_type": "stream",
     "text": [
      "10\n",
      "10\n",
      "10\n",
      "10\n",
      "10\n",
      "10\n",
      "10\n",
      "10\n",
      "10\n",
      "10\n",
      "Time used: 1.5317811965942383\n",
      "10\n",
      "10\n",
      "10\n",
      "10\n",
      "10\n",
      "10\n",
      "10\n",
      "10\n",
      "10\n",
      "10\n",
      "Time used: 1.5205345153808594\n"
     ]
    }
   ],
   "source": [
    "assert get_time_func_slow(10) == call_time(func_slow, 10)"
   ]
  },
  {
   "cell_type": "code",
   "execution_count": 34,
   "metadata": {},
   "outputs": [
    {
     "name": "stdout",
     "output_type": "stream",
     "text": [
      "10\n",
      "10\n",
      "10\n",
      "10\n",
      "10\n",
      "10\n",
      "10\n",
      "10\n",
      "10\n",
      "10\n",
      "Time used: 1.5138325691223145\n"
     ]
    }
   ],
   "source": [
    "# Update func_slow.\n",
    "func_slow = get_call_time(func_slow) ## => @ (decorator)\n",
    "func_slow(10)\n",
    "# Pass!"
   ]
  },
  {
   "cell_type": "code",
   "execution_count": 38,
   "metadata": {},
   "outputs": [],
   "source": [
    "## See how a decorator works!\n",
    "## No need to modify the original fuctions while adding a new feature\n",
    "@get_call_time\n",
    "def func_1(n): \n",
    "    for i in range(n):\n",
    "        print(n)"
   ]
  },
  {
   "cell_type": "code",
   "execution_count": 40,
   "metadata": {},
   "outputs": [
    {
     "name": "stdout",
     "output_type": "stream",
     "text": [
      "5\n",
      "5\n",
      "5\n",
      "5\n",
      "5\n",
      "Time used: 0.0009992122650146484\n"
     ]
    }
   ],
   "source": [
    "func_1(5)"
   ]
  },
  {
   "cell_type": "code",
   "execution_count": 41,
   "metadata": {},
   "outputs": [
    {
     "name": "stdout",
     "output_type": "stream",
     "text": [
      "5\n",
      "5\n",
      "5\n",
      "5\n",
      "5\n"
     ]
    }
   ],
   "source": [
    "def func_1(n): \n",
    "    for i in range(n):\n",
    "        print(n)\n",
    "func_1(5)\n",
    "# No time info here."
   ]
  },
  {
   "cell_type": "code",
   "execution_count": null,
   "metadata": {},
   "outputs": [],
   "source": [
    "# Count function called time.\n",
    "function_called_time = defaultdict(int)\n",
    "\n",
    "def get_called_time(func):\n",
    "    def _inner(arg): \n",
    "        ## (*args, **kwargs) => support all args, keyword args\n",
    "        \n",
    "        global function_called_time\n",
    "        function_called_time[func.__name__] += 1\n",
    "        \n",
    "        result = func(arg)\n",
    "        print('Function called time is: {}'.format(function_called_time[func.__name__]))\n",
    "        return result\n",
    "    return _inner\n"
   ]
  },
  {
   "cell_type": "markdown",
   "metadata": {},
   "source": [
    "Decorators may cause a loss of important docs inside a function. See as follows:"
   ]
  },
  {
   "cell_type": "code",
   "execution_count": 42,
   "metadata": {},
   "outputs": [],
   "source": [
    "def func_x(n): \n",
    "    \"\"\"\n",
    "    @param n: the number of customers\n",
    "     \n",
    "    \"\"\"\n",
    "    for i in range(n):\n",
    "        print(n)\n",
    "    return 0\n"
   ]
  },
  {
   "cell_type": "code",
   "execution_count": 43,
   "metadata": {},
   "outputs": [
    {
     "name": "stdout",
     "output_type": "stream",
     "text": [
      "Help on function func_x in module __main__:\n",
      "\n",
      "func_x(n)\n",
      "    @param n: the number of customers\n",
      "\n"
     ]
    }
   ],
   "source": [
    "help(func_x)"
   ]
  },
  {
   "cell_type": "code",
   "execution_count": 53,
   "metadata": {},
   "outputs": [],
   "source": [
    "# Add a decorator. See docs changed.\n",
    "@get_call_time\n",
    "def func_x(n): \n",
    "    \"\"\"\n",
    "    @param n: the number of customers\n",
    "     \n",
    "    \"\"\"\n",
    "    for i in range(n):\n",
    "        print(n)\n",
    "    return 0\n"
   ]
  },
  {
   "cell_type": "code",
   "execution_count": 49,
   "metadata": {},
   "outputs": [
    {
     "name": "stdout",
     "output_type": "stream",
     "text": [
      "Help on function _wrap in module __main__:\n",
      "\n",
      "_wrap(arg)\n",
      "    It's a inner function.\n",
      "\n"
     ]
    }
   ],
   "source": [
    "help(func_x)"
   ]
  },
  {
   "cell_type": "code",
   "execution_count": 52,
   "metadata": {},
   "outputs": [],
   "source": [
    "# Use wraps to fix the problem.\n",
    "\n",
    "from functools import wraps\n",
    "\n",
    "def get_call_time(func):\n",
    "    @wraps(func)\n",
    "    \n",
    "    def _wrap(arg):\n",
    "        \"\"\" It's a inner function.\"\"\"\n",
    "        start = time.time()\n",
    "        result = func(arg)\n",
    "        print('Time used: {}'.format(time.time() - start))\n",
    "        return result\n",
    "    return _wrap\n"
   ]
  },
  {
   "cell_type": "code",
   "execution_count": 54,
   "metadata": {},
   "outputs": [
    {
     "name": "stdout",
     "output_type": "stream",
     "text": [
      "Help on function func_x in module __main__:\n",
      "\n",
      "func_x(n)\n",
      "    @param n: the number of customers\n",
      "\n"
     ]
    }
   ],
   "source": [
    "help(func_x)\n",
    "\n",
    "# Fix it!"
   ]
  },
  {
   "cell_type": "markdown",
   "metadata": {},
   "source": [
    "### 动态规划问题分析：\n",
    "\n",
    "1. 分析问题，找到重复子问题\n",
    "2. (利用装饰器) 存储子问题结果\n",
    "3. 取得解决方案"
   ]
  },
  {
   "cell_type": "markdown",
   "metadata": {},
   "source": [
    "## Parse Solution"
   ]
  },
  {
   "cell_type": "code",
   "execution_count": 60,
   "metadata": {},
   "outputs": [],
   "source": [
    "def not_cut(split): \n",
    "    return split == 0\n",
    "\n",
    "def parse_solution(target_length, revenue_solution):\n",
    "    left, right = revenue_solution[target_length]\n",
    "    \n",
    "    if not_cut(left): \n",
    "        return [right]\n",
    "    \n",
    "    return parse_solution(left, revenue_solution) + parse_solution(right, revenue_solution)\n",
    "\n",
    "\n",
    "    "
   ]
  },
  {
   "cell_type": "code",
   "execution_count": null,
   "metadata": {},
   "outputs": [],
   "source": [
    "# TypeError: _wrap() takes 1 positional argument but were given 2"
   ]
  },
  {
   "cell_type": "markdown",
   "metadata": {},
   "source": [
    "## P2: Edit Distance"
   ]
  },
  {
   "cell_type": "code",
   "execution_count": 75,
   "metadata": {},
   "outputs": [],
   "source": [
    "p2solution = {}"
   ]
  },
  {
   "cell_type": "code",
   "execution_count": 65,
   "metadata": {},
   "outputs": [],
   "source": [
    "@lru_cache(maxsize=2**10)\n",
    "# Abstract Examples:\n",
    "# 1. str1--- abcde | str2 --- abcd   (str1 delete tail)\n",
    "# 2. str1--- abcde | str2 --- abcdef (str1 add tail)\n",
    "# 3. str1--- abcde | str2 --- abcdh  (tail substitution)\n",
    "# Substitution => delete 1 char, add 1 char => total distance 2\n",
    "# Base case: one string is empty.\n",
    "\n",
    "def edit_distance(str1, str2):\n",
    "    \n",
    "    if len(str1) == 0: return len(str2)\n",
    "    if len(str2) == 0: return len(str1)\n",
    "    \n",
    "    str1_tail = str1[-1]\n",
    "    str2_tail = str2[-1]\n",
    "    \n",
    "    return min(\n",
    "    [\n",
    "        edit_distance(str1[:-1], str2) + 1, # str1 delete tail\n",
    "        edit_distance(str1, str2[:-1]) + 1, # str2 delete tail/str1 add tail\n",
    "        edit_distance(str1[:-1], str2[:-1]) + (0 if str1_tail == str2_tail else 2)\n",
    "    ]\n",
    "    )"
   ]
  },
  {
   "cell_type": "code",
   "execution_count": 62,
   "metadata": {},
   "outputs": [
    {
     "data": {
      "text/plain": [
       "3"
      ]
     },
     "execution_count": 62,
     "metadata": {},
     "output_type": "execute_result"
    }
   ],
   "source": [
    "edit_distance('beijing', 'beijingggg')"
   ]
  },
  {
   "cell_type": "code",
   "execution_count": 64,
   "metadata": {},
   "outputs": [
    {
     "data": {
      "text/plain": [
       "2"
      ]
     },
     "execution_count": 64,
     "metadata": {},
     "output_type": "execute_result"
    }
   ],
   "source": [
    "edit_distance('beijing', 'biejing')"
   ]
  },
  {
   "cell_type": "code",
   "execution_count": 67,
   "metadata": {},
   "outputs": [
    {
     "data": {
      "text/plain": [
       "7"
      ]
     },
     "execution_count": 67,
     "metadata": {},
     "output_type": "execute_result"
    }
   ],
   "source": [
    "edit_distance('我今日确实不想吃饭', '我今天真的不太想吃饭')"
   ]
  },
  {
   "cell_type": "code",
   "execution_count": 68,
   "metadata": {},
   "outputs": [
    {
     "data": {
      "text/plain": [
       "3"
      ]
     },
     "execution_count": 68,
     "metadata": {},
     "output_type": "execute_result"
    }
   ],
   "source": [
    "edit_distance('1010', '11100')"
   ]
  },
  {
   "cell_type": "code",
   "execution_count": 76,
   "metadata": {},
   "outputs": [],
   "source": [
    "@lru_cache(maxsize=2**10)\n",
    "def edit_distance(str1, str2):\n",
    "    \n",
    "    if len(str1) == 0: return len(str2)\n",
    "    if len(str2) == 0: return len(str1)\n",
    "    \n",
    "    str1_tail = str1[-1]\n",
    "    str2_tail = str2[-1]\n",
    "    \n",
    "    candidates = [\n",
    "        (edit_distance(str1[:-1], str2) + 1, 'DEL {}'.format(str1_tail)), # str1 delete tail\n",
    "        (edit_distance(str1, str2[:-1]) + 1, 'ADD {}'.format(str2_tail)), # str2 delete tail    \n",
    "    ]\n",
    "    \n",
    "    if str1_tail == str2_tail:\n",
    "        both_forward = (edit_distance(str1[:-1], str2[:-1]) + 0, '')\n",
    "    else:\n",
    "        both_forward = (edit_distance(str1[:-1], str2[:-1]) + 1, 'SUB {} => {}'.format(str1_tail, str2_tail))\n",
    "        # For parsing solution purpose, make substitution distance to 1. (sorting!)\n",
    "    \n",
    "    candidates.append(both_forward)\n",
    "   \n",
    "    min_distance, operation = min(candidates, key = lambda x: x[0])\n",
    "    \n",
    "    p2solution[(str1, str2)] = operation\n",
    "    \n",
    "    return min_distance"
   ]
  },
  {
   "cell_type": "code",
   "execution_count": 77,
   "metadata": {},
   "outputs": [
    {
     "data": {
      "text/plain": [
       "3"
      ]
     },
     "execution_count": 77,
     "metadata": {},
     "output_type": "execute_result"
    }
   ],
   "source": [
    "edit_distance('1010', '11100')"
   ]
  },
  {
   "cell_type": "code",
   "execution_count": 78,
   "metadata": {},
   "outputs": [
    {
     "data": {
      "text/plain": [
       "{('1', '1'): '',\n",
       " ('1', '11'): 'ADD 1',\n",
       " ('1', '111'): 'ADD 1',\n",
       " ('1', '1110'): 'ADD 0',\n",
       " ('1', '11100'): 'ADD 0',\n",
       " ('10', '1'): 'DEL 0',\n",
       " ('10', '11'): 'DEL 0',\n",
       " ('10', '111'): 'DEL 0',\n",
       " ('10', '1110'): '',\n",
       " ('10', '11100'): 'ADD 0',\n",
       " ('101', '1'): 'DEL 1',\n",
       " ('101', '11'): '',\n",
       " ('101', '111'): 'ADD 1',\n",
       " ('101', '1110'): 'DEL 1',\n",
       " ('101', '11100'): 'DEL 1',\n",
       " ('1010', '1'): 'DEL 0',\n",
       " ('1010', '11'): 'DEL 0',\n",
       " ('1010', '111'): 'DEL 0',\n",
       " ('1010', '1110'): '',\n",
       " ('1010', '11100'): 'ADD 0'}"
      ]
     },
     "execution_count": 78,
     "metadata": {},
     "output_type": "execute_result"
    }
   ],
   "source": [
    "p2solution"
   ]
  },
  {
   "cell_type": "code",
   "execution_count": 81,
   "metadata": {},
   "outputs": [
    {
     "data": {
      "text/plain": [
       "2"
      ]
     },
     "execution_count": 81,
     "metadata": {},
     "output_type": "execute_result"
    }
   ],
   "source": [
    "edit_distance('ABCD', 'ABCC')"
   ]
  },
  {
   "cell_type": "code",
   "execution_count": 82,
   "metadata": {},
   "outputs": [
    {
     "data": {
      "text/plain": [
       "{('1', '1'): '',\n",
       " ('1', '11'): 'ADD 1',\n",
       " ('1', '111'): 'ADD 1',\n",
       " ('1', '1110'): 'ADD 0',\n",
       " ('1', '11100'): 'ADD 0',\n",
       " ('10', '1'): 'DEL 0',\n",
       " ('10', '11'): 'DEL 0',\n",
       " ('10', '111'): 'DEL 0',\n",
       " ('10', '1110'): '',\n",
       " ('10', '11100'): 'ADD 0',\n",
       " ('101', '1'): 'DEL 1',\n",
       " ('101', '11'): '',\n",
       " ('101', '111'): 'ADD 1',\n",
       " ('101', '1110'): 'DEL 1',\n",
       " ('101', '11100'): 'DEL 1',\n",
       " ('1010', '1'): 'DEL 0',\n",
       " ('1010', '11'): 'DEL 0',\n",
       " ('1010', '111'): 'DEL 0',\n",
       " ('1010', '1110'): '',\n",
       " ('1010', '11100'): 'ADD 0',\n",
       " ('A', 'A'): '',\n",
       " ('A', 'AB'): 'ADD B',\n",
       " ('A', 'ABC'): 'ADD C',\n",
       " ('A', 'ABCC'): 'ADD C',\n",
       " ('AB', 'A'): 'DEL B',\n",
       " ('AB', 'AB'): '',\n",
       " ('AB', 'ABC'): 'ADD C',\n",
       " ('AB', 'ABCC'): 'ADD C',\n",
       " ('ABC', 'A'): 'DEL C',\n",
       " ('ABC', 'AB'): 'DEL C',\n",
       " ('ABC', 'ABC'): '',\n",
       " ('ABC', 'ABCC'): 'ADD C',\n",
       " ('ABCD', 'A'): 'DEL D',\n",
       " ('ABCD', 'AB'): 'DEL D',\n",
       " ('ABCD', 'ABC'): 'DEL D',\n",
       " ('ABCD', 'ABCC'): 'DEL D'}"
      ]
     },
     "execution_count": 82,
     "metadata": {},
     "output_type": "execute_result"
    }
   ],
   "source": [
    "p2solution"
   ]
  }
 ],
 "metadata": {
  "kernelspec": {
   "display_name": "Python 3",
   "language": "python",
   "name": "python3"
  },
  "language_info": {
   "codemirror_mode": {
    "name": "ipython",
    "version": 3
   },
   "file_extension": ".py",
   "mimetype": "text/x-python",
   "name": "python",
   "nbconvert_exporter": "python",
   "pygments_lexer": "ipython3",
   "version": "3.7.3"
  }
 },
 "nbformat": 4,
 "nbformat_minor": 2
}
