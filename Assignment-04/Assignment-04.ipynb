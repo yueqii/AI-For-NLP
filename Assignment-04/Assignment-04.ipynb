{
 "cells": [
  {
   "cell_type": "markdown",
   "metadata": {},
   "source": [
    "## Assignment of Lecture 04"
   ]
  },
  {
   "cell_type": "markdown",
   "metadata": {},
   "source": [
    "In this week, we need complete following tasks:\n",
    "+ Re-review the course online programming; \n",
    "+ Choose 1 - 2 books which you interested and keep reading; \n",
    "+ Answer the review questions\n",
    "+ Prepare the basic requirement of our 1st project. "
   ]
  },
  {
   "cell_type": "markdown",
   "metadata": {},
   "source": [
    "### Part I Review the online programming. "
   ]
  },
  {
   "cell_type": "markdown",
   "metadata": {},
   "source": [
    "### Part1-2: Finish the Solution Parse Part of Edit-Distance"
   ]
  },
  {
   "cell_type": "code",
   "execution_count": 1,
   "metadata": {},
   "outputs": [],
   "source": [
    "from functools import lru_cache"
   ]
  },
  {
   "cell_type": "code",
   "execution_count": 2,
   "metadata": {},
   "outputs": [],
   "source": [
    "solution = {}"
   ]
  },
  {
   "cell_type": "code",
   "execution_count": 41,
   "metadata": {},
   "outputs": [],
   "source": [
    "@lru_cache(maxsize=2**10)\n",
    "def edit_distance(str1, str2):\n",
    "    \n",
    "        if len(str1) == 0: return len(str2)\n",
    "        if len(str2) == 0: return len(str1)\n",
    "    \n",
    "        s1_tail = str1[-1]\n",
    "        s2_tail = str2[-1]\n",
    "    \n",
    "        candidates = [\n",
    "        (edit_distance(str1[:-1], str2) + 1, \"DEL {}\".format(s1_tail)),\n",
    "        (edit_distance(str1, str2[:-1]) + 1, \"ADD {}\".format(s2_tail))\n",
    "    ]\n",
    "    \n",
    "        if s1_tail == s2_tail:\n",
    "            both_forward = (edit_distance(str1[:-1], str2[:-1]) + 0, '')\n",
    "        else:\n",
    "            both_forward = (edit_distance(str1[:-1], str2[:-1]) + 1, 'SUB {} => {}'.format(s1_tail, s2_tail))\n",
    "        \n",
    "        candidates.append(both_forward)\n",
    "    \n",
    "        min_distance, operation = min(candidates, key=lambda x: x[0])\n",
    "        solution[(str1, str2)] = operation\n",
    "    \n",
    "        return min_distance"
   ]
  },
  {
   "cell_type": "code",
   "execution_count": 42,
   "metadata": {},
   "outputs": [
    {
     "data": {
      "text/plain": [
       "0"
      ]
     },
     "execution_count": 42,
     "metadata": {},
     "output_type": "execute_result"
    }
   ],
   "source": [
    "edit_distance('ABC', 'ABC')"
   ]
  },
  {
   "cell_type": "code",
   "execution_count": 15,
   "metadata": {},
   "outputs": [
    {
     "data": {
      "text/plain": [
       "'String1 and String2 are same now.'"
      ]
     },
     "execution_count": 15,
     "metadata": {},
     "output_type": "execute_result"
    }
   ],
   "source": [
    "solution[('ABC', 'ABC')]"
   ]
  },
  {
   "cell_type": "code",
   "execution_count": 22,
   "metadata": {},
   "outputs": [
    {
     "data": {
      "text/plain": [
       "2"
      ]
     },
     "execution_count": 22,
     "metadata": {},
     "output_type": "execute_result"
    }
   ],
   "source": [
    "edit_distance('ABDe', 'ABS')"
   ]
  },
  {
   "cell_type": "code",
   "execution_count": 43,
   "metadata": {},
   "outputs": [
    {
     "data": {
      "text/plain": [
       "{('A', 'A'): '',\n",
       " ('A', 'AB'): 'ADD B',\n",
       " ('A', 'ABD'): 'ADD D',\n",
       " ('AB', 'A'): 'DEL B',\n",
       " ('AB', 'AB'): '',\n",
       " ('AB', 'ABD'): 'ADD D',\n",
       " ('ABC', 'A'): 'DEL C',\n",
       " ('ABC', 'AB'): 'DEL C',\n",
       " ('ABC', 'ABD'): 'SUB C => D',\n",
       " ('ABC', 'ABC'): '',\n",
       " ('A', 'ABS'): 'ADD S',\n",
       " ('AB', 'ABS'): 'ADD S',\n",
       " ('ABD', 'A'): 'DEL D',\n",
       " ('ABD', 'AB'): 'DEL D',\n",
       " ('ABD', 'ABS'): 'SUB D => S',\n",
       " ('ABDe', 'A'): 'DEL e',\n",
       " ('ABDe', 'AB'): 'DEL e',\n",
       " ('ABDe', 'ABS'): 'DEL e',\n",
       " ('A', 'ABC'): 'ADD C',\n",
       " ('AB', 'ABC'): 'ADD C'}"
      ]
     },
     "execution_count": 43,
     "metadata": {},
     "output_type": "execute_result"
    }
   ],
   "source": [
    "solution"
   ]
  },
  {
   "cell_type": "code",
   "execution_count": 54,
   "metadata": {},
   "outputs": [],
   "source": [
    "def parse_solution(str1, str2, solution):\n",
    "    \"\"\" \n",
    "    Parse the solution to get each editing step.\n",
    "    \"\"\"\n",
    "    if str1 and str2:\n",
    "        \n",
    "        step = solution[(str1, str2)]\n",
    "        \n",
    "        if step == '':\n",
    "            return parse_solution(str1[:-1], str2[:-1], solution)\n",
    "        if step.startswith('DEL'): \n",
    "            return [step] + parse_solution(str1[:-1], str2, solution)\n",
    "        if step.startswith('ADD'):\n",
    "            return [step] + parse_solution(str1, str2[:-1], solution)\n",
    "        if step.startswith('SUB'):\n",
    "            return [step] + parse_solution(str1[:-1], str2[:-1], solution)\n",
    "        \n",
    "    return []"
   ]
  },
  {
   "cell_type": "code",
   "execution_count": 40,
   "metadata": {},
   "outputs": [
    {
     "data": {
      "text/plain": [
       "['DEL e', 'SUB D => S']"
      ]
     },
     "execution_count": 40,
     "metadata": {},
     "output_type": "execute_result"
    }
   ],
   "source": [
    "parse_solution('ABDe', 'ABS', solution)"
   ]
  },
  {
   "cell_type": "code",
   "execution_count": 48,
   "metadata": {},
   "outputs": [
    {
     "data": {
      "text/plain": [
       "5"
      ]
     },
     "execution_count": 48,
     "metadata": {},
     "output_type": "execute_result"
    }
   ],
   "source": [
    "edit_distance('Beijing', 'Biejrnger')"
   ]
  },
  {
   "cell_type": "code",
   "execution_count": 49,
   "metadata": {},
   "outputs": [
    {
     "data": {
      "text/plain": [
       "{('A', 'A'): '',\n",
       " ('A', 'AB'): 'ADD B',\n",
       " ('A', 'ABD'): 'ADD D',\n",
       " ('AB', 'A'): 'DEL B',\n",
       " ('AB', 'AB'): '',\n",
       " ('AB', 'ABD'): 'ADD D',\n",
       " ('ABC', 'A'): 'DEL C',\n",
       " ('ABC', 'AB'): 'DEL C',\n",
       " ('ABC', 'ABD'): 'SUB C => D',\n",
       " ('ABC', 'ABC'): '',\n",
       " ('A', 'ABS'): 'ADD S',\n",
       " ('AB', 'ABS'): 'ADD S',\n",
       " ('ABD', 'A'): 'DEL D',\n",
       " ('ABD', 'AB'): 'DEL D',\n",
       " ('ABD', 'ABS'): 'SUB D => S',\n",
       " ('ABDe', 'A'): 'DEL e',\n",
       " ('ABDe', 'AB'): 'DEL e',\n",
       " ('ABDe', 'ABS'): 'DEL e',\n",
       " ('A', 'ABC'): 'ADD C',\n",
       " ('AB', 'ABC'): 'ADD C',\n",
       " ('B', 'B'): '',\n",
       " ('B', 'Bi'): 'ADD i',\n",
       " ('B', 'Bie'): 'ADD e',\n",
       " ('B', 'Biej'): 'ADD j',\n",
       " ('B', 'Biejr'): 'ADD r',\n",
       " ('B', 'Biejrn'): 'ADD n',\n",
       " ('B', 'Biejrng'): 'ADD g',\n",
       " ('B', 'Biejrnge'): 'ADD e',\n",
       " ('B', 'Biejrnger'): 'ADD r',\n",
       " ('Be', 'B'): 'DEL e',\n",
       " ('Be', 'Bi'): 'SUB e => i',\n",
       " ('Be', 'Bie'): '',\n",
       " ('Be', 'Biej'): 'ADD j',\n",
       " ('Be', 'Biejr'): 'ADD r',\n",
       " ('Be', 'Biejrn'): 'ADD n',\n",
       " ('Be', 'Biejrng'): 'ADD g',\n",
       " ('Be', 'Biejrnge'): 'ADD e',\n",
       " ('Be', 'Biejrnger'): 'ADD r',\n",
       " ('Bei', 'B'): 'DEL i',\n",
       " ('Bei', 'Bi'): '',\n",
       " ('Bei', 'Bie'): 'DEL i',\n",
       " ('Bei', 'Biej'): 'SUB i => j',\n",
       " ('Bei', 'Biejr'): 'ADD r',\n",
       " ('Bei', 'Biejrn'): 'ADD n',\n",
       " ('Bei', 'Biejrng'): 'ADD g',\n",
       " ('Bei', 'Biejrnge'): 'ADD e',\n",
       " ('Bei', 'Biejrnger'): 'ADD r',\n",
       " ('Beij', 'B'): 'DEL j',\n",
       " ('Beij', 'Bi'): 'DEL j',\n",
       " ('Beij', 'Bie'): 'SUB j => e',\n",
       " ('Beij', 'Biej'): '',\n",
       " ('Beij', 'Biejr'): 'ADD r',\n",
       " ('Beij', 'Biejrn'): 'ADD n',\n",
       " ('Beij', 'Biejrng'): 'ADD g',\n",
       " ('Beij', 'Biejrnge'): 'ADD e',\n",
       " ('Beij', 'Biejrnger'): 'ADD r',\n",
       " ('Beiji', 'B'): 'DEL i',\n",
       " ('Beiji', 'Bi'): 'DEL i',\n",
       " ('Beiji', 'Bie'): 'DEL i',\n",
       " ('Beiji', 'Biej'): 'DEL i',\n",
       " ('Beiji', 'Biejr'): 'SUB i => r',\n",
       " ('Beiji', 'Biejrn'): 'ADD n',\n",
       " ('Beiji', 'Biejrng'): 'ADD g',\n",
       " ('Beiji', 'Biejrnge'): 'ADD e',\n",
       " ('Beiji', 'Biejrnger'): 'ADD r',\n",
       " ('Beijin', 'B'): 'DEL n',\n",
       " ('Beijin', 'Bi'): 'DEL n',\n",
       " ('Beijin', 'Bie'): 'DEL n',\n",
       " ('Beijin', 'Biej'): 'DEL n',\n",
       " ('Beijin', 'Biejr'): 'DEL n',\n",
       " ('Beijin', 'Biejrn'): '',\n",
       " ('Beijin', 'Biejrng'): 'ADD g',\n",
       " ('Beijin', 'Biejrnge'): 'ADD e',\n",
       " ('Beijin', 'Biejrnger'): 'ADD r',\n",
       " ('Beijing', 'B'): 'DEL g',\n",
       " ('Beijing', 'Bi'): 'DEL g',\n",
       " ('Beijing', 'Bie'): 'DEL g',\n",
       " ('Beijing', 'Biej'): 'DEL g',\n",
       " ('Beijing', 'Biejr'): 'DEL g',\n",
       " ('Beijing', 'Biejrn'): 'DEL g',\n",
       " ('Beijing', 'Biejrng'): '',\n",
       " ('Beijing', 'Biejrnge'): 'ADD e',\n",
       " ('Beijing', 'Biejrnger'): 'ADD r'}"
      ]
     },
     "execution_count": 49,
     "metadata": {},
     "output_type": "execute_result"
    }
   ],
   "source": [
    "solution"
   ]
  },
  {
   "cell_type": "code",
   "execution_count": 55,
   "metadata": {},
   "outputs": [
    {
     "data": {
      "text/plain": [
       "['ADD r', 'ADD e', 'SUB i => r', 'DEL i', 'ADD i']"
      ]
     },
     "execution_count": 55,
     "metadata": {},
     "output_type": "execute_result"
    }
   ],
   "source": [
    "parse_solution('Beijing', 'Biejrnger', solution)"
   ]
  },
  {
   "cell_type": "markdown",
   "metadata": {},
   "source": [
    "### Part 2 Choose 1 - 2 books to keep reading: \n",
    "\n",
    "+ SICP, Structure and Interpretation of Computer Programming. \n",
    "+ Introduction to Algorithms \n",
    "+ Artificial Intelligence A Modern Approach (3rd Edition) \n",
    "+ Code Complete 2 \n",
    "+ Programming Pearls \n",
    "+ Deep Learning\n",
    "+ 黑快与画家\n",
    "+ 数学之美\n",
    "+ Fluent Python\n",
    "+ Hands on Tensorflow\n",
    "+ Conference: NIPS_ ICML_ ICLR_ ACL_ AAAI\n",
    "\n",
    "> most books you may find in our github: https://github.com/Computing-Intelligence/References"
   ]
  },
  {
   "cell_type": "markdown",
   "metadata": {},
   "source": [
    "### Part 3: Answer following questions: "
   ]
  },
  {
   "cell_type": "markdown",
   "metadata": {},
   "source": [
    "1. Why do we need dynamic programming? What's the difference of dynamic programming and previous talked `search` problme? "
   ]
  },
  {
   "cell_type": "markdown",
   "metadata": {},
   "source": [
    "Ans: 相比于纯搜索，动态规划通过递归等将搜索问题解析成重复的子问题，并存储了子问题的答案，通过查表的方式提高了程序的运行效率，节省了许多时间。"
   ]
  },
  {
   "cell_type": "markdown",
   "metadata": {},
   "source": [
    "2. Why do we still need dynamic programming? Why not we train a machine learning to fit a function which could get the `right` answer based on inputs?"
   ]
  },
  {
   "cell_type": "markdown",
   "metadata": {},
   "source": [
    "Ans: 机器学习需要大量的训练数据，训练时间长，价值成本高，得到的是一个概率上近似的结果。在可以应用动态规划的情景下，相比于机器学习可以在较快时间内获得精确结果。"
   ]
  },
  {
   "cell_type": "markdown",
   "metadata": {},
   "source": [
    "3. Can you catch up at least 3 problems which could solved by Dynamic Programming? "
   ]
  },
  {
   "cell_type": "markdown",
   "metadata": {},
   "source": [
    "Ans: 1. 外卖派送线路优化；2. 词语相似度解析；3. 瓷砖切割（盈利最大化）"
   ]
  },
  {
   "cell_type": "markdown",
   "metadata": {},
   "source": [
    "4. Can you catch up at least 3 problems wich could sloved by Edit Distance? "
   ]
  },
  {
   "cell_type": "markdown",
   "metadata": {},
   "source": [
    "Ans: 1. 查找相似的词语；2. 拼写纠错；3. 抄袭评判"
   ]
  },
  {
   "cell_type": "markdown",
   "metadata": {},
   "source": [
    "5. Please summarize the three main features of Dynamic Programming, and make a concise explain for each feature. "
   ]
  },
  {
   "cell_type": "markdown",
   "metadata": {},
   "source": [
    "Ans: \n",
    "1. 动态规划需将一个大问题拆分成许多子问题，这些子问题具有重复性，或前一子问题对后一子问题的求解有帮助；\n",
    "2. 某状态以后的过程不会影响以前的状态，只与当前状态有关；\n",
    "3. 问题的最优解所包含的子问题的解也是最优的。\n",
    "\n",
    "因此DP问题可以分为三个步骤，分解子问题，存储子问题最优解，解析解决方案。"
   ]
  },
  {
   "cell_type": "markdown",
   "metadata": {},
   "source": [
    "6. What's the disadvantages of Dynamic Programming? (You may need search by yourself in Internet)"
   ]
  },
  {
   "cell_type": "markdown",
   "metadata": {},
   "source": [
    "Ans: 1. 动态规划问题没有一般性的模型，具体问题要具体分析； 2. 存储子问题结果可能会占用大量内存。"
   ]
  },
  {
   "cell_type": "markdown",
   "metadata": {},
   "source": [
    "## Part 4 Preparation of Project-01"
   ]
  },
  {
   "cell_type": "markdown",
   "metadata": {},
   "source": [
    "1. Using python Flask or Bottle to finish your first simple web app:\n",
    "> https://bottlepy.org/\n",
    "\n",
    "2. Learn what's the SQL, and try some simple SQL operations:\n",
    "> https://www.w3schools.com/sql/sql_intro.asp\n",
    "\n",
    "3. Learn what's the HTML ( *ONLY* need to know the basic things)\n",
    "> https://getbootstrap.com/; https://www.w3schools.com/html/"
   ]
  },
  {
   "cell_type": "markdown",
   "metadata": {},
   "source": [
    "### (Optinal) Finish the k-person-salesman problem:"
   ]
  },
  {
   "cell_type": "code",
   "execution_count": 56,
   "metadata": {},
   "outputs": [],
   "source": [
    "import random\n",
    "import matplotlib.pylab as plt"
   ]
  },
  {
   "cell_type": "code",
   "execution_count": 57,
   "metadata": {},
   "outputs": [],
   "source": [
    "latitudes = [random.randint(-100, 100) for _ in range(20)]\n",
    "longitude = [random.randint(-100, 100) for _ in range(20)]"
   ]
  },
  {
   "cell_type": "code",
   "execution_count": 58,
   "metadata": {},
   "outputs": [
    {
     "data": {
      "text/plain": [
       "<matplotlib.collections.PathCollection at 0x196bc927780>"
      ]
     },
     "execution_count": 58,
     "metadata": {},
     "output_type": "execute_result"
    },
    {
     "data": {
      "image/png": "[encoded data removed]",
      "text/plain": [
       "<Figure size 432x288 with 1 Axes>"
      ]
     },
     "metadata": {
      "needs_background": "light"
     },
     "output_type": "display_data"
    }
   ],
   "source": [
    "plt.scatter(latitudes, longitude)"
   ]
  },
  {
   "cell_type": "markdown",
   "metadata": {},
   "source": [
    "给定一个初始点 $P$, 已经 $k$个车辆，如何从该点出发，经这 k 个车辆经过所以的点全部一次，而且所走过的路程最短? "
   ]
  },
  {
   "cell_type": "markdown",
   "metadata": {},
   "source": [
    "例如： "
   ]
  },
  {
   "cell_type": "code",
   "execution_count": 59,
   "metadata": {},
   "outputs": [],
   "source": [
    "chosen_p = (5, 10)"
   ]
  },
  {
   "cell_type": "code",
   "execution_count": 60,
   "metadata": {},
   "outputs": [
    {
     "data": {
      "text/plain": [
       "<matplotlib.collections.PathCollection at 0x196bc987c50>"
      ]
     },
     "execution_count": 60,
     "metadata": {},
     "output_type": "execute_result"
    },
    {
     "data": {
      "image/png": "[encoded data removed]",
      "text/plain": [
       "<Figure size 432x288 with 1 Axes>"
      ]
     },
     "metadata": {
      "needs_background": "light"
     },
     "output_type": "display_data"
    }
   ],
   "source": [
    "plt.scatter(latitudes, longitude)\n",
    "plt.scatter([chosen_p[0]], [chosen_p[1]], color='r')"
   ]
  }
 ],
 "metadata": {
  "kernelspec": {
   "display_name": "Python 3",
   "language": "python",
   "name": "python3"
  },
  "language_info": {
   "codemirror_mode": {
    "name": "ipython",
    "version": 3
   },
   "file_extension": ".py",
   "mimetype": "text/x-python",
   "name": "python",
   "nbconvert_exporter": "python",
   "pygments_lexer": "ipython3",
   "version": "3.7.3"
  }
 },
 "nbformat": 4,
 "nbformat_minor": 2
}
