{
 "cells": [
  {
   "cell_type": "markdown",
   "metadata": {},
   "source": [
    "## 复习本节课的重要信息"
   ]
  },
  {
   "cell_type": "markdown",
   "metadata": {},
   "source": [
    "### A. 决策选择方法（eg:五道口卖烧饼问题：选择去哪里卖）\n",
    "1. K-nearest neighbours： 数据量较小时，方便计算 （普通统计方法）；\n",
    "2. Decision Tree： 层层决策，决策顺序从差异性最大的特征开始，依次做决策；\n",
    "3. Naive Bayesian Classification (统计概率方法)；\n",
    "4. 机器学习： 给定大量数据，训练机器预测最优决策。"
   ]
  },
  {
   "cell_type": "markdown",
   "metadata": {},
   "source": [
    "### B. 怎样衡量一个模型的分类性能？\n",
    "\n",
    "+ tp-True Positive，fn-False Negative，fp-False Positive，tn-True Negative (t/f 预测正确/错误 ;p/n 条件值真/假)\n",
    "_________________\n",
    "\n",
    "$$Accuracy = \\frac{tp+tn}{tp+tn+fp+fn}$$\n",
    "\n",
    "$$Precision = \\frac{tp}{tp+fp}$$\n",
    "\n",
    "$$Recall = \\frac{tp}{tp+fn}$$\n",
    "\n",
    "$$F1\\_ Score = \\frac{2*(Precision*Recall)}{Precision+Recall}$$\n",
    "\n",
    "$$F2\\_ Score = \\frac{5*(Precision*Recall)}{4*Precision+Recall}$$\n",
    "\n",
    "$$F\\_ Score = (1+ \\beta^2)*\\frac{(Precision*Recall)}{(\\beta^2)*Precision+Recall}$$\n",
    "\n",
    "$$MSE = \\frac{1}{n}*\\sum_{i=1}^n (Y_i - \\hat Y_i)^2$$"
   ]
  },
  {
   "cell_type": "markdown",
   "metadata": {},
   "source": [
    "* 其他方法：\n",
    "  * AOC/AUC\n",
    "  * Loss function\n",
    "  * Generation"
   ]
  },
  {
   "cell_type": "markdown",
   "metadata": {},
   "source": [
    "## Overfitting, Underfitting 定义和原因"
   ]
  },
  {
   "cell_type": "markdown",
   "metadata": {},
   "source": [
    "1. Overfitting 过拟合\n",
    "\n",
    "在机器学习中， 如果所选模型对训练集拟合程度极高，即该模型在已知数据上的预测效果趋于完美，而对未知数据验证集的预测效果很差，就称出现了过拟合现象。\n",
    "\n",
    "出现这种现象的原因有：\n",
    "* 训练集的数量级和模型的复杂度不匹配，模型的复杂度过高；\n",
    "* 训练集和测试集特征分布不一致；\n",
    "* 样本里的噪音数据干扰过大，真实的输入输出间的关系被忽略；\n",
    "* 权值学习迭代次数足够多(Overtraining)，拟合了训练数据中的噪声和训练样例中没有代表性的特征\n",
    "\n",
    "解决方法：\n",
    "* 在神经网络模型中，可使用权值衰减的方法，即每次迭代过程中以某个小因子降低每个权值。\n",
    "* 选取合适的停止训练标准，使对机器的训练在合适的程度；\n",
    "* 保留验证数据集，对训练成果进行验证；\n",
    "* 获取额外数据进行交叉验证；\n",
    "* 正则化，即在进行目标函数或代价函数优化时，在目标函数或代价函数后面加上一个正则项，一般有L1正则与L2正则等。"
   ]
  },
  {
   "cell_type": "markdown",
   "metadata": {},
   "source": [
    "2. Underfitting 欠拟合\n",
    "\n",
    "欠拟合是指模型在训练集和验证集上预测的结果都很差，相当于模型没能很好地学到训练数据的主要性质。出现原因可能是模型过于简单，特征过少或正则化处理过多。\n",
    "\n",
    "解决方案：\n",
    "* 继续学习并且更换机器学习算法\n",
    "* 添加其他特征项\n",
    "* 添加模型的复杂度：对于神经网络模型，可以通过增加网络的层数和每一层的神经元数目\n",
    "* 减少正则化参数"
   ]
  }
 ],
 "metadata": {
  "kernelspec": {
   "display_name": "Python 3",
   "language": "python",
   "name": "python3"
  },
  "language_info": {
   "codemirror_mode": {
    "name": "ipython",
    "version": 3
   },
   "file_extension": ".py",
   "mimetype": "text/x-python",
   "name": "python",
   "nbconvert_exporter": "python",
   "pygments_lexer": "ipython3",
   "version": "3.7.3"
  }
 },
 "nbformat": 4,
 "nbformat_minor": 2
}
