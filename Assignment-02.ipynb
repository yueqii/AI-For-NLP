{
 "cells": [
  {
   "cell_type": "markdown",
   "metadata": {},
   "source": [
    "# Assignment-02, Probability Model A First Look: An Introduction of Language Model"
   ]
  },
  {
   "cell_type": "markdown",
   "metadata": {},
   "source": [
    "## Assignment\n",
    "\n",
    "1. Review the course online programming code; \n",
    "2. Review the main questions; \n",
    "3. Using wikipedia corpus to build a language model. "
   ]
  },
  {
   "cell_type": "markdown",
   "metadata": {},
   "source": [
    "## 3. Using Wikipedia dataset to finish the language model. "
   ]
  },
  {
   "cell_type": "markdown",
   "metadata": {},
   "source": [
    "Step 1: You need to download the corpus from wikipedis:\n",
    "> https://dumps.wikimedia.org/zhwiki/20190401/\n",
    "\n",
    "Step 2: You may need the help of wiki-extractor:\n",
    "\n",
    "> https://github.com/attardi/wikiextractor\n",
    "\n",
    "Step 3: Using the technologies and methods to finish the language model; \n",
    "> \n",
    "\n",
    "Step 4: Try some interested sentence pairs, and check if your model could fit them\n",
    "\n",
    "> \n",
    "\n",
    "Step 5: If we need to solve following problems, how can language model help us? \n",
    "\n",
    "+ Voice Recognization.\n",
    "+ Sogou *pinyin* input.\n",
    "+ Auto correction in search engine. \n",
    "+ Abnormal Detection."
   ]
  },
  {
   "cell_type": "markdown",
   "metadata": {},
   "source": [
    "## 处理数据"
   ]
  },
  {
   "cell_type": "markdown",
   "metadata": {},
   "source": [
    "### 1. 从xml文件中提取纯文本\n",
    "\n",
    "用 WikiExtractor 处理下载的文件，因文件较大，提取部分内容合并存储至 myfile.txt 中。"
   ]
  },
  {
   "cell_type": "code",
   "execution_count": 125,
   "metadata": {},
   "outputs": [
    {
     "data": {
      "text/plain": [
       "'\\ufeffcopy * 合并文件.txt<doc id=\"13\" url=\"https://zh.wikipedia.org/wiki?curid=13\" title=\"数学\">\\n数学\\n\\n数学是利用符号语言研究數量、结构、变化以及空间等概念的一門学科，从某种角度看屬於形式科學的一種。數學透過抽象化和邏輯推理的使用，由計數、計算、量度和對物體形狀及運動的觀察而產生。數學家們拓展這些概念，為了公式化新的猜想以及從選定的公理及定義中建立起嚴謹推導出的定理。\\n\\n基礎數學的知識與運用總是個人與團體生活中不可或缺的一環。對數學基本概念的完善，早在古埃及、美索不達米亞及古印度內的古代數學文本便可觀見，而在古希臘那裡有更為嚴謹的處理。從那時開始，數學的發展便持續不斷地小幅進展，至16世紀的文藝復興時期，因为新的科學發現和數學革新兩者的交互，致使數學的加速发展，直至今日。数学并成为許多國家及地區的教育範疇中的一部分。\\n\\n今日，數學使用在不同的領域中，包括科學、工程、醫學、經濟學和金融學等。數學對這些領域的應用通常被稱為應用數學，有時亦會激起新的數學發現，並導致全新學科的發展，例如物理学的实质性发展中建立的某些理论激发数学家对于某些问题的不同角度的思考。數學家也研究純數學，就是數學本身的实质性內容，而不以任何實際應用為目標。雖然許多研究以純數學開始，但其过程中也發現許多應用之处。\\n\\n西方语言中“數學”（）一詞源自於古希臘語的（），其有“學習”、“學問”、“科學”，以及另外還有個較狹義且技術性的意思－「數學研究」，即使在其語源內。其形容詞（），意思為\"和學習有關的\"或\"用功的\"，亦會被用來指\"數學的\"。其在英语中表面上的複數形式，及在法语中的表面複數形式\\'，可溯至拉丁文的中性複數\\'，由西塞罗譯自希臘文複數（），此一希臘語被亚里士多德拿來指「萬物皆數」的概念。\\n\\n汉字表示的「數學」一詞大約产生于中国宋元時期。多指象數之學，但有時也含有今天上的數學意義，例如，秦九韶的《數學九章》（《永樂大典》記，即《數書九章》也被宋代周密所著的《癸辛雜識》記爲《數學大略》）、《數學通軌》（明代柯尚遷著）、《数学钥》（清代杜知耕著）、《數學拾遺》（清代丁取忠撰）。直到1939年，經過中國數學名詞審查委員會研究“算學”與“數學”兩詞的使用狀況後，確認以“數學”表示今天意義上的數學含義。\\n\\n數學有着久遠的歷史。它被認為起'"
      ]
     },
     "execution_count": 125,
     "metadata": {},
     "output_type": "execute_result"
    }
   ],
   "source": [
    "with open('myfile.txt', 'r') as f:\n",
    "    content = f.read()\n",
    "content[:1000]  "
   ]
  },
  {
   "cell_type": "code",
   "execution_count": 61,
   "metadata": {},
   "outputs": [],
   "source": [
    "# 去掉换行符和标点符号\n",
    "import re\n",
    "def token(string):\n",
    "    return ' '.join(re.findall('[\\w|\\d]+', string))"
   ]
  },
  {
   "cell_type": "code",
   "execution_count": 62,
   "metadata": {},
   "outputs": [
    {
     "data": {
      "text/plain": [
       "'copy 合并文件 txt doc id 13 url https zh wikipedia org wiki curid 13 title 数学 数学 数学是利用符号语言研究數量 结构 变化以及空间等概念的一門学科 从某种角度看屬於形式科學的一種 數學透過抽象化和邏輯推理的使用 由計數 計算 量度和對物體形狀及運動的觀察而產生 數學家們拓展這些概念 為了公式化新的猜想以及從選定的公理及定義中建立起嚴謹推導出的定理 基礎數學的知識與運用總是個人與團體生活中不可或缺的一環 對數學基本概念的完善 早在古埃及 美索不達米亞及古印度內的古代數學文本便可觀見 而在古希臘那裡有更為嚴謹的處理 從那時開始 數學的發展便持續不斷地小幅進展 至16世紀的文藝復興時期 因为新的科學發現和數學革新兩者的交互 致使數學的加速发展 直至今日 数学并成为許多國家及地區的教育範疇中的一部分 今日 數學使用在不同的領域中 包括科學 工程 醫學 經濟學和金融學等 數學對這些領域的應用通常被稱為應用數學 有時亦會激起新的數學發現 並導致全新學科的發展 例如物理学的实质性发展中建立的某些理论激发数学家对于某些问题的不同角度的思考 數學家也研究純數學 就是數學本身的实质性內容 而不以任何實際應用為目標 雖然許多研究以純數學開始 但其过程中也發現許多應用之处 西方语言中 數學 一詞源自於古希臘語的 其有 學習 學問 科學 以及另外還有個較狹義且技術性的意思 數學研究 即使在其語源內 其形容詞 意思為 和學習有關的 或 用功的 亦會被用來指 數學的 其在英语中表面上的複數形式 及在法语中的表面複數形式 可溯至拉丁文的中性複數 由西塞罗譯自希臘文複數 此一希臘語被亚里士多德拿來指 萬物皆數 的概念 汉字表示的 數學 一詞大約产生于中国宋元時期 多指象數之學 但有時也含有今天上的數學意義 例如 秦九韶的 數學九章 永樂大典 記 即 數書九章 也被宋代周密所著的 癸辛雜識 記爲 數學大略 數學通軌 明代柯尚遷著 数学钥 清代杜知耕著 數學拾遺 清代丁取忠撰 直到1939年 經過中國數學名詞審查委員會研究 算學 與 數學 兩詞的使用狀況後 確認以 數學 表示今天意義上的數學含義 數學有着久遠的歷史 它被認為起源於人類早期的生產活動 中國古代的六艺之一就有 數 數學一詞在西方有希腊语詞源 mathematikós 意思'"
      ]
     },
     "execution_count": 62,
     "metadata": {},
     "output_type": "execute_result"
    }
   ],
   "source": [
    "content = token(content)\n",
    "content[:1000]"
   ]
  },
  {
   "cell_type": "code",
   "execution_count": 57,
   "metadata": {},
   "outputs": [
    {
     "data": {
      "text/plain": [
       "71"
      ]
     },
     "execution_count": 57,
     "metadata": {},
     "output_type": "execute_result"
    }
   ],
   "source": [
    "content.find('数学')"
   ]
  },
  {
   "cell_type": "code",
   "execution_count": 63,
   "metadata": {},
   "outputs": [
    {
     "data": {
      "text/plain": [
       "'数学 数学 数学是利用符号语言研究數量 结构 变化以及空间等概念的一門学科 从某种角度看屬於形式科學的一種 數學透過抽象化和邏輯推理的使用 由計數 計算 量度和對物體形狀及運動的觀察而產生 數學家們拓'"
      ]
     },
     "execution_count": 63,
     "metadata": {},
     "output_type": "execute_result"
    }
   ],
   "source": [
    "# 去掉合并标记\n",
    "content = content[71:]\n",
    "content[:100]"
   ]
  },
  {
   "cell_type": "code",
   "execution_count": 65,
   "metadata": {},
   "outputs": [
    {
     "data": {
      "text/plain": [
       "'繁简转换器'"
      ]
     },
     "execution_count": 65,
     "metadata": {},
     "output_type": "execute_result"
    }
   ],
   "source": [
    "# 把繁体字转化为简体字\n",
    "from hanziconv import HanziConv\n",
    "HanziConv.toSimplified('繁簡轉換器')"
   ]
  },
  {
   "cell_type": "code",
   "execution_count": 66,
   "metadata": {},
   "outputs": [
    {
     "data": {
      "text/plain": [
       "'数学 数学 数学是利用符号语言研究数量 结构 变化以及空间等概念的一门学科 从某种角度看属于形式科学的一种 数学透过抽象化和逻辑推理的使用 由计数 计算 量度和对物体形状及运动的观察而产生 数学家们拓'"
      ]
     },
     "execution_count": 66,
     "metadata": {},
     "output_type": "execute_result"
    }
   ],
   "source": [
    "content = HanziConv.toSimplified(content)\n",
    "content[:100]"
   ]
  },
  {
   "cell_type": "markdown",
   "metadata": {},
   "source": [
    "### 2. 获取每个词出现的概率"
   ]
  },
  {
   "cell_type": "code",
   "execution_count": 68,
   "metadata": {},
   "outputs": [],
   "source": [
    "# Get all tokens\n",
    "import jieba\n",
    "def cut(string):\n",
    "    return list(jieba.cut(string))"
   ]
  },
  {
   "cell_type": "code",
   "execution_count": 69,
   "metadata": {},
   "outputs": [
    {
     "name": "stderr",
     "output_type": "stream",
     "text": [
      "Building prefix dict from the default dictionary ...\n",
      "2019-05-11 05:21:22,887: DEBUG: Building prefix dict from the default dictionary ...\n",
      "Loading model from cache C:\\Users\\thinkpad\\AppData\\Local\\Temp\\jieba.cache\n",
      "2019-05-11 05:21:22,898: DEBUG: Loading model from cache C:\\Users\\thinkpad\\AppData\\Local\\Temp\\jieba.cache\n",
      "Loading model cost 1.041 seconds.\n",
      "2019-05-11 05:21:23,937: DEBUG: Loading model cost 1.041 seconds.\n",
      "Prefix dict has been built succesfully.\n",
      "2019-05-11 05:21:23,940: DEBUG: Prefix dict has been built succesfully.\n"
     ]
    }
   ],
   "source": [
    "all_tokens = cut(content)"
   ]
  },
  {
   "cell_type": "code",
   "execution_count": 71,
   "metadata": {},
   "outputs": [
    {
     "data": {
      "text/plain": [
       "['数学',\n",
       " ' ',\n",
       " '数学',\n",
       " ' ',\n",
       " '数学',\n",
       " '是',\n",
       " '利用',\n",
       " '符号语言',\n",
       " '研究',\n",
       " '数量',\n",
       " ' ',\n",
       " '结构',\n",
       " ' ',\n",
       " '变化',\n",
       " '以及',\n",
       " '空间',\n",
       " '等',\n",
       " '概念',\n",
       " '的',\n",
       " '一门']"
      ]
     },
     "execution_count": 71,
     "metadata": {},
     "output_type": "execute_result"
    }
   ],
   "source": [
    "all_tokens[:20]"
   ]
  },
  {
   "cell_type": "code",
   "execution_count": 72,
   "metadata": {},
   "outputs": [],
   "source": [
    "valid_tokens = [t for t in all_tokens if t.strip()]"
   ]
  },
  {
   "cell_type": "code",
   "execution_count": 73,
   "metadata": {},
   "outputs": [
    {
     "data": {
      "text/plain": [
       "['数学',\n",
       " '数学',\n",
       " '数学',\n",
       " '是',\n",
       " '利用',\n",
       " '符号语言',\n",
       " '研究',\n",
       " '数量',\n",
       " '结构',\n",
       " '变化',\n",
       " '以及',\n",
       " '空间',\n",
       " '等',\n",
       " '概念',\n",
       " '的',\n",
       " '一门',\n",
       " '学科',\n",
       " '从',\n",
       " '某种',\n",
       " '角度看']"
      ]
     },
     "execution_count": 73,
     "metadata": {},
     "output_type": "execute_result"
    }
   ],
   "source": [
    "valid_tokens[:20]"
   ]
  },
  {
   "cell_type": "code",
   "execution_count": 74,
   "metadata": {},
   "outputs": [
    {
     "data": {
      "text/plain": [
       "[('的', 984867),\n",
       " ('在', 255319),\n",
       " ('年', 207999),\n",
       " ('是', 182701),\n",
       " ('和', 157811),\n",
       " ('了', 125518),\n",
       " ('为', 115956),\n",
       " ('与', 91380),\n",
       " ('有', 87706),\n",
       " ('月', 86406)]"
      ]
     },
     "execution_count": 74,
     "metadata": {},
     "output_type": "execute_result"
    }
   ],
   "source": [
    "# Get the frequency of each word.\n",
    "from collections import Counter\n",
    "\n",
    "# 获得每个词出现的次数\n",
    "count = Counter(valid_tokens)\n",
    "count.most_common(10)"
   ]
  },
  {
   "cell_type": "code",
   "execution_count": 75,
   "metadata": {},
   "outputs": [
    {
     "data": {
      "text/plain": [
       "17222458"
      ]
     },
     "execution_count": 75,
     "metadata": {},
     "output_type": "execute_result"
    }
   ],
   "source": [
    "countingList = [f for w,f in count.most_common()]\n",
    "Sum = sum(countingList)\n",
    "Sum"
   ]
  },
  {
   "cell_type": "markdown",
   "metadata": {},
   "source": [
    "### 3. one-Gram-Language-Mode"
   ]
  },
  {
   "cell_type": "code",
   "execution_count": 76,
   "metadata": {},
   "outputs": [],
   "source": [
    "def get_prob(word):\n",
    "    esp = 1 / Sum\n",
    "    if word in count:\n",
    "        return count[word] / Sum\n",
    "    return esp"
   ]
  },
  {
   "cell_type": "code",
   "execution_count": 84,
   "metadata": {},
   "outputs": [],
   "source": [
    "from functools import reduce\n",
    "\n",
    "def product(numbers):\n",
    "    return reduce(lambda n1, n2: n1 * n2, numbers)"
   ]
  },
  {
   "cell_type": "code",
   "execution_count": 79,
   "metadata": {},
   "outputs": [],
   "source": [
    "def language_model_one_gram(string):\n",
    "    words = cut(string)\n",
    "    return product([get_prob(w) for w in words])"
   ]
  },
  {
   "cell_type": "code",
   "execution_count": 85,
   "metadata": {},
   "outputs": [
    {
     "name": "stdout",
     "output_type": "stream",
     "text": [
      "明天晚上请你吃大餐，我们一起吃苹果 is more possible\n",
      "---- 今天晚上请你吃大餐，我们一起吃日料 with probility 7.673825434185232e-54\n",
      "---- 明天晚上请你吃大餐，我们一起吃苹果 with probility 3.8023287063092675e-52\n",
      "真是一只好看的小猫 is more possible\n",
      "---- 真事一只好看的小猫 with probility 4.167818851373744e-26\n",
      "---- 真是一只好看的小猫 with probility 3.37390484551119e-23\n",
      "今晚我去吃火锅 is more possible\n",
      "---- 我去吃火锅，今晚 with probility 6.0115496048405455e-28\n",
      "---- 今晚我去吃火锅 with probility 1.035336605842829e-20\n"
     ]
    }
   ],
   "source": [
    "need_compared = [\n",
    "    \"今天晚上请你吃大餐，我们一起吃日料 明天晚上请你吃大餐，我们一起吃苹果\",\n",
    "    \"真事一只好看的小猫 真是一只好看的小猫\",\n",
    "    \"我去吃火锅，今晚 今晚我去吃火锅\"\n",
    "]\n",
    "\n",
    "for s in need_compared:\n",
    "    s1, s2 = s.split()\n",
    "    p1, p2 = language_model_one_gram(s1), language_model_one_gram(s2)\n",
    "    \n",
    "    better = s1 if p1 > p2 else s2\n",
    "    \n",
    "    print('{} is more possible'.format(better))\n",
    "    print('-'*4 + ' {} with probility {}'.format(s1, p1))\n",
    "    print('-'*4 + ' {} with probility {}'.format(s2, p2))"
   ]
  },
  {
   "cell_type": "markdown",
   "metadata": {},
   "source": [
    "### 4. 2-Gram-Laguage-Model"
   ]
  },
  {
   "cell_type": "code",
   "execution_count": 88,
   "metadata": {},
   "outputs": [
    {
     "data": {
      "text/plain": [
       "['数学', '数学', '数学', '是', '利用', '符号语言', '研究', '数量', '结构', '变化']"
      ]
     },
     "execution_count": 88,
     "metadata": {},
     "output_type": "execute_result"
    }
   ],
   "source": [
    "valid_tokens[:10]"
   ]
  },
  {
   "cell_type": "code",
   "execution_count": 91,
   "metadata": {},
   "outputs": [],
   "source": [
    "# 获取两个词的词组\n",
    "all_2_grams_words = [''.join(valid_tokens[i:i+2]) for i in range(len(valid_tokens[:-2]))]\n",
    "\n",
    "# 获取词频\n",
    "all_2_gram_sum = len(all_2_grams_words)\n",
    "all_2_gram_counter = Counter(all_2_grams_words)\n",
    "\n",
    "def get_comb_prob(w1, w2):\n",
    "    if w1 + w2 in all_2_gram_counter: \n",
    "        return all_2_gram_counter[w1+w2] / all_2_gram_sum\n",
    "    else:\n",
    "        return 1 / all_2_gram_sum\n",
    "    \n",
    "def get_2gram_prob(previous, word):\n",
    "    return get_comb_prob(previous, word) / get_prob(previous)"
   ]
  },
  {
   "cell_type": "code",
   "execution_count": 94,
   "metadata": {},
   "outputs": [],
   "source": [
    "from icecream import ic"
   ]
  },
  {
   "cell_type": "code",
   "execution_count": 93,
   "metadata": {},
   "outputs": [
    {
     "name": "stdout",
     "output_type": "stream",
     "text": [
      "Collecting icecream\n",
      "  Downloading https://files.pythonhosted.org/packages/74/5e/de0daf80c25e99c8b33a07e4e45dce9bbf12dc0d42dbb17c979fc3ea9189/icecream-1.4.0-py2.py3-none-any.whl\n",
      "Collecting untokenize>=0.1.1 (from icecream)\n",
      "  Downloading https://files.pythonhosted.org/packages/f7/46/e7cea8159199096e1df52da20a57a6665da80c37fb8aeb848a3e47442c32/untokenize-0.1.1.tar.gz\n",
      "Requirement already satisfied: colorama>=0.3.9 in c:\\anaconda\\lib\\site-packages (from icecream) (0.4.1)\n",
      "Requirement already satisfied: pygments>=2.2.0 in c:\\anaconda\\lib\\site-packages (from icecream) (2.3.1)\n",
      "Building wheels for collected packages: untokenize\n",
      "  Building wheel for untokenize (setup.py): started\n",
      "  Building wheel for untokenize (setup.py): finished with status 'done'\n",
      "  Stored in directory: C:\\Users\\thinkpad\\AppData\\Local\\pip\\Cache\\wheels\\f4\\a0\\63\\012f35213063bcd1d92a1bb5f4a570fec73e2a0a335a9a7295\n",
      "Successfully built untokenize\n",
      "Installing collected packages: untokenize, icecream\n",
      "Successfully installed icecream-1.4.0 untokenize-0.1.1\n"
     ]
    }
   ],
   "source": [
    "!pip install icecream"
   ]
  },
  {
   "cell_type": "code",
   "execution_count": 96,
   "metadata": {},
   "outputs": [
    {
     "data": {
      "text/plain": [
       "0.0005192108598792607"
      ]
     },
     "execution_count": 96,
     "metadata": {},
     "output_type": "execute_result"
    }
   ],
   "source": [
    "get_2gram_prob('今天', '结束')"
   ]
  },
  {
   "cell_type": "code",
   "execution_count": 97,
   "metadata": {},
   "outputs": [
    {
     "data": {
      "text/plain": [
       "0.002857143188935588"
      ]
     },
     "execution_count": 97,
     "metadata": {},
     "output_type": "execute_result"
    }
   ],
   "source": [
    "get_2gram_prob('马上', '结束')"
   ]
  },
  {
   "cell_type": "code",
   "execution_count": 102,
   "metadata": {},
   "outputs": [],
   "source": [
    "def langauge_model_of_2_gram(sentence):\n",
    "    probability = 1\n",
    "    words = cut(sentence)\n",
    "    \n",
    "    for i, word in enumerate(words):\n",
    "        if i == 0: \n",
    "            prob = get_prob(word)\n",
    "        else:\n",
    "            previous = words[i-1]\n",
    "            prob = get_2gram_prob(previous, word)\n",
    "        probability *= prob\n",
    "        \n",
    "    return probability"
   ]
  },
  {
   "cell_type": "code",
   "execution_count": 116,
   "metadata": {},
   "outputs": [],
   "source": [
    "need_compared = [\n",
    "    \"今天晚上请你吃大餐，我们一起吃日料 明天晚上请你吃大餐，我们一起吃苹果\",\n",
    "    \"真事一只好看的小猫 真是一只好看的小猫\",\n",
    "    \"今晚我去吃火锅 今晚火锅去吃我\",\n",
    "    \"洋葱奶昔来一杯 养乐多绿来一杯\"\n",
    "]\n",
    "\n",
    "# 比较可能性\n",
    "def compare(need_compared):\n",
    "    \n",
    "    for s in need_compared:\n",
    "        s1, s2 = s.split()\n",
    "        p1, p2 = langauge_model_of_2_gram(s1), langauge_model_of_2_gram(s2)\n",
    "    \n",
    "        better = s1 if p1 > p2 else s2\n",
    "    \n",
    "        print('{} is more possible'.format(better))\n",
    "        print('-'*4 + ' {} with probility {}'.format(s1, p1))\n",
    "        print('-'*4 + ' {} with probility {}'.format(s2, p2))\n",
    "    \n",
    "    "
   ]
  },
  {
   "cell_type": "code",
   "execution_count": 117,
   "metadata": {},
   "outputs": [
    {
     "name": "stdout",
     "output_type": "stream",
     "text": [
      "今天晚上请你吃大餐，我们一起吃日料 is more possible\n",
      "---- 今天晚上请你吃大餐，我们一起吃日料 with probility 2.786281909491466e-26\n",
      "---- 明天晚上请你吃大餐，我们一起吃苹果 with probility 5.572563818982931e-27\n",
      "真是一只好看的小猫 is more possible\n",
      "---- 真事一只好看的小猫 with probility 9.477211986503678e-20\n",
      "---- 真是一只好看的小猫 with probility 1.956096326857869e-16\n",
      "今晚我去吃火锅 is more possible\n",
      "---- 今晚我去吃火锅 with probility 2.804759235743063e-14\n",
      "---- 今晚火锅去吃我 with probility 1.0633029138173752e-15\n",
      "养乐多绿来一杯 is more possible\n",
      "---- 洋葱奶昔来一杯 with probility 6.884484401984537e-12\n",
      "---- 养乐多绿来一杯 with probility 5.8063734703543783e-08\n"
     ]
    }
   ],
   "source": [
    "compare(need_compared)"
   ]
  },
  {
   "cell_type": "code",
   "execution_count": 123,
   "metadata": {},
   "outputs": [],
   "source": [
    "news = [\"4月4日，美国方面发布了加征关税的商品清单。 4月32日，委内瑞拉方面发布了加征关税的国家清单。\", \n",
    "       \"经国务院批准，对原产于美国的大豆、汽车、化工品等加征25%的关税。 经足球队批准，对原产于美国的花生、瓜子、啤酒豆等加征25%的关税。\"]"
   ]
  },
  {
   "cell_type": "code",
   "execution_count": 124,
   "metadata": {},
   "outputs": [
    {
     "name": "stdout",
     "output_type": "stream",
     "text": [
      "4月4日，美国方面发布了加征关税的商品清单。 is more possible\n",
      "---- 4月4日，美国方面发布了加征关税的商品清单。 with probility 4.0765970402074093e-35\n",
      "---- 4月32日，委内瑞拉方面发布了加征关税的国家清单。 with probility 1.1092171181337347e-39\n",
      "经国务院批准，对原产于美国的大豆、汽车、化工品等加征25%的关税。 is more possible\n",
      "---- 经国务院批准，对原产于美国的大豆、汽车、化工品等加征25%的关税。 with probility 1.2038212457205636e-41\n",
      "---- 经足球队批准，对原产于美国的花生、瓜子、啤酒豆等加征25%的关税。 with probility 5.069754478791504e-46\n"
     ]
    }
   ],
   "source": [
    "compare(news)"
   ]
  },
  {
   "cell_type": "markdown",
   "metadata": {},
   "source": [
    "## 其他尝试"
   ]
  },
  {
   "cell_type": "code",
   "execution_count": 1,
   "metadata": {},
   "outputs": [
    {
     "name": "stdout",
     "output_type": "stream",
     "text": [
      "Collecting wiki_dump_parser\n",
      "  Downloading https://files.pythonhosted.org/packages/79/a9/e26a0e1077d641c0f7cf3018d1d5d4ce17657822b5ca1485e05539189527/wiki_dump_parser-2.0.0.tar.gz\n",
      "Building wheels for collected packages: wiki-dump-parser\n",
      "  Building wheel for wiki-dump-parser (setup.py): started\n",
      "  Building wheel for wiki-dump-parser (setup.py): finished with status 'done'\n",
      "  Stored in directory: C:\\Users\\thinkpad\\AppData\\Local\\pip\\Cache\\wheels\\40\\86\\07\\4ea14644071b5253f81fb4756934af200ed2711ffcf4f6d9f1\n",
      "Successfully built wiki-dump-parser\n",
      "Installing collected packages: wiki-dump-parser\n",
      "Successfully installed wiki-dump-parser-2.0.0\n"
     ]
    }
   ],
   "source": [
    "### 尝试转换为csv文件\n",
    "!pip install wiki_dump_parser"
   ]
  },
  {
   "cell_type": "code",
   "execution_count": 2,
   "metadata": {},
   "outputs": [],
   "source": [
    "import wiki_dump_parser as parser"
   ]
  },
  {
   "cell_type": "code",
   "execution_count": 4,
   "metadata": {},
   "outputs": [
    {
     "name": "stdout",
     "output_type": "stream",
     "text": [
      "Processing...\n",
      "Done processing\n"
     ]
    },
    {
     "data": {
      "text/plain": [
       "True"
      ]
     },
     "execution_count": 4,
     "metadata": {},
     "output_type": "execute_result"
    }
   ],
   "source": [
    "parser.xml_to_csv('zhwiki-20190401-pages-articles-multistream1.xml-p1p162886')"
   ]
  },
  {
   "cell_type": "code",
   "execution_count": 5,
   "metadata": {},
   "outputs": [],
   "source": [
    "import pandas as pd"
   ]
  },
  {
   "cell_type": "code",
   "execution_count": 10,
   "metadata": {},
   "outputs": [
    {
     "data": {
      "text/html": [
       "<div>\n",
       "<style scoped>\n",
       "    .dataframe tbody tr th:only-of-type {\n",
       "        vertical-align: middle;\n",
       "    }\n",
       "\n",
       "    .dataframe tbody tr th {\n",
       "        vertical-align: top;\n",
       "    }\n",
       "\n",
       "    .dataframe thead th {\n",
       "        text-align: right;\n",
       "    }\n",
       "</style>\n",
       "<table border=\"1\" class=\"dataframe\">\n",
       "  <thead>\n",
       "    <tr style=\"text-align: right;\">\n",
       "      <th></th>\n",
       "      <th>page_id</th>\n",
       "      <th>page_title</th>\n",
       "      <th>page_ns</th>\n",
       "      <th>revision_id</th>\n",
       "      <th>timestamp</th>\n",
       "      <th>contributor_id</th>\n",
       "      <th>contributor_name</th>\n",
       "      <th>bytes</th>\n",
       "    </tr>\n",
       "  </thead>\n",
       "  <tbody>\n",
       "    <tr>\n",
       "      <th>100</th>\n",
       "      <td>275</td>\n",
       "      <td>宗教</td>\n",
       "      <td>0</td>\n",
       "      <td>52808229</td>\n",
       "      <td>2019-01-16T03:39:37Z</td>\n",
       "      <td>1540973</td>\n",
       "      <td>Star021231</td>\n",
       "      <td>-1</td>\n",
       "    </tr>\n",
       "    <tr>\n",
       "      <th>101</th>\n",
       "      <td>278</td>\n",
       "      <td>图书馆学</td>\n",
       "      <td>0</td>\n",
       "      <td>52297263</td>\n",
       "      <td>2018-12-07T10:34:19Z</td>\n",
       "      <td>602004</td>\n",
       "      <td>淺藍雪</td>\n",
       "      <td>-1</td>\n",
       "    </tr>\n",
       "    <tr>\n",
       "      <th>102</th>\n",
       "      <td>280</td>\n",
       "      <td>年表列表</td>\n",
       "      <td>0</td>\n",
       "      <td>47520421</td>\n",
       "      <td>2017-12-25T13:03:35Z</td>\n",
       "      <td>2279344</td>\n",
       "      <td>Dicman2029</td>\n",
       "      <td>-1</td>\n",
       "    </tr>\n",
       "    <tr>\n",
       "      <th>103</th>\n",
       "      <td>284</td>\n",
       "      <td>义勇军进行曲</td>\n",
       "      <td>0</td>\n",
       "      <td>53431595</td>\n",
       "      <td>2019-03-03T13:46:46Z</td>\n",
       "      <td>2517166</td>\n",
       "      <td>人人生來平等</td>\n",
       "      <td>-1</td>\n",
       "    </tr>\n",
       "    <tr>\n",
       "      <th>104</th>\n",
       "      <td>287</td>\n",
       "      <td>夏商周年表</td>\n",
       "      <td>0</td>\n",
       "      <td>52264255</td>\n",
       "      <td>2018-12-04T16:49:04Z</td>\n",
       "      <td>1257031</td>\n",
       "      <td>Happyseeu</td>\n",
       "      <td>-1</td>\n",
       "    </tr>\n",
       "    <tr>\n",
       "      <th>105</th>\n",
       "      <td>290</td>\n",
       "      <td>秦汉三国历史年表</td>\n",
       "      <td>0</td>\n",
       "      <td>39065246</td>\n",
       "      <td>2016-02-13T19:59:01Z</td>\n",
       "      <td>1401447</td>\n",
       "      <td>GZWDer</td>\n",
       "      <td>-1</td>\n",
       "    </tr>\n",
       "    <tr>\n",
       "      <th>106</th>\n",
       "      <td>291</td>\n",
       "      <td>人物</td>\n",
       "      <td>0</td>\n",
       "      <td>44173807</td>\n",
       "      <td>2017-04-29T11:17:00Z</td>\n",
       "      <td>870953</td>\n",
       "      <td>Alexander Misel</td>\n",
       "      <td>-1</td>\n",
       "    </tr>\n",
       "    <tr>\n",
       "      <th>107</th>\n",
       "      <td>297</td>\n",
       "      <td>教育</td>\n",
       "      <td>0</td>\n",
       "      <td>52150830</td>\n",
       "      <td>2018-11-25T10:30:10Z</td>\n",
       "      <td>2517132</td>\n",
       "      <td>EnflyZ</td>\n",
       "      <td>-1</td>\n",
       "    </tr>\n",
       "    <tr>\n",
       "      <th>108</th>\n",
       "      <td>299</td>\n",
       "      <td>计算语言学</td>\n",
       "      <td>0</td>\n",
       "      <td>51393673</td>\n",
       "      <td>2018-09-23T11:56:03Z</td>\n",
       "      <td>2383178</td>\n",
       "      <td>InternetArchiveBot</td>\n",
       "      <td>-1</td>\n",
       "    </tr>\n",
       "    <tr>\n",
       "      <th>109</th>\n",
       "      <td>300</td>\n",
       "      <td>语音合成</td>\n",
       "      <td>0</td>\n",
       "      <td>52841633</td>\n",
       "      <td>2019-01-18T14:05:11Z</td>\n",
       "      <td>2648187</td>\n",
       "      <td>MeritTim</td>\n",
       "      <td>-1</td>\n",
       "    </tr>\n",
       "    <tr>\n",
       "      <th>110</th>\n",
       "      <td>301</td>\n",
       "      <td>Wikipedia:繁简处理</td>\n",
       "      <td>4</td>\n",
       "      <td>51506370</td>\n",
       "      <td>2018-10-03T11:35:45Z</td>\n",
       "      <td>2353084</td>\n",
       "      <td>TongcyDai</td>\n",
       "      <td>-1</td>\n",
       "    </tr>\n",
       "    <tr>\n",
       "      <th>111</th>\n",
       "      <td>305</td>\n",
       "      <td>第二次世界大战</td>\n",
       "      <td>0</td>\n",
       "      <td>53699749</td>\n",
       "      <td>2019-03-23T10:13:12Z</td>\n",
       "      <td>42.200.96.187</td>\n",
       "      <td>Anonymous</td>\n",
       "      <td>-1</td>\n",
       "    </tr>\n",
       "    <tr>\n",
       "      <th>112</th>\n",
       "      <td>306</td>\n",
       "      <td>辽宁省</td>\n",
       "      <td>0</td>\n",
       "      <td>53312743</td>\n",
       "      <td>2019-02-23T09:27:28Z</td>\n",
       "      <td>2651760</td>\n",
       "      <td>华夏永垂不朽</td>\n",
       "      <td>-1</td>\n",
       "    </tr>\n",
       "    <tr>\n",
       "      <th>113</th>\n",
       "      <td>309</td>\n",
       "      <td>海外華人</td>\n",
       "      <td>0</td>\n",
       "      <td>53754423</td>\n",
       "      <td>2019-03-27T07:23:11Z</td>\n",
       "      <td>2449594</td>\n",
       "      <td>Miao870714</td>\n",
       "      <td>-1</td>\n",
       "    </tr>\n",
       "    <tr>\n",
       "      <th>114</th>\n",
       "      <td>311</td>\n",
       "      <td>Wikipedia:命名常规</td>\n",
       "      <td>4</td>\n",
       "      <td>52875167</td>\n",
       "      <td>2019-01-21T06:19:47Z</td>\n",
       "      <td>1401447</td>\n",
       "      <td>GZWDer</td>\n",
       "      <td>-1</td>\n",
       "    </tr>\n",
       "    <tr>\n",
       "      <th>115</th>\n",
       "      <td>314</td>\n",
       "      <td>Wikipedia:中立的观点</td>\n",
       "      <td>4</td>\n",
       "      <td>52730246</td>\n",
       "      <td>2019-01-10T14:12:44Z</td>\n",
       "      <td>1572602</td>\n",
       "      <td>Sanmosa</td>\n",
       "      <td>-1</td>\n",
       "    </tr>\n",
       "    <tr>\n",
       "      <th>116</th>\n",
       "      <td>317</td>\n",
       "      <td>人工智能</td>\n",
       "      <td>0</td>\n",
       "      <td>53802357</td>\n",
       "      <td>2019-03-30T15:28:09Z</td>\n",
       "      <td>223.141.237.201</td>\n",
       "      <td>Anonymous</td>\n",
       "      <td>-1</td>\n",
       "    </tr>\n",
       "    <tr>\n",
       "      <th>117</th>\n",
       "      <td>323</td>\n",
       "      <td>Wikipedia:勇于更新页面</td>\n",
       "      <td>4</td>\n",
       "      <td>52682431</td>\n",
       "      <td>2019-01-06T15:47:43Z</td>\n",
       "      <td>1956477</td>\n",
       "      <td>Tang891228</td>\n",
       "      <td>-1</td>\n",
       "    </tr>\n",
       "    <tr>\n",
       "      <th>118</th>\n",
       "      <td>327</td>\n",
       "      <td>中华人民共和国国旗</td>\n",
       "      <td>0</td>\n",
       "      <td>53791050</td>\n",
       "      <td>2019-03-30T01:04:15Z</td>\n",
       "      <td>2605858</td>\n",
       "      <td>陈龙英</td>\n",
       "      <td>-1</td>\n",
       "    </tr>\n",
       "    <tr>\n",
       "      <th>119</th>\n",
       "      <td>328</td>\n",
       "      <td>Wikipedia:关于</td>\n",
       "      <td>4</td>\n",
       "      <td>52803315</td>\n",
       "      <td>2019-01-15T15:55:53Z</td>\n",
       "      <td>1135158</td>\n",
       "      <td>Great Brightstar</td>\n",
       "      <td>-1</td>\n",
       "    </tr>\n",
       "  </tbody>\n",
       "</table>\n",
       "</div>"
      ],
      "text/plain": [
       "     page_id        page_title  page_ns  revision_id             timestamp  \\\n",
       "100      275                宗教        0     52808229  2019-01-16T03:39:37Z   \n",
       "101      278              图书馆学        0     52297263  2018-12-07T10:34:19Z   \n",
       "102      280              年表列表        0     47520421  2017-12-25T13:03:35Z   \n",
       "103      284            义勇军进行曲        0     53431595  2019-03-03T13:46:46Z   \n",
       "104      287             夏商周年表        0     52264255  2018-12-04T16:49:04Z   \n",
       "105      290          秦汉三国历史年表        0     39065246  2016-02-13T19:59:01Z   \n",
       "106      291                人物        0     44173807  2017-04-29T11:17:00Z   \n",
       "107      297                教育        0     52150830  2018-11-25T10:30:10Z   \n",
       "108      299             计算语言学        0     51393673  2018-09-23T11:56:03Z   \n",
       "109      300              语音合成        0     52841633  2019-01-18T14:05:11Z   \n",
       "110      301    Wikipedia:繁简处理        4     51506370  2018-10-03T11:35:45Z   \n",
       "111      305           第二次世界大战        0     53699749  2019-03-23T10:13:12Z   \n",
       "112      306               辽宁省        0     53312743  2019-02-23T09:27:28Z   \n",
       "113      309              海外華人        0     53754423  2019-03-27T07:23:11Z   \n",
       "114      311    Wikipedia:命名常规        4     52875167  2019-01-21T06:19:47Z   \n",
       "115      314   Wikipedia:中立的观点        4     52730246  2019-01-10T14:12:44Z   \n",
       "116      317              人工智能        0     53802357  2019-03-30T15:28:09Z   \n",
       "117      323  Wikipedia:勇于更新页面        4     52682431  2019-01-06T15:47:43Z   \n",
       "118      327         中华人民共和国国旗        0     53791050  2019-03-30T01:04:15Z   \n",
       "119      328      Wikipedia:关于        4     52803315  2019-01-15T15:55:53Z   \n",
       "\n",
       "      contributor_id    contributor_name  bytes  \n",
       "100          1540973          Star021231     -1  \n",
       "101           602004                 淺藍雪     -1  \n",
       "102          2279344          Dicman2029     -1  \n",
       "103          2517166              人人生來平等     -1  \n",
       "104          1257031           Happyseeu     -1  \n",
       "105          1401447              GZWDer     -1  \n",
       "106           870953     Alexander Misel     -1  \n",
       "107          2517132              EnflyZ     -1  \n",
       "108          2383178  InternetArchiveBot     -1  \n",
       "109          2648187            MeritTim     -1  \n",
       "110          2353084           TongcyDai     -1  \n",
       "111    42.200.96.187           Anonymous     -1  \n",
       "112          2651760              华夏永垂不朽     -1  \n",
       "113          2449594          Miao870714     -1  \n",
       "114          1401447              GZWDer     -1  \n",
       "115          1572602             Sanmosa     -1  \n",
       "116  223.141.237.201           Anonymous     -1  \n",
       "117          1956477          Tang891228     -1  \n",
       "118          2605858                 陈龙英     -1  \n",
       "119          1135158    Great Brightstar     -1  "
      ]
     },
     "execution_count": 10,
     "metadata": {},
     "output_type": "execute_result"
    }
   ],
   "source": [
    "data = pd.read_csv('zhwiki-20190401-pages-articles-multistream1.xml-p1p162csv', quotechar='|', index_col = False)\n",
    "data[100:120]"
   ]
  },
  {
   "cell_type": "markdown",
   "metadata": {},
   "source": [
    "### 上述parser不提取wiki dump的词条内容。"
   ]
  },
  {
   "cell_type": "code",
   "execution_count": 49,
   "metadata": {},
   "outputs": [
    {
     "name": "stdout",
     "output_type": "stream",
     "text": [
      "Requirement already satisfied: wiki_dump_reader in c:\\anaconda\\lib\\site-packages (0.0.4)\n"
     ]
    }
   ],
   "source": [
    "## 尝试使用 wiki_dump_reader\n",
    "!pip install wiki_dump_reader"
   ]
  },
  {
   "cell_type": "code",
   "execution_count": 12,
   "metadata": {},
   "outputs": [],
   "source": [
    "from wiki_dump_reader import Cleaner, iterate\n",
    "\n",
    "cleaner = Cleaner()\n",
    "for title, text in iterate('zhwiki-20190401-pages-articles-multistream1.xml-p1p162886'):\n",
    "    text = cleaner.clean_text(text)\n",
    "    cleaned_text, links = cleaner.build_links(text)"
   ]
  },
  {
   "cell_type": "code",
   "execution_count": 13,
   "metadata": {},
   "outputs": [
    {
     "data": {
      "text/plain": [
       "'本条目所列为源自19'"
      ]
     },
     "execution_count": 13,
     "metadata": {},
     "output_type": "execute_result"
    }
   ],
   "source": [
    "text[:10]"
   ]
  },
  {
   "cell_type": "code",
   "execution_count": 16,
   "metadata": {},
   "outputs": [
    {
     "data": {
      "text/plain": [
       "'本条目所列为源自1983年4月9日[[中华人民共和国国务院]]批转《国务院宗教事务局关于确定汉族地区佛道教全国重点寺观的报告》，附件所列[[中国]]汉族地区佛教全国重点寺院名单，均为[[中国大陆]]境内[[汉族]]地区重要[[佛教]][[佛教寺庙|寺庙]]，共142座。名称以公布时为准。\\n==[[北京]]==\\n[[广济寺 (北京市)|广济寺]]\\n[[法源寺 (北京)|法源寺]]\\n[[灵光寺 (北京)|佛牙舍利塔]]\\n[[广化寺 (北京市)|广化寺]]\\n[[通教寺]]\\n[[雍和宫]]\\n[[西黄寺]]\\n==[[天津]]==\\n[[大悲禪院|大悲院]]\\n==[[河北]]==\\n[[正定县]][[临济寺|临济塔院]]\\n[[承德市]][[普宁寺]]\\n==[[山西]]==\\n[[太原市]][[崇善寺]]\\n[[大同市]][[上华严寺]]\\n[[交城县]][[玄中寺]]\\n[[五台山]]：[[显通寺]]、[[塔院寺]]、[[菩萨顶]]、[[殊像寺 (五台山)|殊像寺]]、[[罗睺寺]]、[[五台山金阁寺|金阁寺]]、[[广宗寺 (五台山)|广宗寺]]、[[碧山寺]]（[[广济茅蓬]]）、[[十方堂]]、[[黛螺顶]]、[[五台山观音洞|观音洞]]\\n==[[辽宁]]==\\n[[沈阳市]][[般若寺 (沈阳市)|般若寺]]\\n沈阳市[[慈恩寺 (沈阳市)|慈恩寺]]\\n==[[吉林]]==\\n[[长春市]][[般若寺 (长春市)|般若寺]]\\n长春市[[地藏寺]]\\n[[吉林市]][[观音古刹]]\\n==[[黑龙江]]==\\n[[哈尔滨市]][[极乐寺]]\\n==[[上海]]==\\n[[玉佛寺 (上海)|玉佛寺]]\\n[[静安寺]]\\n[[龙华寺 (上海)|龙华寺]]\\n[[沉香阁]]\\n[[圆明讲堂]]\\n==[[江苏]]==\\n[[南京市]][[灵谷寺]]\\n南京市[[栖霞寺]]\\n[[苏州市]][[西园戒幢律寺]]\\n苏州市[[寒山寺]]\\n苏州市[[灵岩山寺]]\\n[[镇江市]][[金山_(镇江)|金山]][[江天寺]]\\n镇江市[[焦山]][[定慧寺 (镇江市)|定慧寺]]\\n[[常州市]][[常州天宁寺|天宁寺]]\\n[[常熟县]]（今常熟市）[[兴福寺 (常熟市)|虞山兴福寺]]\\n[[南通市]][[广教寺]]（[[大圣寺]]）\\n[[扬州市]][[大明寺]]\\n[[邗江县]]（今邗江区）[[高旻寺]]\\n[[句容县]]（今句容市）[[隆昌寺]]\\n==[[浙江]]==\\n[[杭州市]][[灵隐寺]]\\n杭州市[[净慈寺]]\\n[[宁波市]][[七塔寺]]\\n[[鄞县]]（今鄞州区）[[天童寺]]\\n鄞县[[阿育王寺]]\\n[[新昌县]][[大佛寺 (新昌县)|大佛寺]]\\n[[普陀山]]：[[普济寺 (普陀山)|普济寺]]、[[法雨寺 (普陀山)|法雨寺]]、[[慧济寺]]\\n[[天台县]][[国清寺]]（包括[[智者塔院]]）\\n天台县[[高明寺]]\\n天台县[[方广寺 (天台县)|方广寺]]\\n[[温州市]][[江心寺]]\\n==[[安徽]]==\\n[[合肥市]][[明教寺]]\\n[[安庆市]][[迎江寺]]\\n[[潜山县]][[乾元禅寺]]\\n[[滁县]]（今滁州市）[[琅琊寺]]\\n[[芜湖市]][[广济寺 (芜湖市)|广济寺]]\\n[[九华山]]：[[化城寺]]、[[肉身殿]]、[[百岁宫]]、[[甘露寺 (九华山)|甘露寺]]、[[祗园寺]]、[[天台寺]]、[[旃檀林]]、[[慧居寺]]、[[上禅堂]]\\n==[[福建]]==\\n[[福州市]][[湧泉寺 (福州)|涌泉寺]]\\n福州市[[西禅寺]]\\n福州市[[林阳寺]]\\n福州市[[地藏寺 (福州市)|地藏寺]]\\n[[闽侯县]][[崇圣寺 (闽侯)|雪峰崇圣寺]]\\n[[厦门市]][[南普陀寺]]\\n[[莆田县]]（今莆田市）[[广化寺_(莆田)|广化寺]]\\n莆田县[[慈寿寺|囊山慈寿寺]]\\n莆田县[[光孝寺 (莆田)|光孝寺]]\\n[[福清县]]（今福清市）[[万福寺]]\\n[[泉州市]][[开元寺 (泉州市)|开元寺]]\\n[[晋江县]]（今晋江市）[[龙山寺]]\\n[[漳州市]][[南山寺]]\\n[[宁德县]]（今宁德县）[[支提华严寺]]\\n==[[江西]]==\\n[[九江市]][[能仁寺 (九江市)|能仁寺]]\\n九江市[[东林寺]]\\n[[永修县]][[真如寺 (永修)|真如寺]]\\n[[吉安市]][[净居寺 (青原)|青原山净居寺]]\\n==[[山东]]==\\n[[济南市]][[千佛山]][[兴国禅寺]]\\n[[青岛市]][[湛山寺 (青岛市)|湛山寺]]\\n==[[河南]]==\\n[[洛阳市]][[白马寺]]\\n[[登封县]]（今登封市）[[少林寺]]\\n==[[湖北]]==\\n[[武汉市]][[归元寺]]\\n武汉市[[宝通寺]]\\n[[黄梅县]][[五祖寺]]\\n[[当阳县]]（今当阳市）[[玉泉寺 (当阳市)|玉泉寺]]\\n==[[湖南]]==\\n[[长沙市]][[麓山寺|岳麓山寺]]\\n长沙市[[开福寺 (长沙市)|开福寺]]\\n[[衡山|南岳]]：[[祝圣寺 (衡山)|祝圣寺]]、[[福严寺]]、[[南台寺]]、[[上封寺]]\\n==[[广东]]==\\n[[广州市]][[六榕寺]]\\n[[曲江县]]（今曲江区）[[南华寺]]\\n[[乳源县]][[云门寺 (乳源瑶族自治县)|云门寺]]\\n[[肇庆市]][[庆云寺 (肇庆)|庆云寺]]\\n[[潮阳县]]（今潮阳区）[[灵山寺 (潮阳区)|灵山寺]]\\n[[潮州市|潮州]][[开元寺 (潮州市)|开元寺]]\\n==[[广西]]==\\n[[桂平县]]（今桂平市）[[洗石庵]]\\n==[[重庆]]==\\n[[罗汉寺 (重庆市)|罗汉寺]]\\n[[慈云寺]]\\n[[梁平县]][[双桂堂]]\\n==[[四川]]==\\n[[成都市]][[昭觉寺]]\\n成都市[[文殊院]]\\n[[新都县]]（今新都区）[[宝光寺]]\\n[[乐山县 (清朝)|乐山县]]（今[[乐山市]][[市中区 (乐山市)|市中区]]）[[乌尤寺]]\\n[[峨眉山]]：[[峨眉山报国寺|报国寺]]、[[万年寺]]、[[洪椿坪]]、[[洗象池]]、[[金顶 (峨嵋山)|金顶]]\\n==[[贵州]]==\\n[[贵阳市]][[弘福寺]]\\n贵阳市[[黔明寺]]\\n==[[云南]]==\\n[[昆明市]][[圆通寺]]\\n昆明市[[筇竹寺]]\\n昆明市[[华亭寺]]\\n[[宾川县]]鸡足山：[[祝圣寺 (鸡足山)|祝圣寺]]、[[铜瓦殿]]\\n==[[陕西]]==\\n[[西安市]][[大慈恩寺]]\\n西安市[[大兴善寺]]\\n西安市[[卧龙寺]]\\n西安市[[广仁寺]]\\n西安市[[兴教寺]]\\n西安市[[香积寺]]\\n西安市[[净业寺_(终南山)|净业寺]]\\n[[西安市户县]][[草堂寺]]\\n[[宝鸡扶风]][[法门寺]]\\n==[[宁夏]]==\\n[[银川市]][[海宝塔寺]]\\n[[Category:中国佛寺]]\\n[[Category:汉族地区佛教全国重点寺院|*]]\\n==参考文献==\\n==外部链接==\\n中国佛教协会>>汉族地区全国重点寺院\\n佛教在中国·中国佛教寺庙\\n[[Category:汉族地区佛教全国重点寺院|*]]'"
      ]
     },
     "execution_count": 16,
     "metadata": {},
     "output_type": "execute_result"
    }
   ],
   "source": [
    "text"
   ]
  },
  {
   "cell_type": "code",
   "execution_count": 15,
   "metadata": {},
   "outputs": [
    {
     "data": {
      "text/plain": [
       "'本条目所列为源自1983年4月9日中华人民共和国国务院批转《国务院宗教事务局关于确定汉族地区佛道教全国重点寺观的报告》，附件所列中国汉族地区佛教全国重点寺院名单，均为中国大陆境内汉族地区重要佛教寺庙，共142座。名称以公布时为准。\\n==北京==\\n广济寺\\n法源寺\\n佛牙舍利塔\\n广化寺\\n通教寺\\n雍和宫\\n西黄寺\\n==天津==\\n大悲院\\n==河北==\\n正定县临济塔院\\n承德市普宁寺\\n==山西==\\n太原市崇善寺\\n大同市上华严寺\\n交城县玄中寺\\n五台山：显通寺、塔院寺、菩萨顶、殊像寺、罗睺寺、金阁寺、广宗寺、碧山寺（广济茅蓬）、十方堂、黛螺顶、观音洞\\n==辽宁==\\n沈阳市般若寺\\n沈阳市慈恩寺\\n==吉林==\\n长春市般若寺\\n长春市地藏寺\\n吉林市观音古刹\\n==黑龙江==\\n哈尔滨市极乐寺\\n==上海==\\n玉佛寺\\n静安寺\\n龙华寺\\n沉香阁\\n圆明讲堂\\n==江苏==\\n南京市灵谷寺\\n南京市栖霞寺\\n苏州市西园戒幢律寺\\n苏州市寒山寺\\n苏州市灵岩山寺\\n镇江市金山江天寺\\n镇江市焦山定慧寺\\n常州市天宁寺\\n常熟县（今常熟市）虞山兴福寺\\n南通市广教寺（大圣寺）\\n扬州市大明寺\\n邗江县（今邗江区）高旻寺\\n句容县（今句容市）隆昌寺\\n==浙江==\\n杭州市灵隐寺\\n杭州市净慈寺\\n宁波市七塔寺\\n鄞县（今鄞州区）天童寺\\n鄞县阿育王寺\\n新昌县大佛寺\\n普陀山：普济寺、法雨寺、慧济寺\\n天台县国清寺（包括智者塔院）\\n天台县高明寺\\n天台县方广寺\\n温州市江心寺\\n==安徽==\\n合肥市明教寺\\n安庆市迎江寺\\n潜山县乾元禅寺\\n滁县（今滁州市）琅琊寺\\n芜湖市广济寺\\n九华山：化城寺、肉身殿、百岁宫、甘露寺、祗园寺、天台寺、旃檀林、慧居寺、上禅堂\\n==福建==\\n福州市涌泉寺\\n福州市西禅寺\\n福州市林阳寺\\n福州市地藏寺\\n闽侯县雪峰崇圣寺\\n厦门市南普陀寺\\n莆田县（今莆田市）广化寺\\n莆田县囊山慈寿寺\\n莆田县光孝寺\\n福清县（今福清市）万福寺\\n泉州市开元寺\\n晋江县（今晋江市）龙山寺\\n漳州市南山寺\\n宁德县（今宁德县）支提华严寺\\n==江西==\\n九江市能仁寺\\n九江市东林寺\\n永修县真如寺\\n吉安市青原山净居寺\\n==山东==\\n济南市千佛山兴国禅寺\\n青岛市湛山寺\\n==河南==\\n洛阳市白马寺\\n登封县（今登封市）少林寺\\n==湖北==\\n武汉市归元寺\\n武汉市宝通寺\\n黄梅县五祖寺\\n当阳县（今当阳市）玉泉寺\\n==湖南==\\n长沙市岳麓山寺\\n长沙市开福寺\\n南岳：祝圣寺、福严寺、南台寺、上封寺\\n==广东==\\n广州市六榕寺\\n曲江县（今曲江区）南华寺\\n乳源县云门寺\\n肇庆市庆云寺\\n潮阳县（今潮阳区）灵山寺\\n潮州开元寺\\n==广西==\\n桂平县（今桂平市）洗石庵\\n==重庆==\\n罗汉寺\\n慈云寺\\n梁平县双桂堂\\n==四川==\\n成都市昭觉寺\\n成都市文殊院\\n新都县（今新都区）宝光寺\\n乐山县（今乐山市市中区）乌尤寺\\n峨眉山：报国寺、万年寺、洪椿坪、洗象池、金顶\\n==贵州==\\n贵阳市弘福寺\\n贵阳市黔明寺\\n==云南==\\n昆明市圆通寺\\n昆明市筇竹寺\\n昆明市华亭寺\\n宾川县鸡足山：祝圣寺、铜瓦殿\\n==陕西==\\n西安市大慈恩寺\\n西安市大兴善寺\\n西安市卧龙寺\\n西安市广仁寺\\n西安市兴教寺\\n西安市香积寺\\n西安市净业寺\\n西安市户县草堂寺\\n宝鸡扶风法门寺\\n==宁夏==\\n银川市海宝塔寺\\n中国佛寺\\n*\\n==参考文献==\\n==外部链接==\\n中国佛教协会>>汉族地区全国重点寺院\\n佛教在中国·中国佛教寺庙\\n*'"
      ]
     },
     "execution_count": 15,
     "metadata": {},
     "output_type": "execute_result"
    }
   ],
   "source": [
    "cleaned_text"
   ]
  },
  {
   "cell_type": "code",
   "execution_count": 19,
   "metadata": {},
   "outputs": [
    {
     "data": {
      "text/plain": [
       "[{'begin': 17, 'end': 2955, 'link': '中华人民共和国国务院', 'text': '中华人民共和国国务院'},\n",
       " {'begin': 64, 'end': 3002, 'link': '中国', 'text': '中国'},\n",
       " {'begin': 83, 'end': 3021, 'link': '中国大陆', 'text': '中国大陆'},\n",
       " {'begin': 89, 'end': 3027, 'link': '汉族', 'text': '汉族'},\n",
       " {'begin': 95, 'end': 3033, 'link': '佛教', 'text': '佛教'},\n",
       " {'begin': 97, 'end': 99, 'link': '佛教寺庙', 'text': '寺庙'},\n",
       " {'begin': 118, 'end': 3056, 'link': '北京', 'text': '北京'},\n",
       " {'begin': 123, 'end': 126, 'link': '广济寺 (北京市)', 'text': '广济寺'},\n",
       " {'begin': 127, 'end': 130, 'link': '法源寺 (北京)', 'text': '法源寺'},\n",
       " {'begin': 131, 'end': 136, 'link': '灵光寺 (北京)', 'text': '佛牙舍利塔'}]"
      ]
     },
     "execution_count": 19,
     "metadata": {},
     "output_type": "execute_result"
    }
   ],
   "source": [
    "links[:10]"
   ]
  },
  {
   "cell_type": "markdown",
   "metadata": {},
   "source": [
    "### 上述方法提取内容是条目名称和链接。"
   ]
  }
 ],
 "metadata": {
  "kernelspec": {
   "display_name": "Python 3",
   "language": "python",
   "name": "python3"
  },
  "language_info": {
   "codemirror_mode": {
    "name": "ipython",
    "version": 3
   },
   "file_extension": ".py",
   "mimetype": "text/x-python",
   "name": "python",
   "nbconvert_exporter": "python",
   "pygments_lexer": "ipython3",
   "version": "3.7.3"
  }
 },
 "nbformat": 4,
 "nbformat_minor": 2
}
