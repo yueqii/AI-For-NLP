{
 "cells": [
  {
   "cell_type": "markdown",
   "metadata": {},
   "source": [
    "### 地铁爬虫"
   ]
  },
  {
   "cell_type": "code",
   "execution_count": 1,
   "metadata": {},
   "outputs": [],
   "source": [
    "root = 'https://baike.baidu.com/item/北京地铁/408485'\n",
    "import re\n",
    "import requests"
   ]
  },
  {
   "cell_type": "code",
   "execution_count": 14,
   "metadata": {},
   "outputs": [],
   "source": [
    "# <a href=\"/item/%E5%8C%97%E4%BA%AC%E5%9C%B0%E9%93%819%E5%8F%B7%E7%BA%BF\"\n",
    "# target=\"_blank\">北京地铁9号线</a>\n",
    "\n",
    "pattern = 'href=\"(/item/.*?)\">(北京地铁\\w+线)'\n",
    "\n",
    "# 正则？---- 在问号第一个下一位符号停止"
   ]
  },
  {
   "cell_type": "code",
   "execution_count": 3,
   "metadata": {},
   "outputs": [
    {
     "data": {
      "text/plain": [
       "['href=\"/item/%E5%8C%97%E4%BA%AC%E5%9C%B0%E9%93%819%E5%8F%B7%E7%BA%BF\" target=\"_blank\">北京地铁9号线']"
      ]
     },
     "execution_count": 3,
     "metadata": {},
     "output_type": "execute_result"
    }
   ],
   "source": [
    "# Test\n",
    "test1 = '<a href=\"/item/%E5%8C%97%E4%BA%AC%E5%9C%B0%E9%93%819%E5%8F%B7%E7%BA%BF\" target=\"_blank\">北京地铁9号线</a>'\n",
    "\n",
    "re.findall(pattern, test1)"
   ]
  },
  {
   "cell_type": "code",
   "execution_count": 5,
   "metadata": {},
   "outputs": [
    {
     "data": {
      "text/plain": [
       "200"
      ]
     },
     "execution_count": 5,
     "metadata": {},
     "output_type": "execute_result"
    }
   ],
   "source": [
    "headers = {\"User-Agent\": \"Mozilla/5.0 (Windows NT 10.0; Win64; x64) \\\n",
    "           AppleWebKit/537.36 (KHTML, like Gecko) Chrome/64.0.3282.140 Safari/537.36 Edge/17.17134\"\n",
    "}\n",
    "\n",
    "content = requests.get(root, headers=headers)\n",
    "content.status_code"
   ]
  },
  {
   "cell_type": "code",
   "execution_count": 6,
   "metadata": {},
   "outputs": [],
   "source": [
    "content.encoding = 'utf-8'"
   ]
  },
  {
   "cell_type": "code",
   "execution_count": 8,
   "metadata": {},
   "outputs": [
    {
     "data": {
      "text/plain": [
       "'一个开通地铁的城市。2017年，北京地铁年乘客量达到45.3亿人次，日均客流为1241.1万人次，单日客运量最高达1327.46万人次。截至2018年12月，北京地铁运营线路共有22条地铁线路，均采用'"
      ]
     },
     "execution_count": 8,
     "metadata": {},
     "output_type": "execute_result"
    }
   ],
   "source": [
    "content.text[300:400]"
   ]
  },
  {
   "cell_type": "code",
   "execution_count": 10,
   "metadata": {},
   "outputs": [
    {
     "data": {
      "text/plain": [
       "['href=\"/favicon.ico\"',\n",
       " 'href=\"//www.baidu.com/img/baidu.svg\"',\n",
       " 'href=\"https://bkssl.bdimg.com/static/wiki-lemma/pkg/wiki-lemma_a152d97.css\"',\n",
       " 'href=\"https://bkssl.bdimg.com/static/wiki-common/pkg/wiki-common-base_66a9374.css\"',\n",
       " 'href=\"https://bkssl.bdimg.com/static/wiki-common/widget/component/userbar-n/userbar-n_2890903.css\"',\n",
       " 'href=\"https://bkssl.bdimg.com/static/wiki-common/widget/lib/larkplayer/larkplayer_981c735.css\"',\n",
       " 'href=\"https://bkssl.bdimg.com/static/wiki-common/widget/lib/webuploader/webuploader_08d9db4.css\"',\n",
       " 'href=\"https://bkssl.bdimg.com/static/wiki-lemma/pkg/wiki-lemma-module_6b75841.css\"',\n",
       " 'href=\"https://bkssl.bdimg.com/static/wiki-lemma/widget/tools/announcement/announcement_cba33f4.css\"',\n",
       " 'href=\"https://bkssl.bdimg.com/static/wiki-lemma/widget/tools/label/label_ca156c6.css\"']"
      ]
     },
     "execution_count": 10,
     "metadata": {},
     "output_type": "execute_result"
    }
   ],
   "source": [
    "# Test: Non-greedy (RE)\n",
    "re.findall('href=\".*?\"', content.text)[:10]"
   ]
  },
  {
   "cell_type": "code",
   "execution_count": 16,
   "metadata": {},
   "outputs": [],
   "source": [
    "# Get all subway lines\n",
    "\n",
    "line_hrefs = re.findall(pattern, content.text)"
   ]
  },
  {
   "cell_type": "code",
   "execution_count": 17,
   "metadata": {},
   "outputs": [],
   "source": [
    "line_maps = {line: link for link, line in set(line_hrefs)}"
   ]
  },
  {
   "cell_type": "code",
   "execution_count": 18,
   "metadata": {},
   "outputs": [
    {
     "data": {
      "text/plain": [
       "{'北京地铁8号线': '/item/%E5%8C%97%E4%BA%AC%E5%9C%B0%E9%93%818%E5%8F%B7%E7%BA%BF/897830\" data-lemmaid=\"897830',\n",
       " '北京地铁房山线': '/item/%E5%8C%97%E4%BA%AC%E5%9C%B0%E9%93%81%E6%88%BF%E5%B1%B1%E7%BA%BF',\n",
       " '北京地铁2号线': '/item/%E5%8C%97%E4%BA%AC%E5%9C%B0%E9%93%812%E5%8F%B7%E7%BA%BF',\n",
       " '北京地铁燕房线': '/item/%E5%8C%97%E4%BA%AC%E5%9C%B0%E9%93%81%E7%87%95%E6%88%BF%E7%BA%BF',\n",
       " '北京地铁西郊线': '/item/%E5%8C%97%E4%BA%AC%E5%9C%B0%E9%93%81%E8%A5%BF%E9%83%8A%E7%BA%BF',\n",
       " '北京地铁亦庄线': '/item/%E5%8C%97%E4%BA%AC%E5%9C%B0%E9%93%81%E4%BA%A6%E5%BA%84%E7%BA%BF',\n",
       " '北京地铁4号线': '/item/%E5%8C%97%E4%BA%AC%E5%9C%B0%E9%93%814%E5%8F%B7%E7%BA%BF',\n",
       " '北京地铁7号线': '/item/%E5%8C%97%E4%BA%AC%E5%9C%B0%E9%93%817%E5%8F%B7%E7%BA%BF',\n",
       " '北京地铁八通线': '/item/%E5%8C%97%E4%BA%AC%E5%9C%B0%E9%93%81%E5%85%AB%E9%80%9A%E7%BA%BF',\n",
       " '北京地铁1号线': '/item/%E5%8C%97%E4%BA%AC%E5%9C%B0%E9%93%811%E5%8F%B7%E7%BA%BF',\n",
       " '北京地铁5号线': '/item/%E5%8C%97%E4%BA%AC%E5%9C%B0%E9%93%815%E5%8F%B7%E7%BA%BF',\n",
       " '北京地铁昌平线': '/item/%E5%8C%97%E4%BA%AC%E5%9C%B0%E9%93%81%E6%98%8C%E5%B9%B3%E7%BA%BF',\n",
       " '北京地铁S1线': '/item/%E5%8C%97%E4%BA%AC%E5%9C%B0%E9%93%81S1%E7%BA%BF',\n",
       " '北京地铁10号线': '/item/%E5%8C%97%E4%BA%AC%E5%9C%B0%E9%93%8110%E5%8F%B7%E7%BA%BF',\n",
       " '北京地铁16号线': '/item/%E5%8C%97%E4%BA%AC%E5%9C%B0%E9%93%8116%E5%8F%B7%E7%BA%BF',\n",
       " '北京地铁6号线': '/item/%E5%8C%97%E4%BA%AC%E5%9C%B0%E9%93%816%E5%8F%B7%E7%BA%BF/10680588\" data-lemmaid=\"10680588',\n",
       " '北京地铁14号线': '/item/%E5%8C%97%E4%BA%AC%E5%9C%B0%E9%93%8114%E5%8F%B7%E7%BA%BF',\n",
       " '北京地铁机场线': '/item/%E5%8C%97%E4%BA%AC%E5%9C%B0%E9%93%81%E6%9C%BA%E5%9C%BA%E7%BA%BF',\n",
       " '北京地铁大兴线': '/item/%E5%8C%97%E4%BA%AC%E5%9C%B0%E9%93%81%E5%A4%A7%E5%85%B4%E7%BA%BF',\n",
       " '北京地铁13号线': '/item/%E5%8C%97%E4%BA%AC%E5%9C%B0%E9%93%8113%E5%8F%B7%E7%BA%BF',\n",
       " '北京地铁15号线': '/item/%E5%8C%97%E4%BA%AC%E5%9C%B0%E9%93%8115%E5%8F%B7%E7%BA%BF',\n",
       " '北京地铁9号线': '/item/%E5%8C%97%E4%BA%AC%E5%9C%B0%E9%93%819%E5%8F%B7%E7%BA%BF'}"
      ]
     },
     "execution_count": 18,
     "metadata": {},
     "output_type": "execute_result"
    }
   ],
   "source": [
    "line_maps"
   ]
  },
  {
   "cell_type": "code",
   "execution_count": 19,
   "metadata": {},
   "outputs": [
    {
     "data": {
      "text/plain": [
       "22"
      ]
     },
     "execution_count": 19,
     "metadata": {},
     "output_type": "execute_result"
    }
   ],
   "source": [
    "len(line_maps)"
   ]
  },
  {
   "cell_type": "markdown",
   "metadata": {},
   "source": [
    "### Beautiful Soup"
   ]
  },
  {
   "cell_type": "code",
   "execution_count": 20,
   "metadata": {},
   "outputs": [],
   "source": [
    "from bs4 import BeautifulSoup"
   ]
  },
  {
   "cell_type": "code",
   "execution_count": 21,
   "metadata": {},
   "outputs": [],
   "source": [
    "soup = BeautifulSoup(content.text, 'html.parser')"
   ]
  },
  {
   "cell_type": "code",
   "execution_count": 29,
   "metadata": {},
   "outputs": [],
   "source": [
    "# Case: Line 15\n",
    "url = 'https://baike.baidu.com/item/北京地铁15号线'\n",
    "\n",
    "line15 = requests.get(url, headers=headers)\n",
    "line15.encoding = 'utf-8'"
   ]
  },
  {
   "cell_type": "code",
   "execution_count": 30,
   "metadata": {},
   "outputs": [],
   "source": [
    "line15text = line15.text"
   ]
  },
  {
   "cell_type": "code",
   "execution_count": 31,
   "metadata": {},
   "outputs": [
    {
     "data": {
      "text/plain": [
       "'至后沙峪站于2010年12月30日开通（望京东站于2016年12月31日开通），后沙峪站至俸伯站于2011年12月31日开通，清华东路西口站至望京西站于2014年12月28日开通（大屯路东站于2015'"
      ]
     },
     "execution_count": 31,
     "metadata": {},
     "output_type": "execute_result"
    }
   ],
   "source": [
    "line15text[300:400]"
   ]
  },
  {
   "cell_type": "code",
   "execution_count": 32,
   "metadata": {},
   "outputs": [],
   "source": [
    "soup = BeautifulSoup(line15text, 'html.parser')"
   ]
  },
  {
   "cell_type": "code",
   "execution_count": 36,
   "metadata": {},
   "outputs": [
    {
     "name": "stdout",
     "output_type": "stream",
     "text": [
      "['车站名称', '开往清华东路西口（下行）', '开往俸伯（上行）', '车站名称', '车站名称', '俸伯', '顺义', '石门', '南法信', '后沙峪', '花梨坎', '国展', '孙河', '马泉营', '崔各庄', '望京东', '望京', '望京西', '关庄', '大屯路东', '安立路', '奥林匹克公园', '北沙滩', '六道口', '清华东路西口']\n"
     ]
    }
   ],
   "source": [
    "mark = '车站名称'\n",
    "\n",
    "candidates = []\n",
    "\n",
    "for t in soup.find_all('table'):\n",
    "    stations = [n.text for n in t.find_all('th')]\n",
    "    if stations and stations[0] == mark:\n",
    "        \n",
    "        candidates.append(stations)\n",
    "print(max(candidates, key=len))"
   ]
  }
 ],
 "metadata": {
  "kernelspec": {
   "display_name": "Python 3",
   "language": "python",
   "name": "python3"
  },
  "language_info": {
   "codemirror_mode": {
    "name": "ipython",
    "version": 3
   },
   "file_extension": ".py",
   "mimetype": "text/x-python",
   "name": "python",
   "nbconvert_exporter": "python",
   "pygments_lexer": "ipython3",
   "version": "3.7.3"
  }
 },
 "nbformat": 4,
 "nbformat_minor": 2
}
