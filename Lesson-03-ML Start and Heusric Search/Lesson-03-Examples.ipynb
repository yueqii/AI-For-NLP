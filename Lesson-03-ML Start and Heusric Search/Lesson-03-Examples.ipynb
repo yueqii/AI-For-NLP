{
 "cells": [
  {
   "cell_type": "code",
   "execution_count": 1,
   "metadata": {},
   "outputs": [],
   "source": [
    "import matplotlib"
   ]
  },
  {
   "cell_type": "code",
   "execution_count": 2,
   "metadata": {},
   "outputs": [
    {
     "data": {
      "text/plain": [
       "['C:\\\\Anaconda\\\\lib\\\\site-packages\\\\matplotlib']"
      ]
     },
     "execution_count": 2,
     "metadata": {},
     "output_type": "execute_result"
    }
   ],
   "source": [
    "matplotlib.__path__"
   ]
  },
  {
   "cell_type": "code",
   "execution_count": 3,
   "metadata": {},
   "outputs": [],
   "source": [
    "import matplotlib.pyplot as plt"
   ]
  },
  {
   "cell_type": "code",
   "execution_count": 5,
   "metadata": {},
   "outputs": [
    {
     "name": "stdout",
     "output_type": "stream",
     "text": [
      " Volume in drive D has no label.\n",
      " Volume Serial Number is DC73-8865\n",
      "\n",
      " Directory of d:\\NLP\\Week 3\n",
      "\n",
      "05/15/2019  03:01 AM    <DIR>          .\n",
      "05/15/2019  03:01 AM    <DIR>          ..\n",
      "05/15/2019  03:00 AM    <DIR>          .ipynb_checkpoints\n",
      "05/15/2019  02:52 AM           264,129 assignment-03.ipynb\n",
      "05/15/2019  03:01 AM             1,208 L03.ipynb\n",
      "05/15/2019  02:55 AM             6,940 T-Assignment-03.ipynb\n",
      "04/20/2019  07:21 AM            12,008 Transfer Subway .ipynb\n",
      "               4 File(s)        284,285 bytes\n",
      "               3 Dir(s)  70,383,640,576 bytes free\n"
     ]
    }
   ],
   "source": [
    "!dir"
   ]
  },
  {
   "cell_type": "code",
   "execution_count": 11,
   "metadata": {},
   "outputs": [],
   "source": [
    "f = open(r'assignment-03.ipynb')"
   ]
  },
  {
   "cell_type": "code",
   "execution_count": 7,
   "metadata": {},
   "outputs": [
    {
     "data": {
      "text/plain": [
       "['{\\n',\n",
       " ' \"cells\": [\\n',\n",
       " '  {\\n',\n",
       " '   \"cell_type\": \"markdown\",\\n',\n",
       " '   \"metadata\": {},\\n',\n",
       " '   \"source\": [\\n',\n",
       " '    \"## Assignment 03 \\\\n\",\\n',\n",
       " '    \"### Part 3 - Finish the Search Problem\\\\n\",\\n',\n",
       " '    \"Implement a search agent that (a) receives two inpus, one is @param start station and the other is @param destination, and (b) returns the optimal route based on Beijing Subway system.\\\\n\",\\n',\n",
       " '    \"\\\\n\",\\n',\n",
       " '    \"Workflow:\\\\n\",\\n',\n",
       " '    \"1. Get data from webpage (using regular expressions and the \\'beatifulsoup\\' package) https://baike.baidu.com/item/%E5%8C%97%E4%BA%AC%E5%9C%B0%E9%93%81/408485.\\\\n\",\\n',\n",
       " '    \"\\\\n\",\\n',\n",
       " '    \"2. Preprocess data from page source  to build a dictionary (e.g., the \\'defaultdict\\') or a network graph of subway stations (using the \\'networkx\\' package).\\\\n\",\\n',\n",
       " '    \"\\\\n\",\\n',\n",
       " '    \"3. Build a search agent with different search strategies.\\\\n\",\\n',\n",
       " '    \">  possible options for search strategies: (a) shortest path priority(路程最短优先); (b) minimum transfer priority(最少换乘优先); (c) comprehensive priority(综合优先);\\\\n\",\\n',\n",
       " '    \">  add a by-way option with @param by_way, that specifies the preferred transfer station.\\\\n\",\\n',\n",
       " '    \">  for example: \\\\n\",\\n',\n",
       " '    \"    1. Input:  start=A,  destination=B, by_way=[C] \\\\n\",\\n',\n",
       " '    \"    Output: [A, … .., C, …. B]\\\\n\",\\n',\n",
       " '    \"    2. Input: start=A, destination=B, by_way=[C, D, E]\\\\n\",\\n',\n",
       " '    \"    Output: [A … C … E … D … B]  \\\\n\",\\n',\n",
       " '    \" \\\\n\",\\n',\n",
       " '    \"\\\\n\",\\n',\n",
       " '    \"\\\\n\"\\n',\n",
       " '   ]\\n',\n",
       " '  },\\n',\n",
       " '  {\\n',\n",
       " '   \"cell_type\": \"code\",\\n',\n",
       " '   \"execution_count\": 2,\\n',\n",
       " '   \"metadata\": {},\\n',\n",
       " '   \"outputs\": [],\\n',\n",
       " '   \"source\": [\\n',\n",
       " '    \"import requests\\\\n\",\\n',\n",
       " '    \"import urllib\\\\n\",\\n',\n",
       " '    \"from bs4 import BeautifulSoup\"\\n',\n",
       " '   ]\\n',\n",
       " '  },\\n',\n",
       " '  {\\n',\n",
       " '   \"cell_type\": \"markdown\",\\n',\n",
       " '   \"metadata\": {},\\n',\n",
       " '   \"source\": [\\n',\n",
       " '    \"#### Step 1 - Get data from webpage\\\\n\",\\n',\n",
       " '    \"* extract the list of urls for each subway line\\\\n\",\\n',\n",
       " '    \"* extract stations or edgelist for each line\"\\n',\n",
       " '   ]\\n',\n",
       " '  },\\n',\n",
       " '  {\\n',\n",
       " '   \"cell_type\": \"code\",\\n',\n",
       " '   \"execution_count\": 3,\\n',\n",
       " '   \"metadata\": {},\\n',\n",
       " '   \"outputs\": [],\\n',\n",
       " '   \"source\": [\\n',\n",
       " '    \"# step 1.1 - get the list of urls for all subway lines\\\\n\",\\n',\n",
       " '    \"\\\\n\",\\n',\n",
       " '    \"# get content from the main page\\\\n\",\\n',\n",
       " '    \"url = \\'https://baike.baidu.com/item/%E5%8C%97%E4%BA%AC%E5%9C%B0%E9%93%81/408485\\'\\\\n\",\\n',\n",
       " '    \"page = urllib.request.urlopen(url)\\\\n\",\\n',\n",
       " '    \"soup = BeautifulSoup(page, \\'html.parser\\')\"\\n',\n",
       " '   ]\\n',\n",
       " '  },\\n',\n",
       " '  {\\n',\n",
       " '   \"cell_type\": \"code\",\\n',\n",
       " '   \"execution_count\": 4,\\n',\n",
       " '   \"metadata\": {},\\n',\n",
       " '   \"outputs\": [\\n',\n",
       " '    {\\n',\n",
       " '     \"data\": {\\n',\n",
       " '      \"text/plain\": [\\n',\n",
       " '       \"[<a href=\\\\\"http://www.baidu.com/\\\\\">百度首页</a>,\\\\n\",\\n',\n",
       " '       \" <a data-href=\\\\\"https://www.baidu.com/s?ie=utf-8&amp;fr=bks0000&amp;wd=\\\\\" href=\\\\\"https://www.baidu.com/\\\\\" nslog=\\\\\"normal\\\\\" nslog-type=\\\\\"10600112\\\\\">网页</a>,\\\\n\",\\n',\n",
       " '       \" <a data-href=\\\\\"http://news.baidu.com/ns?tn=news&amp;cl=2&amp;rn=20&amp;ct=1&amp;fr=bks0000&amp;ie=utf-8&amp;word=\\\\\" href=\\\\\"http://news.baidu.com/\\\\\" nslog=\\\\\"normal\\\\\" nslog-type=\\\\\"10600112\\\\\">新闻</a>,\\\\n\",\\n',\n",
       " '       \" <a data-href=\\\\\"https://tieba.baidu.com/f?ie=utf-8&amp;fr=bks0000&amp;kw=\\\\\" href=\\\\\"https://tieba.baidu.com/\\\\\" nslog=\\\\\"normal\\\\\" nslog-type=\\\\\"10600112\\\\\">贴吧</a>,\\\\n\",\\n',\n",
       " '       \" <a data-href=\\\\\"https://zhidao.baidu.com/search?pn=0&amp;&amp;rn=10&amp;lm=0&amp;fr=bks0000&amp;word=\\\\\" href=\\\\\"https://zhidao.baidu.com/\\\\\" nslog=\\\\\"normal\\\\\" nslog-type=\\\\\"10600112\\\\\">知道</a>,\\\\n\",\\n',\n",
       " '       \" <a data-href=\\\\\"http://music.baidu.com/search?f=ms&amp;ct=134217728&amp;ie=utf-8&amp;rn=&amp;lm=-1&amp;pn=30&amp;fr=bks0000&amp;key=\\\\\" href=\\\\\"http://music.baidu.com/\\\\\" nslog=\\\\\"normal\\\\\" nslog-type=\\\\\"10600112\\\\\">音乐</a>,\\\\n\",\\n',\n",
       " '       \" <a data-href=\\\\\"http://image.baidu.com/search/index?tn=baiduimage&amp;ct=201326592&amp;lm=-1&amp;cl=2&amp;nc=1&amp;ie=utf-8&amp;word=\\\\\" href=\\\\\"http://image.baidu.com/\\\\\" nslog=\\\\\"normal\\\\\" nslog-type=\\\\\"10600112\\\\\">图片</a>,\\\\n\",\\n',\n",
       " '       \" <a data-href=\\\\\"http://v.baidu.com/v?ct=301989888&amp;rn=20&amp;pn=0&amp;db=0&amp;s=22&amp;ie=utf-8&amp;fr=bks0000&amp;word=\\\\\" href=\\\\\"http://v.baidu.com/\\\\\" nslog=\\\\\"normal\\\\\" nslog-type=\\\\\"10600112\\\\\">视频</a>,\\\\n\",\\n',\n",
       " '       \" <a data-href=\\\\\"http://map.baidu.com/m?ie=utf-8&amp;fr=bks0000&amp;word=\\\\\" href=\\\\\"http://map.baidu.com/\\\\\" nslog=\\\\\"normal\\\\\" nslog-type=\\\\\"10600112\\\\\">地图</a>,\\\\n\",\\n',\n",
       " '       \" <a data-href=\\\\\"https://wenku.baidu.com/search?lm=0&amp;od=0&amp;ie=utf-8&amp;fr=bks0000&amp;word=\\\\\" href=\\\\\"https://wenku.baidu.com/\\\\\" nslog=\\\\\"normal\\\\\" nslog-type=\\\\\"10600112\\\\\">文库</a>,\\\\n\",\\n',\n",
       " '       \" <a class=\\\\\"logo cmn-inline-block\\\\\" href=\\\\\"/\\\\\" title=\\\\\"到百科首页\\\\\">\\\\n\",\\n',\n",
       " '       \" <span class=\\\\\"cmn-baike-logo\\\\\">\\\\n\",\\n',\n",
       " '       \" <em class=\\\\\"cmn-icon cmn-icons cmn-icons_logo-bai\\\\\"></em>\\\\n\",\\n',\n",
       " '       \" <em class=\\\\\"cmn-icon cmn-icons cmn-icons_logo-du\\\\\"></em>\\\\n\",\\n',\n",
       " '       \" <em class=\\\\\"cmn-icon cmn-icons cmn-icons_logo-baike\\\\\"></em>\\\\n\",\\n',\n",
       " '       \" </span>\\\\n\",\\n',\n",
       " '       \" </a>,\\\\n\",\\n',\n",
       " '       \" <a class=\\\\\"help\\\\\" href=\\\\\"/help\\\\\" nslog=\\\\\"normal\\\\\" nslog-type=\\\\\"10080010\\\\\" target=\\\\\"_blank\\\\\">帮助</a>,\\\\n\",\\n',\n",
       " '       \" <a class=\\\\\"declare-details\\\\\" href=\\\\\"/common/declaration\\\\\" target=\\\\\"_blank\\\\\">详情&gt;&gt;</a>,\\\\n\",\\n',\n",
       " '       \" <a href=\\\\\"/\\\\\">首页</a>,\\\\n\",\\n',\n",
       " '       \" <a href=\\\\\"/calendar/\\\\\" target=\\\\\"_blank\\\\\">历史上的今天</a>,\\\\n\",\\n',\n",
       " '       \" <a href=\\\\\"/vbaike/\\\\\" target=\\\\\"_blank\\\\\">百科冷知识</a>,\\\\n\",\\n',\n",
       " '       \" <a href=\\\\\"/vbaike#gallary\\\\\" target=\\\\\"_blank\\\\\">图解百科</a>,\\\\n\",\\n',\n",
       " '       \" <a>分类</a>,\\\\n\",\\n',\n",
       " '       \" <a href=\\\\\"/art\\\\\" target=\\\\\"_blank\\\\\">艺术</a>,\\\\n\",\\n',\n",
       " '       \" <a href=\\\\\"/science\\\\\" target=\\\\\"_blank\\\\\">科学</a>]\"\\n',\n",
       " '      ]\\n',\n",
       " '     },\\n',\n",
       " '     \"execution_count\": 4,\\n',\n",
       " '     \"metadata\": {},\\n',\n",
       " '     \"output_type\": \"execute_result\"\\n',\n",
       " '    }\\n',\n",
       " '   ],\\n',\n",
       " '   \"source\": [\\n',\n",
       " '    \"# extract content within <a> tags\\\\n\",\\n',\n",
       " '    \"a_tags = soup.find_all(\\'a\\')\\\\n\",\\n',\n",
       " '    \"a_tags[:20]\"\\n',\n",
       " '   ]\\n',\n",
       " '  },\\n',\n",
       " '  {\\n',\n",
       " '   \"cell_type\": \"code\",\\n',\n",
       " '   \"execution_count\": 5,\\n',\n",
       " '   \"metadata\": {},\\n',\n",
       " '   \"outputs\": [],\\n',\n",
       " '   \"source\": [\\n',\n",
       " '    \"# extract the urls for each subway line using two filters:\\\\n\",\\n',\n",
       " '    \"# --- the link for each subway line starts with <a href=\\\\\"/item/\\\\n\",\\n',\n",
       " '    \"# --- the link also contains strings \\'北京地铁\\\\\\\\w*线\\'\\\\n\",\\n',\n",
       " '    \"\\\\n\",\\n',\n",
       " '    \"import re\\\\n\",\\n',\n",
       " '    \"\\\\n\",\\n',\n",
       " '    \"subway_urls = [] # initialize an empty list\\\\n\",\\n',\n",
       " '    \"line_scanned = [] # to avoid duplicates\\\\n\",\\n',\n",
       " '    \"\\\\n\",\\n',\n",
       " '    \"for link in a_tags:\\\\n\",\\n',\n",
       " '    \"    if str(link).startswith(\\'<a href=\\\\\"/item/\\'):\\\\n\",\\n',\n",
       " '    \"        line_name = re.findall(\\'北京地铁\\\\\\\\w*线\\', str(link)) # subset the line name\\\\n\",\\n',\n",
       " '    \"        \\\\n\",\\n',\n",
       " '    \"        if line_name and line_name not in line_scanned:\\\\n\",\\n',\n",
       " '    \"            http_link = \\'https://baike.baidu.com\\' + str(link.get(\\'href\\')) # only keeps the url part\\\\n\",\\n',\n",
       " '    \"            subway_urls.append([line_name, http_link])\\\\n\",\\n',\n",
       " '    \"            line_scanned.append(line_name)\\\\n\",\\n',\n",
       " '    \"        else: continue\\\\n\",\\n',\n",
       " '    \"            \\\\n\",\\n',\n",
       " '    \"    else: continue\\\\n\",\\n',\n",
       " '    \"        \\\\n\",\\n',\n",
       " '    \"# note: \\\\n\",\\n',\n",
       " '    \"#  1) a full regular expression for the url link:\\\\n\",\\n',\n",
       " '    \"#\\'/item/%E5%8C%97%E4%BA%AC%E5%9C%B0%E9%93%81\\\\\\\\w*%E\\\\\\\\d+.?\\\\\\\\w*.?\\\\\\\\w*.?E?\\\\\\\\d*.?\\\\\\\\w*.?\\\\\\\\w*.?\\\\\\\\w*%BA%BF\\'\\\\n\",\\n',\n",
       " '    \"# 2) see link.get(\\'href\\') in beautiful soup documentation\\\\n\",\\n',\n",
       " '    \"# https://www.crummy.com/software/BeautifulSoup/bs4/doc/#problems-after-installation\"\\n',\n",
       " '   ]\\n',\n",
       " '  },\\n',\n",
       " '  {\\n',\n",
       " '   \"cell_type\": \"code\",\\n',\n",
       " '   \"execution_count\": 6,\\n',\n",
       " '   \"metadata\": {},\\n',\n",
       " '   \"outputs\": [\\n',\n",
       " '    {\\n',\n",
       " '     \"data\": {\\n',\n",
       " '      \"text/plain\": [\\n',\n",
       " '       \"22\"\\n',\n",
       " '      ]\\n',\n",
       " '     },\\n',\n",
       " '     \"execution_count\": 6,\\n',\n",
       " '     \"metadata\": {},\\n',\n",
       " '     \"output_type\": \"execute_result\"\\n',\n",
       " '    }\\n',\n",
       " '   ],\\n',\n",
       " '   \"source\": [\\n',\n",
       " '    \"len(subway_urls) # 22 lines\"\\n',\n",
       " '   ]\\n',\n",
       " '  },\\n',\n",
       " '  {\\n',\n",
       " '   \"cell_type\": \"code\",\\n',\n",
       " '   \"execution_count\": 7,\\n',\n",
       " '   \"metadata\": {},\\n',\n",
       " '   \"outputs\": [\\n',\n",
       " '    {\\n',\n",
       " '     \"data\": {\\n',\n",
       " '      \"text/plain\": [\\n',\n",
       " '       \"[[[\\'北京地铁1号线\\'],\\\\n\",\\n',\n",
       " '       \"  \\'https://baike.baidu.com/item/%E5%8C%97%E4%BA%AC%E5%9C%B0%E9%93%811%E5%8F%B7%E7%BA%BF\\'],\\\\n\",\\n',\n",
       " '       \" [[\\'北京地铁13号线\\'],\\\\n\",\\n',\n",
       " '       \"  \\'https://baike.baidu.com/item/%E5%8C%97%E4%BA%AC%E5%9C%B0%E9%93%8113%E5%8F%B7%E7%BA%BF\\'],\\\\n\",\\n',\n",
       " '       \" [[\\'北京地铁八通线\\'],\\\\n\",\\n',\n",
       " '       \"  \\'https://baike.baidu.com/item/%E5%8C%97%E4%BA%AC%E5%9C%B0%E9%93%81%E5%85%AB%E9%80%9A%E7%BA%BF\\'],\\\\n\",\\n',\n",
       " '       \" [[\\'北京地铁5号线\\'],\\\\n\",\\n',\n",
       " '       \"  \\'https://baike.baidu.com/item/%E5%8C%97%E4%BA%AC%E5%9C%B0%E9%93%815%E5%8F%B7%E7%BA%BF\\'],\\\\n\",\\n',\n",
       " '       \" [[\\'北京地铁8号线\\'],\\\\n\",\\n',\n",
       " '       \"  \\'https://baike.baidu.com/item/%E5%8C%97%E4%BA%AC%E5%9C%B0%E9%93%818%E5%8F%B7%E7%BA%BF\\'],\\\\n\",\\n',\n",
       " '       \" [[\\'北京地铁10号线\\'],\\\\n\",\\n',\n",
       " '       \"  \\'https://baike.baidu.com/item/%E5%8C%97%E4%BA%AC%E5%9C%B0%E9%93%8110%E5%8F%B7%E7%BA%BF\\'],\\\\n\",\\n',\n",
       " '       \" [[\\'北京地铁机场线\\'],\\\\n\",\\n',\n",
       " '       \"  \\'https://baike.baidu.com/item/%E5%8C%97%E4%BA%AC%E5%9C%B0%E9%93%81%E6%9C%BA%E5%9C%BA%E7%BA%BF\\'],\\\\n\",\\n',\n",
       " '       \" [[\\'北京地铁4号线\\'],\\\\n\",\\n',\n",
       " '       \"  \\'https://baike.baidu.com/item/%E5%8C%97%E4%BA%AC%E5%9C%B0%E9%93%814%E5%8F%B7%E7%BA%BF\\'],\\\\n\",\\n',\n",
       " '       \" [[\\'北京地铁15号线\\'],\\\\n\",\\n',\n",
       " '       \"  \\'https://baike.baidu.com/item/%E5%8C%97%E4%BA%AC%E5%9C%B0%E9%93%8115%E5%8F%B7%E7%BA%BF\\'],\\\\n\",\\n',\n",
       " '       \" [[\\'北京地铁昌平线\\'],\\\\n\",\\n',\n",
       " '       \"  \\'https://baike.baidu.com/item/%E5%8C%97%E4%BA%AC%E5%9C%B0%E9%93%81%E6%98%8C%E5%B9%B3%E7%BA%BF\\'],\\\\n\",\\n',\n",
       " '       \" [[\\'北京地铁大兴线\\'],\\\\n\",\\n',\n",
       " '       \"  \\'https://baike.baidu.com/item/%E5%8C%97%E4%BA%AC%E5%9C%B0%E9%93%81%E5%A4%A7%E5%85%B4%E7%BA%BF\\'],\\\\n\",\\n',\n",
       " '       \" [[\\'北京地铁房山线\\'],\\\\n\",\\n',\n",
       " '       \"  \\'https://baike.baidu.com/item/%E5%8C%97%E4%BA%AC%E5%9C%B0%E9%93%81%E6%88%BF%E5%B1%B1%E7%BA%BF\\'],\\\\n\",\\n',\n",
       " '       \" [[\\'北京地铁亦庄线\\'],\\\\n\",\\n',\n",
       " '       \"  \\'https://baike.baidu.com/item/%E5%8C%97%E4%BA%AC%E5%9C%B0%E9%93%81%E4%BA%A6%E5%BA%84%E7%BA%BF\\'],\\\\n\",\\n',\n",
       " '       \" [[\\'北京地铁9号线\\'],\\\\n\",\\n',\n",
       " '       \"  \\'https://baike.baidu.com/item/%E5%8C%97%E4%BA%AC%E5%9C%B0%E9%93%819%E5%8F%B7%E7%BA%BF\\'],\\\\n\",\\n',\n",
       " '       \" [[\\'北京地铁6号线\\'],\\\\n\",\\n',\n",
       " '       \"  \\'https://baike.baidu.com/item/%E5%8C%97%E4%BA%AC%E5%9C%B0%E9%93%816%E5%8F%B7%E7%BA%BF\\'],\\\\n\",\\n',\n",
       " '       \" [[\\'北京地铁14号线\\'],\\\\n\",\\n',\n",
       " '       \"  \\'https://baike.baidu.com/item/%E5%8C%97%E4%BA%AC%E5%9C%B0%E9%93%8114%E5%8F%B7%E7%BA%BF\\'],\\\\n\",\\n',\n",
       " '       \" [[\\'北京地铁7号线\\'],\\\\n\",\\n',\n",
       " '       \"  \\'https://baike.baidu.com/item/%E5%8C%97%E4%BA%AC%E5%9C%B0%E9%93%817%E5%8F%B7%E7%BA%BF\\'],\\\\n\",\\n',\n",
       " '       \" [[\\'北京地铁16号线\\'],\\\\n\",\\n',\n",
       " '       \"  \\'https://baike.baidu.com/item/%E5%8C%97%E4%BA%AC%E5%9C%B0%E9%93%8116%E5%8F%B7%E7%BA%BF\\'],\\\\n\",\\n',\n",
       " '       \" [[\\'北京地铁西郊线\\'],\\\\n\",\\n',\n",
       " '       \"  \\'https://baike.baidu.com/item/%E5%8C%97%E4%BA%AC%E5%9C%B0%E9%93%81%E8%A5%BF%E9%83%8A%E7%BA%BF\\'],\\\\n\",\\n',\n",
       " '       \" [[\\'北京地铁S1线\\'],\\\\n\",\\n',\n",
       " '       \"  \\'https://baike.baidu.com/item/%E5%8C%97%E4%BA%AC%E5%9C%B0%E9%93%81S1%E7%BA%BF\\'],\\\\n\",\\n',\n",
       " '       \" [[\\'北京地铁燕房线\\'],\\\\n\",\\n',\n",
       " '       \"  \\'https://baike.baidu.com/item/%E5%8C%97%E4%BA%AC%E5%9C%B0%E9%93%81%E7%87%95%E6%88%BF%E7%BA%BF\\'],\\\\n\",\\n',\n",
       " '       \" [[\\'北京地铁2号线\\'],\\\\n\",\\n',\n",
       " '       \"  \\'https://baike.baidu.com/item/%E5%8C%97%E4%BA%AC%E5%9C%B0%E9%93%812%E5%8F%B7%E7%BA%BF\\']]\"\\n',\n",
       " '      ]\\n',\n",
       " '     },\\n',\n",
       " '     \"execution_count\": 7,\\n',\n",
       " '     \"metadata\": {},\\n',\n",
       " '     \"output_type\": \"execute_result\"\\n',\n",
       " '    }\\n',\n",
       " '   ],\\n',\n",
       " '   \"source\": [\\n',\n",
       " '    \"subway_urls\"\\n',\n",
       " '   ]\\n',\n",
       " '  },\\n',\n",
       " '  {\\n',\n",
       " '   \"cell_type\": \"code\",\\n',\n",
       " '   \"execution_count\": null,\\n',\n",
       " '   \"metadata\": {},\\n',\n",
       " '   \"outputs\": [],\\n',\n",
       " '   \"source\": []\\n',\n",
       " '  },\\n',\n",
       " '  {\\n',\n",
       " '   \"cell_type\": \"code\",\\n',\n",
       " '   \"execution_count\": 23,\\n',\n",
       " '   \"metadata\": {},\\n',\n",
       " '   \"outputs\": [],\\n',\n",
       " '   \"source\": [\\n',\n",
       " '    \"# step 1.2 - extract station names for each subway line\\\\n\",\\n',\n",
       " '    \"\\\\n\",\\n',\n",
       " '    \"# examples for the html element:\\\\n\",\\n',\n",
       " '    \"# <a data-lemmaid=\\\\\"75170\\\\\" href=\\\\\"/item/%E5%AE%8B%E5%AE%B6%E5%BA%84%E7%AB%99/75170\\\\\" target=\\\\\"_blank\\\\\">宋家庄站</a>,\\\\n\",\\n',\n",
       " '    \"# <a class=\\\\\"lemma-anchor\\\\\" name=\\\\\"一、积水潭站\\\\\"></a>,\\\\n\",\\n',\n",
       " '    \"# <a href=\\\\\"/item/%E7%81%AF%E5%B8%82%E5%8F%A3%E7%AB%99\\\\\" target=\\\\\"_blank\\\\\">灯市口站</a>,\\\\n\",\\n',\n",
       " '    \"# <a> tags are too messy... instead, we use <th> tags\\\\n\",\\n',\n",
       " '    \"\\\\n\",\\n',\n",
       " '    \"# the stations names are all embedded in tables, with <th......> </th> tags\\\\n\",\\n',\n",
       " '    \"# examples: \\\\n\",\\n',\n",
       " '    \"# <th align=\\\\\"center\\\\\" valign=\\\\\"middle\\\\\">车站名称</th>,\\\\n\",\\n',\n",
       " '    \"# <th align=\\\\\"center\\\\\" valign=\\\\\"middle\\\\\">宋家庄</th>\\\\n\",\\n',\n",
       " '    \"# <th align=\\\\\"center\\\\\" valign=\\\\\"middle\\\\\">方向</th>,\\\\n\",\\n',\n",
       " '    \"# <th align=\\\\\"center\\\\\" valign=\\\\\"middle\\\\\">西直门——大钟寺</th>\\\\n\",\\n',\n",
       " '    \"\\\\n\",\\n',\n",
       " '    \"# try line 13\\\\n\",\\n',\n",
       " '    \"url = \\'https://baike.baidu.com/item/%E5%8C%97%E4%BA%AC%E5%9C%B0%E9%93%8113%E5%8F%B7%E7%BA%BF\\'\\\\n\",\\n',\n",
       " '    \"page = urllib.request.urlopen(url)\\\\n\",\\n',\n",
       " '    \"soup = BeautifulSoup(page, \\'html.parser\\')\"\\n',\n",
       " '   ]\\n',\n",
       " '  },\\n',\n",
       " '  {\\n',\n",
       " '   \"cell_type\": \"code\",\\n',\n",
       " '   \"execution_count\": 24,\\n',\n",
       " '   \"metadata\": {},\\n',\n",
       " '   \"outputs\": [\\n',\n",
       " '    {\\n',\n",
       " '     \"data\": {\\n',\n",
       " '      \"text/plain\": [\\n',\n",
       " '       \"[<th width=\\\\\"73\\\\\">车站编号</th>,\\\\n\",\\n',\n",
       " '       \" <th width=\\\\\"73\\\\\">车站名称</th>,\\\\n\",\\n',\n",
       " '       \" <th align=\\\\\"center\\\\\" valign=\\\\\"middle\\\\\" width=\\\\\"74\\\\\">所属区段</th>,\\\\n\",\\n',\n",
       " '       \" <th align=\\\\\"center\\\\\" valign=\\\\\"middle\\\\\" width=\\\\\"74\\\\\">开通日期</th>,\\\\n\",\\n',\n",
       " '       \" <th align=\\\\\"center\\\\\" colspan=\\\\\"2\\\\\" height=\\\\\"0\\\\\" rowspan=\\\\\"1\\\\\" valign=\\\\\"middle\\\\\"><div class=\\\\\"para\\\\\" label-module=\\\\\"para\\\\\">可换乘线路</div>\\\\n\",\\n',\n",
       " '       \" </th>,\\\\n\",\\n',\n",
       " '       \" <th align=\\\\\"center\\\\\" valign=\\\\\"middle\\\\\" width=\\\\\"73\\\\\">所在行政区</th>,\\\\n\",\\n',\n",
       " '       \" <th align=\\\\\"center\\\\\" valign=\\\\\"middle\\\\\">起始/终到车站</th>,\\\\n\",\\n',\n",
       " '       \" <th align=\\\\\"center\\\\\" valign=\\\\\"middle\\\\\">区间距离</th>,\\\\n\",\\n',\n",
       " '       \" <th align=\\\\\"center\\\\\" valign=\\\\\"middle\\\\\">方向</th>,\\\\n\",\\n',\n",
       " '       \" <th align=\\\\\"center\\\\\" valign=\\\\\"middle\\\\\">西直门——大钟寺</th>,\\\\n\",\\n',\n",
       " '       \" <th align=\\\\\"center\\\\\" valign=\\\\\"middle\\\\\">大钟寺——知春路</th>,\\\\n\",\\n',\n",
       " '       \" <th align=\\\\\"center\\\\\" valign=\\\\\"middle\\\\\">知春路——五道口</th>,\\\\n\",\\n',\n",
       " '       \" <th align=\\\\\"center\\\\\" valign=\\\\\"middle\\\\\">五道口——上地</th>,\\\\n\",\\n',\n",
       " '       \" <th align=\\\\\"center\\\\\" valign=\\\\\"middle\\\\\">上地——西二旗</th>,\\\\n\",\\n',\n",
       " '       \" <th align=\\\\\"center\\\\\" valign=\\\\\"middle\\\\\">西二旗——龙泽</th>,\\\\n\",\\n',\n",
       " '       \" <th align=\\\\\"center\\\\\" valign=\\\\\"middle\\\\\">龙泽——回龙观</th>,\\\\n\",\\n',\n",
       " '       \" <th align=\\\\\"center\\\\\" valign=\\\\\"middle\\\\\">回龙观——霍营</th>,\\\\n\",\\n',\n",
       " '       \" <th align=\\\\\"center\\\\\" valign=\\\\\"middle\\\\\">霍营——立水桥</th>,\\\\n\",\\n',\n",
       " '       \" <th align=\\\\\"center\\\\\" valign=\\\\\"middle\\\\\">立水桥——北苑</th>,\\\\n\",\\n',\n",
       " '       \" <th align=\\\\\"center\\\\\" valign=\\\\\"middle\\\\\">北苑——望京西</th>,\\\\n\",\\n',\n",
       " '       \" <th align=\\\\\"center\\\\\" valign=\\\\\"middle\\\\\">望京西——芍药居</th>,\\\\n\",\\n',\n",
       " '       \" <th align=\\\\\"center\\\\\" valign=\\\\\"middle\\\\\">芍药居——光熙门</th>,\\\\n\",\\n',\n",
       " '       \" <th align=\\\\\"center\\\\\" valign=\\\\\"middle\\\\\">光熙门——柳芳</th>,\\\\n\",\\n',\n",
       " '       \" <th align=\\\\\"center\\\\\" valign=\\\\\"middle\\\\\">柳芳——东直门</th>,\\\\n\",\\n',\n",
       " '       \" <th align=\\\\\"center\\\\\" height=\\\\\"22\\\\\" valign=\\\\\"middle\\\\\">车站名称</th>,\\\\n\",\\n',\n",
       " '       \" <th align=\\\\\"center\\\\\" colspan=\\\\\"2\\\\\" height=\\\\\"22\\\\\" valign=\\\\\"middle\\\\\">首车时间</th>,\\\\n\",\\n',\n",
       " '       \" <th align=\\\\\"center\\\\\" colspan=\\\\\"2\\\\\" height=\\\\\"22\\\\\" valign=\\\\\"middle\\\\\">全程末班车时间</th>,\\\\n\",\\n',\n",
       " '       \" <th align=\\\\\"center\\\\\" colspan=\\\\\"2\\\\\" height=\\\\\"22\\\\\" valign=\\\\\"middle\\\\\">半程末班车时间</th>,\\\\n\",\\n',\n",
       " '       \" <th align=\\\\\"center\\\\\" valign=\\\\\"middle\\\\\">车站名称</th>,\\\\n\",\\n',\n",
       " '       \" <th align=\\\\\"center\\\\\" valign=\\\\\"middle\\\\\">西直门</th>,\\\\n\",\\n',\n",
       " '       \" <th>明光桥西</th>,\\\\n\",\\n',\n",
       " '       \" <th align=\\\\\"center\\\\\" valign=\\\\\"middle\\\\\">大钟寺</th>,\\\\n\",\\n',\n",
       " '       \" <th align=\\\\\"center\\\\\" valign=\\\\\"middle\\\\\">知春路</th>,\\\\n\",\\n',\n",
       " '       \" <th align=\\\\\"center\\\\\" valign=\\\\\"middle\\\\\">五道口</th>,\\\\n\",\\n',\n",
       " '       \" <th>清华东路西口</th>,\\\\n\",\\n',\n",
       " '       \" <th align=\\\\\"center\\\\\" valign=\\\\\"middle\\\\\">上地</th>,\\\\n\",\\n',\n",
       " '       \" <th>清河站</th>,\\\\n\",\\n',\n",
       " '       \" <th align=\\\\\"center\\\\\" valign=\\\\\"middle\\\\\">西二旗</th>,\\\\n\",\\n',\n",
       " '       \" <th align=\\\\\"center\\\\\" valign=\\\\\"middle\\\\\">龙泽</th>,\\\\n\",\\n',\n",
       " '       \" <th align=\\\\\"center\\\\\" valign=\\\\\"middle\\\\\">回龙观</th>,\\\\n\",\\n',\n",
       " '       \" <th align=\\\\\"center\\\\\" valign=\\\\\"middle\\\\\">霍营</th>,\\\\n\",\\n',\n",
       " '       \" <th>建材城东路</th>,\\\\n\",\\n',\n",
       " '       \" <th align=\\\\\"center\\\\\" valign=\\\\\"middle\\\\\">立水桥</th>,\\\\n\",\\n',\n",
       " '       \" <th align=\\\\\"center\\\\\" valign=\\\\\"middle\\\\\">北苑</th>,\\\\n\",\\n',\n",
       " '       \" <th>来广营西</th>,\\\\n\",\\n',\n",
       " '       \" <th align=\\\\\"center\\\\\" valign=\\\\\"middle\\\\\">望京西</th>,\\\\n\",\\n',\n",
       " '       \" <th>望和桥</th>,\\\\n\",\\n',\n",
       " '       \" <th align=\\\\\"center\\\\\" valign=\\\\\"middle\\\\\">芍药居</th>,\\\\n\",\\n',\n",
       " '       \" <th align=\\\\\"center\\\\\" valign=\\\\\"middle\\\\\">光熙门</th>,\\\\n\",\\n',\n",
       " '       \" <th align=\\\\\"center\\\\\" valign=\\\\\"middle\\\\\">柳芳</th>,\\\\n\",\\n',\n",
       " '       \" <th align=\\\\\"center\\\\\" valign=\\\\\"middle\\\\\">东直门</th>,\\\\n\",\\n',\n",
       " '       \" <th height=\\\\\"0\\\\\" width=\\\\\"79\\\\\"><div class=\\\\\"para\\\\\" label-module=\\\\\"para\\\\\">车站名称</div>\\\\n\",\\n',\n",
       " '       \" </th>,\\\\n\",\\n',\n",
       " '       \" <th width=\\\\\"79\\\\\">敷设方式</th>,\\\\n\",\\n',\n",
       " '       \" <th width=\\\\\"131\\\\\">站厅形式</th>,\\\\n\",\\n',\n",
       " '       \" <th height=\\\\\"0\\\\\" width=\\\\\"131\\\\\"><div class=\\\\\"para\\\\\" label-module=\\\\\"para\\\\\">站台形式</div>\\\\n\",\\n',\n",
       " '       \" </th>,\\\\n\",\\n',\n",
       " '       \" <th width=\\\\\"158\\\\\">开门方向</th>,\\\\n\",\\n',\n",
       " '       \" <th width=\\\\\"79\\\\\">参考资料</th>]\"\\n',\n",
       " '      ]\\n',\n",
       " '     },\\n',\n",
       " '     \"execution_count\": 24,\\n',\n",
       " '     \"metadata\": {},\\n',\n",
       " '     \"output_type\": \"execute_result\"\\n',\n",
       " '    }\\n',\n",
       " '   ],\\n',\n",
       " '   \"source\": [\\n',\n",
       " '    \"# find all elements with <th> tags\\\\n\",\\n',\n",
       " '    \"\\\\n\",\\n',\n",
       " '    \"th_tags = soup.find_all(\\'th\\')\\\\n\",\\n',\n",
       " '    \"th_tags\"\\n',\n",
       " '   ]\\n',\n",
       " '  },\\n',\n",
       " '  {\\n',\n",
       " '   \"cell_type\": \"code\",\\n',\n",
       " '   \"execution_count\": 25,\\n',\n",
       " '   \"metadata\": {},\\n',\n",
       " '   \"outputs\": [\\n',\n",
       " '    {\\n',\n",
       " '     \"data\": {\\n',\n",
       " '      \"text/plain\": [\\n',\n",
       " '       \"[<th align=\\\\\"center\\\\\" valign=\\\\\"middle\\\\\">西直门——大钟寺</th>,\\\\n\",\\n',\n",
       " '       \" <th align=\\\\\"center\\\\\" valign=\\\\\"middle\\\\\">大钟寺——知春路</th>,\\\\n\",\\n',\n",
       " '       \" <th align=\\\\\"center\\\\\" valign=\\\\\"middle\\\\\">知春路——五道口</th>,\\\\n\",\\n',\n",
       " '       \" <th align=\\\\\"center\\\\\" valign=\\\\\"middle\\\\\">五道口——上地</th>,\\\\n\",\\n',\n",
       " '       \" <th align=\\\\\"center\\\\\" valign=\\\\\"middle\\\\\">上地——西二旗</th>,\\\\n\",\\n',\n",
       " '       \" <th align=\\\\\"center\\\\\" valign=\\\\\"middle\\\\\">西二旗——龙泽</th>,\\\\n\",\\n',\n",
       " '       \" <th align=\\\\\"center\\\\\" valign=\\\\\"middle\\\\\">龙泽——回龙观</th>,\\\\n\",\\n',\n",
       " '       \" <th align=\\\\\"center\\\\\" valign=\\\\\"middle\\\\\">回龙观——霍营</th>,\\\\n\",\\n',\n",
       " '       \" <th align=\\\\\"center\\\\\" valign=\\\\\"middle\\\\\">霍营——立水桥</th>,\\\\n\",\\n',\n",
       " '       \" <th align=\\\\\"center\\\\\" valign=\\\\\"middle\\\\\">立水桥——北苑</th>,\\\\n\",\\n',\n",
       " '       \" <th align=\\\\\"center\\\\\" valign=\\\\\"middle\\\\\">北苑——望京西</th>,\\\\n\",\\n',\n",
       " '       \" <th align=\\\\\"center\\\\\" valign=\\\\\"middle\\\\\">望京西——芍药居</th>,\\\\n\",\\n',\n",
       " '       \" <th align=\\\\\"center\\\\\" valign=\\\\\"middle\\\\\">芍药居——光熙门</th>,\\\\n\",\\n',\n",
       " '       \" <th align=\\\\\"center\\\\\" valign=\\\\\"middle\\\\\">光熙门——柳芳</th>,\\\\n\",\\n',\n",
       " '       \" <th align=\\\\\"center\\\\\" valign=\\\\\"middle\\\\\">柳芳——东直门</th>]\"\\n',\n",
       " '      ]\\n',\n",
       " '     },\\n',\n",
       " '     \"execution_count\": 25,\\n',\n",
       " '     \"metadata\": {},\\n',\n",
       " '     \"output_type\": \"execute_result\"\\n',\n",
       " '    }\\n',\n",
       " '   ],\\n',\n",
       " '   \"source\": [\\n',\n",
       " '    \"# find the positions where the station edgelist starts and ends\\\\n\",\\n',\n",
       " '    \"\\\\n\",\\n',\n",
       " '    \"start_index = [i for i, th_string in enumerate(th_tags) if \\'方向\\' in th_string] # a list object!\\\\n\",\\n',\n",
       " '    \"start_i = start_index[0]\\\\n\",\\n',\n",
       " '    \"\\\\n\",\\n',\n",
       " '    \"# now find all lines with the format 东单——崇文门:\\\\n\",\\n',\n",
       " '    \"\\\\n\",\\n',\n",
       " '    \"target_th_tags = []\\\\n\",\\n',\n",
       " '    \"\\\\n\",\\n',\n",
       " '    \"for line in th_tags[start_i:]:\\\\n\",\\n',\n",
       " '    \"    if str(line).find(\\'——\\') > 0:\\\\n\",\\n',\n",
       " '    \"        target_th_tags.append(line)\\\\n\",\\n',\n",
       " '    \"        \\\\n\",\\n',\n",
       " '    \"target_th_tags\\\\n\",\\n',\n",
       " '    \"\\\\n\",\\n',\n",
       " '    \"\\\\n\",\\n',\n",
       " '    \"# notes:\\\\n\",\\n',\n",
       " '    \"# there are two options available to find station names:\\\\n\",\\n',\n",
       " '    \"#  1) subset lines after \\'方向\\' and contains \\'——\\', which gives a list of edges\\\\n\",\\n',\n",
       " '    \"#   e.g., <th align=\\\\\"center\\\\\" valign=\\\\\"middle\\\\\">东单——崇文门</th>,  \\\\n\",\\n',\n",
       " '    \"# 2) subset lines in between \\'车站名称\\' which only gives station names\\\\n\",\\n',\n",
       " '    \"#  e.g., <th align=\\\\\"center\\\\\" valign=\\\\\"middle\\\\\">张自忠路</th>\\\\n\",\\n',\n",
       " '    \"\\\\n\",\\n',\n",
       " '    \"# here we opt for 1) since \\'车站名称\\' is not a unique identifier\"\\n',\n",
       " '   ]\\n',\n",
       " '  },\\n',\n",
       " '  {\\n',\n",
       " '   \"cell_type\": \"code\",\\n',\n",
       " '   \"execution_count\": 27,\\n',\n",
       " '   \"metadata\": {},\\n',\n",
       " '   \"outputs\": [],\\n',\n",
       " '   \"source\": [\\n',\n",
       " '    \"# change the target th-tags into networkx-readable edgelist format\\\\n\",\\n',\n",
       " '    \"\\\\n\",\\n',\n",
       " '    \"edge_list = []\\\\n\",\\n',\n",
       " '    \"\\\\n\",\\n',\n",
       " '    \"for line in target_th_tags:\\\\n\",\\n',\n",
       " '    \"    edge = \\'\\'.join(e for e in re.findall(\\'>.{1,15}<\\', str(line)))\\\\n\",\\n',\n",
       " '    \"    edge = \\'\\'.join(c for c in edge if c not in \\'><\\') # remove \\'>\\' and \\'<\\'\\\\n\",\\n',\n",
       " '    \"    edge = edge.replace(\\'——\\', \\' \\')\\\\n\",\\n',\n",
       " '    \"    edge_list.append(edge)\\\\n\",\\n',\n",
       " '    \"\\\\n\",\\n',\n",
       " '    \"# import networkx as nx\\\\n\",\\n',\n",
       " '    \"# graph = nx.parse_edgelist(edge_list, nodetype=str)\\\\n\",\\n',\n",
       " '    \"# https://networkx.github.io/documentation/networkx-1.10/reference/generated/networkx.readwrite.edgelist.parse_edgelist.html\"\\n',\n",
       " '   ]\\n',\n",
       " '  },\\n',\n",
       " '  {\\n',\n",
       " '   \"cell_type\": \"code\",\\n',\n",
       " '   \"execution_count\": 28,\\n',\n",
       " '   \"metadata\": {},\\n',\n",
       " '   \"outputs\": [\\n',\n",
       " '    {\\n',\n",
       " '     \"data\": {\\n',\n",
       " '      \"text/plain\": [\\n',\n",
       " '       \"[\\'西直门 大钟寺\\',\\\\n\",\\n',\n",
       " '       \" \\'大钟寺 知春路\\',\\\\n\",\\n',\n",
       " '       \" \\'知春路 五道口\\',\\\\n\",\\n',\n",
       " '       \" \\'五道口 上地\\',\\\\n\",\\n',\n",
       " '       \" \\'上地 西二旗\\',\\\\n\",\\n',\n",
       " '       \" \\'西二旗 龙泽\\',\\\\n\",\\n',\n",
       " '       \" \\'龙泽 回龙观\\',\\\\n\",\\n',\n",
       " '       \" \\'回龙观 霍营\\',\\\\n\",\\n',\n",
       " '       \" \\'霍营 立水桥\\',\\\\n\",\\n',\n",
       " '       \" \\'立水桥 北苑\\',\\\\n\",\\n',\n",
       " '       \" \\'北苑 望京西\\',\\\\n\",\\n',\n",
       " '       \" \\'望京西 芍药居\\',\\\\n\",\\n',\n",
       " '       \" \\'芍药居 光熙门\\',\\\\n\",\\n',\n",
       " '       \" \\'光熙门 柳芳\\',\\\\n\",\\n',\n",
       " '       \" \\'柳芳 东直门\\']\"\\n',\n",
       " '      ]\\n',\n",
       " '     },\\n',\n",
       " '     \"execution_count\": 28,\\n',\n",
       " '     \"metadata\": {},\\n',\n",
       " '     \"output_type\": \"execute_result\"\\n',\n",
       " '    }\\n',\n",
       " '   ],\\n',\n",
       " '   \"source\": [\\n',\n",
       " '    \"edge_list\"\\n',\n",
       " '   ]\\n',\n",
       " '  },\\n',\n",
       " '  {\\n',\n",
       " '   \"cell_type\": \"code\",\\n',\n",
       " '   \"execution_count\": 61,\\n',\n",
       " '   \"metadata\": {},\\n',\n",
       " '   \"outputs\": [],\\n',\n",
       " '   \"source\": [\\n',\n",
       " '    \"# parse edgelist into nodes\\\\n\",\\n',\n",
       " '    \"nodes = []\\\\n\",\\n',\n",
       " '    \"nodes = [e.split(\\' \\')[0] for e in edge_list]\"\\n',\n",
       " '   ]\\n',\n",
       " '  },\\n',\n",
       " '  {\\n',\n",
       " '   \"cell_type\": \"code\",\\n',\n",
       " '   \"execution_count\": 62,\\n',\n",
       " '   \"metadata\": {},\\n',\n",
       " '   \"outputs\": [\\n',\n",
       " '    {\\n',\n",
       " '     \"data\": {\\n',\n",
       " '      \"text/plain\": [\\n',\n",
       " '       \"[\\'西直门\\',\\\\n\",\\n',\n",
       " '       \" \\'大钟寺\\',\\\\n\",\\n',\n",
       " '       \" \\'知春路\\',\\\\n\",\\n',\n",
       " '       \" \\'五道口\\',\\\\n\",\\n',\n",
       " '       \" \\'上地\\',\\\\n\",\\n',\n",
       " '       \" \\'西二旗\\',\\\\n\",\\n',\n",
       " '       \" \\'龙泽\\',\\\\n\",\\n',\n",
       " '       \" \\'回龙观\\',\\\\n\",\\n',\n",
       " '       \" \\'霍营\\',\\\\n\",\\n',\n",
       " '       \" \\'立水桥\\',\\\\n\",\\n',\n",
       " '       \" \\'北苑\\',\\\\n\",\\n',\n",
       " '       \" \\'望京西\\',\\\\n\",\\n',\n",
       " '       \" \\'芍药居\\',\\\\n\",\\n',\n",
       " '       \" \\'光熙门\\',\\\\n\",\\n',\n",
       " '       \" \\'柳芳\\']\"\\n',\n",
       " '      ]\\n',\n",
       " '     },\\n',\n",
       " '     \"execution_count\": 62,\\n',\n",
       " '     \"metadata\": {},\\n',\n",
       " '     \"output_type\": \"execute_result\"\\n',\n",
       " '    }\\n',\n",
       " '   ],\\n',\n",
       " '   \"source\": [\\n',\n",
       " '    \"nodes\"\\n',\n",
       " '   ]\\n',\n",
       " '  },\\n',\n",
       " '  {\\n',\n",
       " '   \"cell_type\": \"code\",\\n',\n",
       " '   \"execution_count\": null,\\n',\n",
       " '   \"metadata\": {},\\n',\n",
       " '   \"outputs\": [],\\n',\n",
       " '   \"source\": []\\n',\n",
       " '  },\\n',\n",
       " '  {\\n',\n",
       " '   \"cell_type\": \"code\",\\n',\n",
       " '   \"execution_count\": 12,\\n',\n",
       " '   \"metadata\": {},\\n',\n",
       " '   \"outputs\": [],\\n',\n",
       " '   \"source\": [\\n',\n",
       " '    \"# put everything together and wrap in functions\\\\n\",\\n',\n",
       " '    \"\\\\n\",\\n',\n",
       " '    \"def parse_th_tags(url):\\\\n\",\\n',\n",
       " '    \"    \\\\\"\\\\\"\\\\\"\\\\n\",\\n',\n",
       " '    \"    Get the page content from the url and parse into a list of <th> tags\\\\n\",\\n',\n",
       " '    \"    using the html parser from beautiful soup\\\\n\",\\n',\n",
       " '    \"    \\\\\"\\\\\"\\\\\"\\\\n\",\\n',\n",
       " '    \"    page = urllib.request.urlopen(url)\\\\n\",\\n',\n",
       " '    \"    soup = BeautifulSoup(page, \\'html.parser\\')\\\\n\",\\n',\n",
       " '    \"    return soup.find_all(\\'th\\')\\\\n\",\\n',\n",
       " '    \"\\\\n\",\\n',\n",
       " '    \"\\\\n\",\\n',\n",
       " '    \"def get_target_th_tags(parsed_th_tags):\\\\n\",\\n',\n",
       " '    \"    \\\\\"\\\\\"\\\\\"\\\\n\",\\n',\n",
       " '    \"    Get the target content from a list of parsed <th> tags:\\\\n\",\\n',\n",
       " '    \"    lines after \\'方向\\' and lines contain \\'——\\'\\\\n\",\\n',\n",
       " '    \"    \\\\\"\\\\\"\\\\\"\\\\n\",\\n',\n",
       " '    \"    target_th_tags = []\\\\n\",\\n',\n",
       " '    \"    \\\\n\",\\n',\n",
       " '    \"    start_index = [i for i, th_string in enumerate(parsed_th_tags) if \\'方向\\' in th_string] \\\\n\",\\n',\n",
       " '    \"    \\\\n\",\\n',\n",
       " '    \"    if start_index:\\\\n\",\\n',\n",
       " '    \"        start_i = start_index[0]\\\\n\",\\n',\n",
       " '    \"        \\\\n\",\\n',\n",
       " '    \"        for line in parsed_th_tags[start_i:]:\\\\n\",\\n',\n",
       " '    \"            if str(line).find(\\'——\\') > 0: \\\\n\",\\n',\n",
       " '    \"                target_th_tags.append(line)\\\\n\",\\n',\n",
       " '    \"            else: continue\\\\n\",\\n',\n",
       " '    \"        return target_th_tags\\\\n\",\\n',\n",
       " '    \"    \\\\n\",\\n',\n",
       " '    \"    else: return []  # return an empty list if we couldn\\'t find \\'方向\\' on the page\\\\n\",\\n',\n",
       " '    \"\\\\n\",\\n',\n",
       " '    \"\\\\n\",\\n',\n",
       " '    \"\\\\n\",\\n',\n",
       " '    \"def find_edgelist(th_tags):\\\\n\",\\n',\n",
       " '    \"    \\\\\"Find station edgelists from the target <th> tags\\\\\"\\\\n\",\\n',\n",
       " '    \"    edge_list = []\\\\n\",\\n',\n",
       " '    \"    \\\\n\",\\n',\n",
       " '    \"    if th_tags:\\\\n\",\\n',\n",
       " '    \"        for line in th_tags:\\\\n\",\\n',\n",
       " '    \"            edge = \\'\\'.join(e for e in re.findall(\\'>.{1,15}<\\', str(line)))\\\\n\",\\n',\n",
       " '    \"            edge = \\'\\'.join(c for c in edge if c not in \\'><\\') # remove \\'>\\' and \\'<\\'\\\\n\",\\n',\n",
       " '    \"            edge = edge.replace(\\'——\\', \\' \\')\\\\n\",\\n',\n",
       " '    \"            edge_list.append(edge)\\\\n\",\\n',\n",
       " '    \"        return edge_list\\\\n\",\\n',\n",
       " '    \"    else: return [] # return an empty list if the input th_tags are empty\\\\n\"\\n',\n",
       " '   ]\\n',\n",
       " '  },\\n',\n",
       " '  {\\n',\n",
       " '   \"cell_type\": \"code\",\\n',\n",
       " '   \"execution_count\": 63,\\n',\n",
       " '   \"metadata\": {},\\n',\n",
       " '   \"outputs\": [\\n',\n",
       " '    {\\n',\n",
       " '     \"name\": \"stdout\",\\n',\n",
       " '     \"output_type\": \"stream\",\\n',\n",
       " '     \"text\": [\\n',\n",
       " '      \"extracting edgelist for [\\'北京地铁1号线\\']\\\\n\",\\n',\n",
       " '      \"extracting edgelist finished for [\\'北京地铁1号线\\']: \\\\n\",\\n',\n",
       " '      \"苹果园-->古城-->八角游乐园-->八宝山-->玉泉路-->五棵松-->万寿路-->公主坟-->军事博物馆-->木樨地-->南礼士路-->复兴门-->西单-->天安门西-->天安门东-->王府井-->东单-->建国门-->永安里-->国贸-->大望路-->四惠\\\\n\",\\n',\n",
       " '      \"extracting edgelist for [\\'北京地铁13号线\\']\\\\n\",\\n',\n",
       " '      \"extracting edgelist finished for [\\'北京地铁13号线\\']: \\\\n\",\\n',\n",
       " '      \"西直门-->大钟寺-->知春路-->五道口-->上地-->西二旗-->龙泽-->回龙观-->霍营-->立水桥-->北苑-->望京西-->芍药居-->光熙门-->柳芳\\\\n\",\\n',\n",
       " '      \"extracting edgelist for [\\'北京地铁八通线\\']\\\\n\",\\n',\n",
       " '      \"extracting edgelist finished for [\\'北京地铁八通线\\']: \\\\n\",\\n',\n",
       " '      \"四惠-->四惠东-->高碑店-->传媒大学-->双桥-->管庄-->八里桥-->通州北苑-->果园-->九棵树-->梨园-->临河里\\\\n\",\\n',\n",
       " '      \"extracting edgelist for [\\'北京地铁5号线\\']\\\\n\",\\n',\n",
       " '      \"extracting edgelist finished for [\\'北京地铁5号线\\']: \\\\n\",\\n',\n",
       " '      \"天通苑北-->天通苑-->天通苑南-->立水桥-->立水桥南-->北苑路北-->大屯路东-->惠新西街北口-->惠新西街南口-->和平西桥-->和平里北街-->雍和宫-->北新桥-->张自忠路-->东四-->灯市口-->东单-->崇文门-->磁器口-->天坛东门-->蒲黄榆-->刘家窑\\\\n\",\\n',\n",
       " '      \"extracting edgelist for [\\'北京地铁8号线\\']\\\\n\",\\n',\n",
       " '      \"extracting edgelist finished for [\\'北京地铁8号线\\']: \\\\n\",\\n',\n",
       " '      \"朱辛庄-->育知路-->平西府-->回龙观东大街-->霍营-->育新-->西小口-->永泰庄-->林萃桥-->森林公园南门-->奥林匹克公园-->奥体中心-->北土城-->安华桥-->安德里北街-->鼓楼大街-->什刹海\\\\n\",\\n',\n",
       " '      \"extracting edgelist for [\\'北京地铁10号线\\']\\\\n\",\\n',\n",
       " '      \"extracting edgelist finished for [\\'北京地铁10号线\\']: \\\\n\",\\n',\n",
       " '      \"巴沟-->苏州街-->海淀黄庄-->知春里-->知春路-->西土城-->牡丹园-->健德门-->北土城-->安贞门-->惠新西街南口-->芍药居-->太阳宫-->三元桥-->亮马桥-->农业展览馆-->团结湖-->呼家楼-->金台夕照-->国贸-->双井-->劲松-->潘家园-->十里河-->分钟寺-->成寿寺-->宋家庄-->石榴庄-->大红门-->角门东-->角门西-->草桥-->纪家庙-->首经贸-->丰台站-->泥洼-->西局-->六里桥-->莲花桥-->公主坟-->西钓鱼台-->慈寿寺-->车道沟-->长春桥-->火器营\\\\n\",\\n',\n",
       " '      \"extracting edgelist for [\\'北京地铁机场线\\']\\\\n\",\\n',\n",
       " '      \"extracting edgelist failed for [\\'北京地铁机场线\\']\\\\n\",\\n',\n",
       " '      \"extracting edgelist for [\\'北京地铁4号线\\']\\\\n\",\\n',\n",
       " '      \"extracting edgelist finished for [\\'北京地铁4号线\\']: \\\\n\",\\n',\n",
       " '      \"安河桥北-->北宫门-->西苑-->圆明园-->北京大学东门-->中关村-->海淀黄庄-->人民大学-->魏公村-->国家图书馆-->动物园-->西直门-->新街口-->平安里-->西四-->灵境胡同-->西单-->宣武门-->菜市口-->陶然亭-->北京南站-->马家堡-->角门西\\\\n\",\\n',\n",
       " '      \"extracting edgelist for [\\'北京地铁15号线\\']\\\\n\",\\n',\n",
       " '      \"extracting edgelist finished for [\\'北京地铁15号线\\']: \\\\n\",\\n',\n",
       " '      \"清华东路西口-->六道口-->北沙滩-->奥林匹克公园-->安立路-->大屯路东-->关庄-->望京西-->望京-->望京东-->崔各庄-->马泉营-->孙河-->国展-->花梨坎-->后沙峪-->南法信-->石门-->顺义\\\\n\",\\n',\n",
       " '      \"extracting edgelist for [\\'北京地铁昌平线\\']\\\\n\",\\n',\n",
       " '      \"extracting edgelist finished for [\\'北京地铁昌平线\\']: \\\\n\",\\n',\n",
       " '      \"昌平西山口-->十三陵景区-->昌平-->昌平东关-->北邵洼-->南邵-->沙河高教园-->沙河-->巩华城-->朱辛庄-->生命科学园\\\\n\",\\n',\n",
       " '      \"extracting edgelist for [\\'北京地铁大兴线\\']\\\\n\",\\n',\n",
       " '      \"extracting edgelist finished for [\\'北京地铁大兴线\\']: \\\\n\",\\n',\n",
       " '      \"公益西桥-->新宫-->西红门-->高米店北-->高米店南-->枣园-->清源路-->黄村西大街-->黄村火车站-->义和庄-->生物医药基地\\\\n\",\\n',\n",
       " '      \"extracting edgelist for [\\'北京地铁房山线\\']\\\\n\",\\n',\n",
       " '      \"extracting edgelist finished for [\\'北京地铁房山线\\']: \\\\n\",\\n',\n",
       " '      \"郭公庄-->大葆台-->稻田-->长阳-->篱笆房-->广阳城-->良乡大学城北-->良乡大学城-->良乡大学城西-->良乡南关-->苏庄\\\\n\",\\n',\n",
       " '      \"extracting edgelist for [\\'北京地铁亦庄线\\']\\\\n\",\\n',\n",
       " '      \"extracting edgelist failed for [\\'北京地铁亦庄线\\']\\\\n\",\\n',\n",
       " '      \"extracting edgelist for [\\'北京地铁9号线\\']\\\\n\",\\n',\n",
       " '      \"extracting edgelist failed for [\\'北京地铁9号线\\']\\\\n\",\\n',\n",
       " '      \"extracting edgelist for [\\'北京地铁6号线\\']\\\\n\",\\n',\n",
       " '      \"extracting edgelist finished for [\\'北京地铁6号线\\']: \\\\n\",\\n',\n",
       " '      \"海淀五路居-->慈寿寺-->花园桥-->白石桥南-->车公庄西-->车公庄-->平安里-->北海北-->南锣鼓巷-->东四-->朝阳门-->东大桥-->呼家楼-->金台路-->十里堡-->青年路-->褡裢坡-->黄渠-->常营-->草房-->物资学院路-->通州北关-->通运门-->北运河西-->北运河东-->郝家府-->东夏园\\\\n\",\\n',\n",
       " '      \"extracting edgelist for [\\'北京地铁14号线\\']\\\\n\",\\n',\n",
       " '      \"extracting edgelist finished for [\\'北京地铁14号线\\']: \\\\n\",\\n',\n",
       " '      \"张郭庄-->园博园-->大瓦窑-->郭庄子-->大井-->七里庄-->北京南站-->陶然桥-->永定门外-->景泰-->蒲黄榆-->方庄-->十里河-->南八里庄-->北工大西门-->平乐园-->九龙山-->大望路-->红庙-->金台路-->朝阳公园-->枣营-->东风北桥-->将台-->高家园-->望京南-->阜通-->望京-->东湖渠-->来广营\\\\n\",\\n',\n",
       " '      \"extracting edgelist for [\\'北京地铁7号线\\']\\\\n\",\\n',\n",
       " '      \"extracting edgelist finished for [\\'北京地铁7号线\\']: \\\\n\",\\n',\n",
       " '      \"北京西站-->湾子-->达官营-->广安门内-->菜市口-->虎坊桥-->珠市口-->桥湾-->磁器口-->广渠门内-->广渠门外-->双井-->九龙山-->大郊亭-->百子湾-->化工-->南楼梓庄-->欢乐谷景区-->垡头-->双合\\\\n\",\\n',\n",
       " '      \"extracting edgelist for [\\'北京地铁16号线\\']\\\\n\",\\n',\n",
       " '      \"extracting edgelist failed for [\\'北京地铁16号线\\']\\\\n\",\\n',\n",
       " '      \"extracting edgelist for [\\'北京地铁西郊线\\']\\\\n\",\\n',\n",
       " '      \"extracting edgelist failed for [\\'北京地铁西郊线\\']\\\\n\",\\n',\n",
       " '      \"extracting edgelist for [\\'北京地铁S1线\\']\\\\n\",\\n',\n",
       " '      \"extracting edgelist failed for [\\'北京地铁S1线\\']\\\\n\",\\n',\n",
       " '      \"extracting edgelist for [\\'北京地铁燕房线\\']\\\\n\",\\n',\n",
       " '      \"extracting edgelist failed for [\\'北京地铁燕房线\\']\\\\n\",\\n',\n",
       " '      \"extracting edgelist for [\\'北京地铁2号线\\']\\\\n\",\\n',\n",
       " '      \"extracting edgelist finished for [\\'北京地铁2号线\\']: \\\\n\",\\n',\n",
       " '      \"西直门-->车公庄-->阜成门-->复兴门-->长椿街-->宣武门-->和平门-->前门-->崇文门-->北京站-->建国门-->朝阳门-->东四十条-->东直门-->雍和宫-->安定门-->鼓楼大街-->积水潭\\\\n\"\\n',\n",
       " '     ]\\n',\n",
       " '    }\\n',\n",
       " '   ],\\n',\n",
       " '   \"source\": [\\n',\n",
       " '    \"# now we are ready to extract edgelist for all subway lines!\\\\n\",\\n',\n",
       " '    \"\\\\n\",\\n',\n",
       " '    \"line_edgelist_dic = {}\\\\n\",\\n',\n",
       " '    \"line_nodes_dic = {}\\\\n\",\\n',\n",
       " '    \"network_edgelist = [] # append all edges to be imported using networkx\\\\n\",\\n',\n",
       " '    \"\\\\n\",\\n',\n",
       " '    \"for line, url in subway_urls:\\\\n\",\\n',\n",
       " '    \"    print(\\'extracting edgelist for {}\\'.format(line))\\\\n\",\\n',\n",
       " '    \"    \\\\n\",\\n',\n",
       " '    \"    line_edgelist = find_edgelist(get_target_th_tags(parse_th_tags(url)))\\\\n\",\\n',\n",
       " '    \"    \\\\n\",\\n',\n",
       " '    \"    if line_edgelist:\\\\n\",\\n',\n",
       " '    \"        line_edgelist_dic[\\'\\'.join(line)] = line_edgelist # note the key has to be a string\\\\n\",\\n',\n",
       " '    \"        network_edgelist = network_edgelist + line_edgelist # append the edgelist for all lines\\\\n\",\\n',\n",
       " '    \"        \\\\n\",\\n',\n",
       " '    \"        line_nodes = [e.split(\\' \\')[0] for e in line_edgelist] # parse edgelist into nodes\\\\n\",\\n',\n",
       " '    \"        line_nodes_dic[\\'\\'.join(line)] = line_nodes\\\\n\",\\n',\n",
       " '    \"        \\\\n\",\\n',\n",
       " '    \"        print(\\'extracting edgelist finished for {}: \\'.format(line))\\\\n\",\\n',\n",
       " '    \"        print(*line_nodes, sep = \\\\\"-->\\\\\")  \\\\n\",\\n',\n",
       " '    \"    else:\\\\n\",\\n',\n",
       " '    \"        print(\\'extracting edgelist failed for {}\\'.format(line))\\\\n\",\\n',\n",
       " '    \"\\\\n\"\\n',\n",
       " '   ]\\n',\n",
       " '  },\\n',\n",
       " '  {\\n',\n",
       " '   \"cell_type\": \"markdown\",\\n',\n",
       " '   \"metadata\": {},\\n',\n",
       " '   \"source\": [\\n',\n",
       " '    \"**Note:**\\\\n\",\\n',\n",
       " '    \"\\\\n\",\\n',\n",
       " '    \"\\\\n\",\\n',\n",
       " '    \"Extracting the edgelist is a \\\\\"good-enough\\\\\" solution for now, given the messy html structure on baike.baidu.com, but this is not a perfect one, since we failed to get data for 7 out of 22 lines.\"\\n',\n",
       " '   ]\\n',\n",
       " '  },\\n',\n",
       " '  {\\n',\n",
       " '   \"cell_type\": \"markdown\",\\n',\n",
       " '   \"metadata\": {},\\n',\n",
       " '   \"source\": [\\n',\n",
       " '    \"#### Step 2 - Build a network graph\"\\n',\n",
       " '   ]\\n',\n",
       " '  },\\n',\n",
       " '  {\\n',\n",
       " '   \"cell_type\": \"code\",\\n',\n",
       " '   \"execution_count\": 14,\\n',\n",
       " '   \"metadata\": {},\\n',\n",
       " '   \"outputs\": [],\\n',\n",
       " '   \"source\": [\\n',\n",
       " '    \"# since we have the network_edgelist from the last step\\\\n\",\\n',\n",
       " '    \"# we can directly import it using networkx\\\\n\",\\n',\n",
       " '    \"\\\\n\",\\n',\n",
       " '    \"import networkx as nx\\\\n\",\\n',\n",
       " '    \"subway_graph = nx.parse_edgelist(network_edgelist, nodetype=str)\"\\n',\n",
       " '   ]\\n',\n",
       " '  },\\n',\n",
       " '  {\\n',\n",
       " '   \"cell_type\": \"code\",\\n',\n",
       " '   \"execution_count\": 15,\\n',\n",
       " '   \"metadata\": {},\\n',\n",
       " '   \"outputs\": [\\n',\n",
       " '    {\\n',\n",
       " '     \"data\": {\\n',\n",
       " '      \"text/plain\": [\\n',\n",
       " '       \"269\"\\n',\n",
       " '      ]\\n',\n",
       " '     },\\n',\n",
       " '     \"execution_count\": 15,\\n',\n",
       " '     \"metadata\": {},\\n',\n",
       " '     \"output_type\": \"execute_result\"\\n',\n",
       " '    }\\n',\n",
       " '   ],\\n',\n",
       " '   \"source\": [\\n',\n",
       " '    \"subway_graph.number_of_nodes() # 269 stations\"\\n',\n",
       " '   ]\\n',\n",
       " '  },\\n',\n",
       " '  {\\n',\n",
       " '   \"cell_type\": \"code\",\\n',\n",
       " '   \"execution_count\": 16,\\n',\n",
       " '   \"metadata\": {},\\n',\n",
       " '   \"outputs\": [\\n',\n",
       " '    {\\n',\n",
       " '     \"data\": {\\n',\n",
       " '      \"text/plain\": [\\n',\n",
       " '       \"302\"\\n',\n",
       " '      ]\\n',\n",
       " '     },\\n',\n",
       " '     \"execution_count\": 16,\\n',\n",
       " '     \"metadata\": {},\\n',\n",
       " '     \"output_type\": \"execute_result\"\\n',\n",
       " '    }\\n',\n",
       " '   ],\\n',\n",
       " '   \"source\": [\\n',\n",
       " '    \"subway_graph.number_of_edges() # 302 edges\"\\n',\n",
       " '   ]\\n',\n",
       " '  },\\n',\n",
       " '  {\\n',\n",
       " '   \"cell_type\": \"code\",\\n',\n",
       " '   \"execution_count\": 18,\\n',\n",
       " '   \"metadata\": {},\\n',\n",
       " '   \"outputs\": [\\n',\n",
       " '    {\\n',\n",
       " '     \"data\": {\\n',\n",
       " '      \"text/plain\": [\\n',\n",
       " '       \"AtlasView({\\'苏州街\\': {}, \\'知春里\\': {}, \\'中关村\\': {}, \\'人民大学\\': {}})\"\\n',\n",
       " '      ]\\n',\n",
       " '     },\\n',\n",
       " '     \"execution_count\": 18,\\n',\n",
       " '     \"metadata\": {},\\n',\n",
       " '     \"output_type\": \"execute_result\"\\n',\n",
       " '    }\\n',\n",
       " '   ],\\n',\n",
       " '   \"source\": [\\n',\n",
       " '    \"# test case 1\\\\n\",\\n',\n",
       " '    \"subway_graph[\\'海淀黄庄\\']\\\\n\",\\n',\n",
       " '    \"\\\\n\",\\n',\n",
       " '    \"# note we didn\\'t assign any weight to the edges\"\\n',\n",
       " '   ]\\n',\n",
       " '  },\\n',\n",
       " '  {\\n',\n",
       " '   \"cell_type\": \"code\",\\n',\n",
       " '   \"execution_count\": 19,\\n',\n",
       " '   \"metadata\": {},\\n',\n",
       " '   \"outputs\": [\\n',\n",
       " '    {\\n',\n",
       " '     \"data\": {\\n',\n",
       " '      \"text/plain\": [\\n',\n",
       " '       \"AtlasView({\\'车公庄\\': {}, \\'复兴门\\': {}})\"\\n',\n",
       " '      ]\\n',\n",
       " '     },\\n',\n",
       " '     \"execution_count\": 19,\\n',\n",
       " '     \"metadata\": {},\\n',\n",
       " '     \"output_type\": \"execute_result\"\\n',\n",
       " '    }\\n',\n",
       " '   ],\\n',\n",
       " '   \"source\": [\\n',\n",
       " '    \"# test case 2\\\\n\",\\n',\n",
       " '    \"subway_graph[\\'阜成门\\']\"\\n',\n",
       " '   ]\\n',\n",
       " '  },\\n',\n",
       " '  {\\n',\n",
       " '   \"cell_type\": \"code\",\\n',\n",
       " '   \"execution_count\": 66,\\n',\n",
       " '   \"metadata\": {},\\n',\n",
       " '   \"outputs\": [\\n',\n",
       " '    {\\n',\n",
       " '     \"name\": \"stderr\",\\n',\n",
       " '     \"output_type\": \"stream\",\\n',\n",
       " '     \"text\": [\\n',\n",
       " '      \"/usr/local/lib/python3.7/site-packages/networkx/drawing/nx_pylab.py:611: MatplotlibDeprecationWarning: isinstance(..., numbers.Number)\\\\n\",\\n',\n",
       " '      \"  if cb.is_numlike(alpha):\\\\n\"\\n',\n",
       " '     ]\\n',\n",
       " '    },\\n',\n",
       " '    {\\n',\n",
       " '     \"data\": {\\n',\n",
       " '      \"image/png\": \"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\\\\n\",\\n',\n",
       " '      \"text/plain\": [\\n',\n",
       " '       \"<Figure size 432x288 with 1 Axes>\"\\n',\n",
       " '      ]\\n',\n",
       " '     },\\n',\n",
       " '     \"metadata\": {},\\n',\n",
       " '     \"output_type\": \"display_data\"\\n',\n",
       " '    }\\n',\n",
       " '   ],\\n',\n",
       " '   \"source\": [\\n',\n",
       " '    \"nx.draw(subway_graph, with_labels=True, node_size=100)\"\\n',\n",
       " '   ]\\n',\n",
       " '  },\\n',\n",
       " '  {\\n',\n",
       " '   \"cell_type\": \"code\",\\n',\n",
       " '   \"execution_count\": 67,\\n',\n",
       " '   \"metadata\": {},\\n',\n",
       " '   \"outputs\": [\\n',\n",
       " '    {\\n',\n",
       " '     \"data\": {\\n',\n",
       " '      \"image/png\": \"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\\\\n\",\\n',\n",
       " '      \"text/plain\": [\\n',\n",
       " '       \"<Figure size 432x288 with 1 Axes>\"\\n',\n",
       " '      ]\\n',\n",
       " '     },\\n',\n",
       " '     \"metadata\": {},\\n',\n",
       " '     \"output_type\": \"display_data\"\\n',\n",
       " '    }\\n',\n",
       " '   ],\\n',\n",
       " '   \"source\": [\\n',\n",
       " '    \"nx.draw(subway_graph, node_size=100)\"\\n',\n",
       " '   ]\\n',\n",
       " '  },\\n',\n",
       " '  {\\n',\n",
       " '   \"cell_type\": \"markdown\",\\n',\n",
       " '   \"metadata\": {},\\n',\n",
       " '   \"source\": [\\n',\n",
       " '    \"#### Step 3 - Build a search agent\"\\n',\n",
       " '   ]\\n',\n",
       " '  },\\n',\n",
       " '  {\\n',\n",
       " '   \"cell_type\": \"code\",\\n',\n",
       " '   \"execution_count\": 68,\\n',\n",
       " '   \"metadata\": {},\\n',\n",
       " '   \"outputs\": [],\\n',\n",
       " '   \"source\": [\\n',\n",
       " '    \"# check if we have reached the destination through the current path.\\\\n\",\\n',\n",
       " '    \"# with a by_way paramater specifying the preferred station to be passed through\\\\n\",\\n',\n",
       " '    \"\\\\n\",\\n',\n",
       " '    \"def is_goal(destination, by_way=[]):\\\\n\",\\n',\n",
       " '    \"    def _wrap(current_path):\\\\n\",\\n',\n",
       " '    \"        for s in by_way:\\\\n\",\\n',\n",
       " '    \"            if s not in current_path:\\\\n\",\\n',\n",
       " '    \"                return False\\\\n\",\\n',\n",
       " '    \"        return current_path[-1] == destination\\\\n\",\\n',\n",
       " '    \"    return _wrap\\\\n\",\\n',\n",
       " '    \"\\\\n\",\\n',\n",
       " '    \"# define the sort function to find the optimal path based on \\\\n\",\\n',\n",
       " '    \"# the specified ranking criteria, cmp_func\\\\n\",\\n',\n",
       " '    \"\\\\n\",\\n',\n",
       " '    \"def sort_path(cmp_func, beam=-1):\\\\n\",\\n',\n",
       " '    \"    def _sorted(pathes):\\\\n\",\\n',\n",
       " '    \"        return sorted(pathes, key=cmp_func)[:beam]\\\\n\",\\n',\n",
       " '    \"    return _sorted\\\\n\"\\n',\n",
       " '   ]\\n',\n",
       " '  },\\n',\n",
       " '  {\\n',\n",
       " '   \"cell_type\": \"code\",\\n',\n",
       " '   \"execution_count\": null,\\n',\n",
       " '   \"metadata\": {},\\n',\n",
       " '   \"outputs\": [],\\n',\n",
       " '   \"source\": [\\n',\n",
       " '    \"# find the inverse mapping of line_node_dic for an easier look up\\\\n\",\\n',\n",
       " '    \"\\\\n\",\\n',\n",
       " '    \"node_line_dic = {}\\\\n\",\\n',\n",
       " '    \"for line, stations in line_nodes_dic.items():\\\\n\",\\n',\n",
       " '    \"    for s in stations:\\\\n\",\\n',\n",
       " '    \"        if s not in node_line_dic.keys():\\\\n\",\\n',\n",
       " '    \"            node_line_dic[s] = [line]\\\\n\",\\n',\n",
       " '    \"        else:\\\\n\",\\n',\n",
       " '    \"            node_line_dic[s].append(line)\"\\n',\n",
       " '   ]\\n',\n",
       " '  },\\n',\n",
       " '  {\\n',\n",
       " '   \"cell_type\": \"code\",\\n',\n",
       " '   \"execution_count\": 84,\\n',\n",
       " '   \"metadata\": {},\\n',\n",
       " '   \"outputs\": [\\n',\n",
       " '    {\\n',\n",
       " '     \"data\": {\\n',\n",
       " '      \"text/plain\": [\\n',\n",
       " '       \"True\"\\n',\n",
       " '      ]\\n',\n",
       " '     },\\n',\n",
       " '     \"execution_count\": 84,\\n',\n",
       " '     \"metadata\": {},\\n',\n",
       " '     \"output_type\": \"execute_result\"\\n',\n",
       " '    }\\n',\n",
       " '   ],\\n',\n",
       " '   \"source\": [\\n',\n",
       " '    \"# note:\\\\n\",\\n',\n",
       " '    \"# check if a certain value is in a dictionary, where the dictionary value is a list of items\\\\n\",\\n',\n",
       " '    \"\\'北京南站\\'in [s for stations in line_nodes_dic.values() for s in stations]\"\\n',\n",
       " '   ]\\n',\n",
       " '  },\\n',\n",
       " '  {\\n',\n",
       " '   \"cell_type\": \"code\",\\n',\n",
       " '   \"execution_count\": 83,\\n',\n",
       " '   \"metadata\": {},\\n',\n",
       " '   \"outputs\": [\\n',\n",
       " '    {\\n',\n",
       " '     \"data\": {\\n',\n",
       " '      \"text/plain\": [\\n',\n",
       " '       \"{\\'苹果园\\': [\\'北京地铁1号线\\'],\\\\n\",\\n',\n",
       " '       \" \\'古城\\': [\\'北京地铁1号线\\'],\\\\n\",\\n',\n",
       " '       \" \\'八角游乐园\\': [\\'北京地铁1号线\\'],\\\\n\",\\n',\n",
       " '       \" \\'八宝山\\': [\\'北京地铁1号线\\'],\\\\n\",\\n',\n",
       " '       \" \\'玉泉路\\': [\\'北京地铁1号线\\'],\\\\n\",\\n',\n",
       " '       \" \\'五棵松\\': [\\'北京地铁1号线\\'],\\\\n\",\\n',\n",
       " '       \" \\'万寿路\\': [\\'北京地铁1号线\\'],\\\\n\",\\n',\n",
       " '       \" \\'公主坟\\': [\\'北京地铁1号线\\', \\'北京地铁10号线\\'],\\\\n\",\\n',\n",
       " '       \" \\'军事博物馆\\': [\\'北京地铁1号线\\'],\\\\n\",\\n',\n",
       " '       \" \\'木樨地\\': [\\'北京地铁1号线\\'],\\\\n\",\\n',\n",
       " '       \" \\'南礼士路\\': [\\'北京地铁1号线\\'],\\\\n\",\\n',\n",
       " '       \" \\'复兴门\\': [\\'北京地铁1号线\\', \\'北京地铁2号线\\'],\\\\n\",\\n',\n",
       " '       \" \\'西单\\': [\\'北京地铁1号线\\', \\'北京地铁4号线\\'],\\\\n\",\\n',\n",
       " '       \" \\'天安门西\\': [\\'北京地铁1号线\\'],\\\\n\",\\n',\n",
       " '       \" \\'天安门东\\': [\\'北京地铁1号线\\'],\\\\n\",\\n',\n",
       " '       \" \\'王府井\\': [\\'北京地铁1号线\\'],\\\\n\",\\n',\n",
       " '       \" \\'东单\\': [\\'北京地铁1号线\\', \\'北京地铁5号线\\'],\\\\n\",\\n',\n",
       " '       \" \\'建国门\\': [\\'北京地铁1号线\\', \\'北京地铁2号线\\'],\\\\n\",\\n',\n",
       " '       \" \\'永安里\\': [\\'北京地铁1号线\\'],\\\\n\",\\n',\n",
       " '       \" \\'国贸\\': [\\'北京地铁1号线\\', \\'北京地铁10号线\\'],\\\\n\",\\n',\n",
       " '       \" \\'大望路\\': [\\'北京地铁1号线\\', \\'北京地铁14号线\\'],\\\\n\",\\n',\n",
       " '       \" \\'四惠\\': [\\'北京地铁1号线\\', \\'北京地铁八通线\\'],\\\\n\",\\n',\n",
       " '       \" \\'西直门\\': [\\'北京地铁13号线\\', \\'北京地铁4号线\\', \\'北京地铁2号线\\'],\\\\n\",\\n',\n",
       " '       \" \\'大钟寺\\': [\\'北京地铁13号线\\'],\\\\n\",\\n',\n",
       " '       \" \\'知春路\\': [\\'北京地铁13号线\\', \\'北京地铁10号线\\'],\\\\n\",\\n',\n",
       " '       \" \\'五道口\\': [\\'北京地铁13号线\\'],\\\\n\",\\n',\n",
       " '       \" \\'上地\\': [\\'北京地铁13号线\\'],\\\\n\",\\n',\n",
       " '       \" \\'西二旗\\': [\\'北京地铁13号线\\'],\\\\n\",\\n',\n",
       " '       \" \\'龙泽\\': [\\'北京地铁13号线\\'],\\\\n\",\\n',\n",
       " '       \" \\'回龙观\\': [\\'北京地铁13号线\\'],\\\\n\",\\n',\n",
       " '       \" \\'霍营\\': [\\'北京地铁13号线\\', \\'北京地铁8号线\\'],\\\\n\",\\n',\n",
       " '       \" \\'立水桥\\': [\\'北京地铁13号线\\', \\'北京地铁5号线\\'],\\\\n\",\\n',\n",
       " '       \" \\'北苑\\': [\\'北京地铁13号线\\'],\\\\n\",\\n',\n",
       " '       \" \\'望京西\\': [\\'北京地铁13号线\\', \\'北京地铁15号线\\'],\\\\n\",\\n',\n",
       " '       \" \\'芍药居\\': [\\'北京地铁13号线\\', \\'北京地铁10号线\\'],\\\\n\",\\n',\n",
       " '       \" \\'光熙门\\': [\\'北京地铁13号线\\'],\\\\n\",\\n',\n",
       " '       \" \\'柳芳\\': [\\'北京地铁13号线\\'],\\\\n\",\\n',\n",
       " '       \" \\'四惠东\\': [\\'北京地铁八通线\\'],\\\\n\",\\n',\n",
       " '       \" \\'高碑店\\': [\\'北京地铁八通线\\'],\\\\n\",\\n',\n",
       " '       \" \\'传媒大学\\': [\\'北京地铁八通线\\'],\\\\n\",\\n',\n",
       " '       \" \\'双桥\\': [\\'北京地铁八通线\\'],\\\\n\",\\n',\n",
       " '       \" \\'管庄\\': [\\'北京地铁八通线\\'],\\\\n\",\\n',\n",
       " '       \" \\'八里桥\\': [\\'北京地铁八通线\\'],\\\\n\",\\n',\n",
       " '       \" \\'通州北苑\\': [\\'北京地铁八通线\\'],\\\\n\",\\n',\n",
       " '       \" \\'果园\\': [\\'北京地铁八通线\\'],\\\\n\",\\n',\n",
       " '       \" \\'九棵树\\': [\\'北京地铁八通线\\'],\\\\n\",\\n',\n",
       " '       \" \\'梨园\\': [\\'北京地铁八通线\\'],\\\\n\",\\n',\n",
       " '       \" \\'临河里\\': [\\'北京地铁八通线\\'],\\\\n\",\\n',\n",
       " '       \" \\'天通苑北\\': [\\'北京地铁5号线\\'],\\\\n\",\\n',\n",
       " '       \" \\'天通苑\\': [\\'北京地铁5号线\\'],\\\\n\",\\n',\n",
       " '       \" \\'天通苑南\\': [\\'北京地铁5号线\\'],\\\\n\",\\n',\n",
       " '       \" \\'立水桥南\\': [\\'北京地铁5号线\\'],\\\\n\",\\n',\n",
       " '       \" \\'北苑路北\\': [\\'北京地铁5号线\\'],\\\\n\",\\n',\n",
       " '       \" \\'大屯路东\\': [\\'北京地铁5号线\\', \\'北京地铁15号线\\'],\\\\n\",\\n',\n",
       " '       \" \\'惠新西街北口\\': [\\'北京地铁5号线\\'],\\\\n\",\\n',\n",
       " '       \" \\'惠新西街南口\\': [\\'北京地铁5号线\\', \\'北京地铁10号线\\'],\\\\n\",\\n',\n",
       " '       \" \\'和平西桥\\': [\\'北京地铁5号线\\'],\\\\n\",\\n',\n",
       " '       \" \\'和平里北街\\': [\\'北京地铁5号线\\'],\\\\n\",\\n',\n",
       " '       \" \\'雍和宫\\': [\\'北京地铁5号线\\', \\'北京地铁2号线\\'],\\\\n\",\\n',\n",
       " '       \" \\'北新桥\\': [\\'北京地铁5号线\\'],\\\\n\",\\n',\n",
       " '       \" \\'张自忠路\\': [\\'北京地铁5号线\\'],\\\\n\",\\n',\n",
       " '       \" \\'东四\\': [\\'北京地铁5号线\\', \\'北京地铁6号线\\'],\\\\n\",\\n',\n",
       " '       \" \\'灯市口\\': [\\'北京地铁5号线\\'],\\\\n\",\\n',\n",
       " '       \" \\'崇文门\\': [\\'北京地铁5号线\\', \\'北京地铁2号线\\'],\\\\n\",\\n',\n",
       " '       \" \\'磁器口\\': [\\'北京地铁5号线\\', \\'北京地铁7号线\\'],\\\\n\",\\n',\n",
       " '       \" \\'天坛东门\\': [\\'北京地铁5号线\\'],\\\\n\",\\n',\n",
       " '       \" \\'蒲黄榆\\': [\\'北京地铁5号线\\', \\'北京地铁14号线\\'],\\\\n\",\\n',\n",
       " '       \" \\'刘家窑\\': [\\'北京地铁5号线\\'],\\\\n\",\\n',\n",
       " '       \" \\'朱辛庄\\': [\\'北京地铁8号线\\', \\'北京地铁昌平线\\'],\\\\n\",\\n',\n",
       " '       \" \\'育知路\\': [\\'北京地铁8号线\\'],\\\\n\",\\n',\n",
       " '       \" \\'平西府\\': [\\'北京地铁8号线\\'],\\\\n\",\\n',\n",
       " '       \" \\'回龙观东大街\\': [\\'北京地铁8号线\\'],\\\\n\",\\n',\n",
       " '       \" \\'育新\\': [\\'北京地铁8号线\\'],\\\\n\",\\n',\n",
       " '       \" \\'西小口\\': [\\'北京地铁8号线\\'],\\\\n\",\\n',\n",
       " '       \" \\'永泰庄\\': [\\'北京地铁8号线\\'],\\\\n\",\\n',\n",
       " '       \" \\'林萃桥\\': [\\'北京地铁8号线\\'],\\\\n\",\\n',\n",
       " '       \" \\'森林公园南门\\': [\\'北京地铁8号线\\'],\\\\n\",\\n',\n",
       " '       \" \\'奥林匹克公园\\': [\\'北京地铁8号线\\', \\'北京地铁15号线\\'],\\\\n\",\\n',\n",
       " '       \" \\'奥体中心\\': [\\'北京地铁8号线\\'],\\\\n\",\\n',\n",
       " '       \" \\'北土城\\': [\\'北京地铁8号线\\', \\'北京地铁10号线\\'],\\\\n\",\\n',\n",
       " '       \" \\'安华桥\\': [\\'北京地铁8号线\\'],\\\\n\",\\n',\n",
       " '       \" \\'安德里北街\\': [\\'北京地铁8号线\\'],\\\\n\",\\n',\n",
       " '       \" \\'鼓楼大街\\': [\\'北京地铁8号线\\', \\'北京地铁2号线\\'],\\\\n\",\\n',\n",
       " '       \" \\'什刹海\\': [\\'北京地铁8号线\\'],\\\\n\",\\n',\n",
       " '       \" \\'巴沟\\': [\\'北京地铁10号线\\'],\\\\n\",\\n',\n",
       " '       \" \\'苏州街\\': [\\'北京地铁10号线\\'],\\\\n\",\\n',\n",
       " '       \" \\'海淀黄庄\\': [\\'北京地铁10号线\\', \\'北京地铁4号线\\'],\\\\n\",\\n',\n",
       " '       \" \\'知春里\\': [\\'北京地铁10号线\\'],\\\\n\",\\n',\n",
       " '       \" \\'西土城\\': [\\'北京地铁10号线\\'],\\\\n\",\\n',\n",
       " '       \" \\'牡丹园\\': [\\'北京地铁10号线\\'],\\\\n\",\\n',\n",
       " '       \" \\'健德门\\': [\\'北京地铁10号线\\'],\\\\n\",\\n',\n",
       " '       \" \\'安贞门\\': [\\'北京地铁10号线\\'],\\\\n\",\\n',\n",
       " '       \" \\'太阳宫\\': [\\'北京地铁10号线\\'],\\\\n\",\\n',\n",
       " '       \" \\'三元桥\\': [\\'北京地铁10号线\\'],\\\\n\",\\n',\n",
       " '       \" \\'亮马桥\\': [\\'北京地铁10号线\\'],\\\\n\",\\n',\n",
       " '       \" \\'农业展览馆\\': [\\'北京地铁10号线\\'],\\\\n\",\\n',\n",
       " '       \" \\'团结湖\\': [\\'北京地铁10号线\\'],\\\\n\",\\n',\n",
       " '       \" \\'呼家楼\\': [\\'北京地铁10号线\\', \\'北京地铁6号线\\'],\\\\n\",\\n',\n",
       " '       \" \\'金台夕照\\': [\\'北京地铁10号线\\'],\\\\n\",\\n',\n",
       " '       \" \\'双井\\': [\\'北京地铁10号线\\', \\'北京地铁7号线\\'],\\\\n\",\\n',\n",
       " '       \" \\'劲松\\': [\\'北京地铁10号线\\'],\\\\n\",\\n',\n",
       " ...]"
      ]
     },
     "execution_count": 7,
     "metadata": {},
     "output_type": "execute_result"
    }
   ],
   "source": [
    "f.readlines()"
   ]
  },
  {
   "cell_type": "code",
   "execution_count": 13,
   "metadata": {},
   "outputs": [],
   "source": [
    "for line in f.readlines():\n",
    "    print(line)\n",
    "### Pay attention to the pointer location!"
   ]
  },
  {
   "cell_type": "code",
   "execution_count": 14,
   "metadata": {},
   "outputs": [],
   "source": [
    "f.close()"
   ]
  },
  {
   "cell_type": "markdown",
   "metadata": {},
   "source": [
    "## Generator"
   ]
  },
  {
   "cell_type": "code",
   "execution_count": 15,
   "metadata": {},
   "outputs": [],
   "source": [
    "import time"
   ]
  },
  {
   "cell_type": "code",
   "execution_count": 16,
   "metadata": {},
   "outputs": [],
   "source": [
    "def func(i):\n",
    "    time.sleep(0.2)\n",
    "    return i"
   ]
  },
  {
   "cell_type": "code",
   "execution_count": 17,
   "metadata": {},
   "outputs": [],
   "source": [
    "def gene_func():\n",
    "    yield 1\n",
    "    yield 2\n",
    "    yield 3\n",
    "    yield 4"
   ]
  },
  {
   "cell_type": "code",
   "execution_count": 20,
   "metadata": {},
   "outputs": [
    {
     "data": {
      "text/plain": [
       "1"
      ]
     },
     "execution_count": 20,
     "metadata": {},
     "output_type": "execute_result"
    }
   ],
   "source": [
    "next(gene_func())"
   ]
  },
  {
   "cell_type": "code",
   "execution_count": 24,
   "metadata": {},
   "outputs": [],
   "source": [
    "def loop(n):\n",
    "    results = []\n",
    "    for i in range(n):\n",
    "        r = func(i)\n",
    "        results.append(r)\n",
    "    return results"
   ]
  },
  {
   "cell_type": "code",
   "execution_count": 25,
   "metadata": {},
   "outputs": [
    {
     "data": {
      "text/plain": [
       "[0, 1, 2, 3, 4, 5, 6, 7, 8, 9]"
      ]
     },
     "execution_count": 25,
     "metadata": {},
     "output_type": "execute_result"
    }
   ],
   "source": [
    "loop(10)"
   ]
  },
  {
   "cell_type": "code",
   "execution_count": 26,
   "metadata": {},
   "outputs": [],
   "source": [
    "def loop_with_gene(n):\n",
    "    for i in range(n):\n",
    "        r = func(i)\n",
    "        yield r"
   ]
  },
  {
   "cell_type": "code",
   "execution_count": 27,
   "metadata": {},
   "outputs": [],
   "source": [
    "G = loop_with_gene(3)"
   ]
  },
  {
   "cell_type": "code",
   "execution_count": 28,
   "metadata": {},
   "outputs": [
    {
     "data": {
      "text/plain": [
       "0"
      ]
     },
     "execution_count": 28,
     "metadata": {},
     "output_type": "execute_result"
    }
   ],
   "source": [
    "next(G)"
   ]
  },
  {
   "cell_type": "code",
   "execution_count": 29,
   "metadata": {},
   "outputs": [
    {
     "data": {
      "text/plain": [
       "1"
      ]
     },
     "execution_count": 29,
     "metadata": {},
     "output_type": "execute_result"
    }
   ],
   "source": [
    "next(G)"
   ]
  },
  {
   "cell_type": "code",
   "execution_count": 30,
   "metadata": {},
   "outputs": [
    {
     "data": {
      "text/plain": [
       "2"
      ]
     },
     "execution_count": 30,
     "metadata": {},
     "output_type": "execute_result"
    }
   ],
   "source": [
    "next(G)"
   ]
  },
  {
   "cell_type": "code",
   "execution_count": 31,
   "metadata": {},
   "outputs": [
    {
     "ename": "StopIteration",
     "evalue": "",
     "output_type": "error",
     "traceback": [
      "\u001b[1;31m---------------------------------------------------------------------------\u001b[0m",
      "\u001b[1;31mStopIteration\u001b[0m                             Traceback (most recent call last)",
      "\u001b[1;32m<ipython-input-31-b4d1fcb0baf1>\u001b[0m in \u001b[0;36m<module>\u001b[1;34m\u001b[0m\n\u001b[1;32m----> 1\u001b[1;33m \u001b[0mnext\u001b[0m\u001b[1;33m(\u001b[0m\u001b[0mG\u001b[0m\u001b[1;33m)\u001b[0m\u001b[1;33m\u001b[0m\u001b[1;33m\u001b[0m\u001b[0m\n\u001b[0m",
      "\u001b[1;31mStopIteration\u001b[0m: "
     ]
    }
   ],
   "source": [
    "next(G)"
   ]
  },
  {
   "cell_type": "code",
   "execution_count": 34,
   "metadata": {},
   "outputs": [
    {
     "name": "stdout",
     "output_type": "stream",
     "text": [
      "0\n",
      "1\n",
      "2\n",
      "3\n",
      "4\n",
      "5\n",
      "6\n",
      "7\n",
      "8\n",
      "9\n"
     ]
    }
   ],
   "source": [
    "for i in loop(10):\n",
    "    print(i)"
   ]
  },
  {
   "cell_type": "code",
   "execution_count": 35,
   "metadata": {},
   "outputs": [
    {
     "name": "stdout",
     "output_type": "stream",
     "text": [
      "0\n",
      "1\n",
      "2\n",
      "3\n",
      "4\n",
      "5\n",
      "6\n",
      "7\n",
      "8\n",
      "9\n"
     ]
    }
   ],
   "source": [
    "for i in loop_with_gene(10):\n",
    "    print(i)"
   ]
  },
  {
   "cell_type": "markdown",
   "metadata": {},
   "source": [
    "## Best First Search"
   ]
  },
  {
   "cell_type": "code",
   "execution_count": 38,
   "metadata": {},
   "outputs": [],
   "source": [
    "coordination_source = \"\"\"\n",
    "{name:'lanzhou', geoCoord:[103.73, 36.03]},\n",
    "{name:'jiayuguan', geoCoord:[98.17, 39.47]},\n",
    "{name:'xining', geoCoord:[101.74, 36.56]},\n",
    "{name:'chengdu', geoCoord:[104.06, 30.67]},\n",
    "{name:'shijiazhuang', geoCoord:[114.48, 38.03]},\n",
    "{name:'lasa', geoCoord:[102.73, 25.04]},\n",
    "{name:'guiyang', geoCoord:[106.71, 26.57]},\n",
    "{name:'wuhan', geoCoord:[114.31, 30.52]},\n",
    "{name:'zhengzhou', geoCoord:[113.65, 34.76]},\n",
    "{name:'jinan', geoCoord:[117, 36.65]},\n",
    "{name:'nanjing', geoCoord:[118.78, 32.04]},\n",
    "{name:'hefei', geoCoord:[117.27, 31.86]},\n",
    "{name:'hangzhou', geoCoord:[120.19, 30.26]},\n",
    "{name:'nanchang', geoCoord:[115.89, 28.68]},\n",
    "{name:'fuzhou', geoCoord:[119.3, 26.08]},\n",
    "{name:'guangzhou', geoCoord:[113.23, 23.16]},\n",
    "{name:'changsha', geoCoord:[113, 28.21]},\n",
    "//{name:'海口', geoCoord:[110.35, 20.02]},\n",
    "{name:'shengyang', geoCoord:[123.38, 41.8]},\n",
    "{name:'changchun', geoCoord:[125.35, 43.88]},\n",
    "{name:'haorbing', geoCoord:[126.63, 45.75]},\n",
    "{name:'taiyuan', geoCoord:[112.53, 37.87]},\n",
    "{name:'xian', geoCoord:[108.95, 34.27]},\n",
    "//{name:'台湾', geoCoord:[121.30, 25.03]},\n",
    "{name:'beijing', geoCoord:[116.46, 39.92]},\n",
    "{name:'shanghai', geoCoord:[121.48, 31.22]},\n",
    "{name:'chongqing', geoCoord:[106.54, 29.59]},\n",
    "{name:'tianjing', geoCoord:[117.2, 39.13]},\n",
    "{name:'huhehaote', geoCoord:[111.65, 40.82]},\n",
    "{name:'nanning', geoCoord:[108.33, 22.84]},\n",
    "//{name:'西藏', geoCoord:[91.11, 29.97]},\n",
    "{name:'yinchuan', geoCoord:[106.27, 38.47]},\n",
    "{name:'wulumuqi', geoCoord:[87.68, 43.77]},\n",
    "{name:'xiangang', geoCoord:[114.17, 22.28]},\n",
    "{name:'aomen', geoCoord:[113.54, 22.19]}\n",
    "\"\"\""
   ]
  },
  {
   "cell_type": "code",
   "execution_count": 19,
   "metadata": {},
   "outputs": [],
   "source": [
    "coordination_source = \"\"\"\n",
    "{name:'兰州', geoCoord:[103.73, 36.03]},\n",
    "{name:'嘉峪关', geoCoord:[98.17, 39.47]},\n",
    "{name:'西宁', geoCoord:[101.74, 36.56]},\n",
    "{name:'成都', geoCoord:[104.06, 30.67]},\n",
    "{name:'石家庄', geoCoord:[114.48, 38.03]},\n",
    "{name:'拉萨', geoCoord:[102.73, 25.04]},\n",
    "{name:'贵阳', geoCoord:[106.71, 26.57]},\n",
    "{name:'武汉', geoCoord:[114.31, 30.52]},\n",
    "{name:'郑州', geoCoord:[113.65, 34.76]},\n",
    "{name:'济南', geoCoord:[117, 36.65]},\n",
    "{name:'南京', geoCoord:[118.78, 32.04]},\n",
    "{name:'合肥', geoCoord:[117.27, 31.86]},\n",
    "{name:'杭州', geoCoord:[120.19, 30.26]},\n",
    "{name:'南昌', geoCoord:[115.89, 28.68]},\n",
    "{name:'福州', geoCoord:[119.3, 26.08]},\n",
    "{name:'广州', geoCoord:[113.23, 23.16]},\n",
    "{name:'长沙', geoCoord:[113, 28.21]},\n",
    "//{name:'海口', geoCoord:[110.35, 20.02]},\n",
    "{name:'沈阳', geoCoord:[123.38, 41.8]},\n",
    "{name:'长春', geoCoord:[125.35, 43.88]},\n",
    "{name:'哈尔滨', geoCoord:[126.63, 45.75]},\n",
    "{name:'太原', geoCoord:[112.53, 37.87]},\n",
    "{name:'西安', geoCoord:[108.95, 34.27]},\n",
    "//{name:'台湾', geoCoord:[121.30, 25.03]},\n",
    "{name:'北京', geoCoord:[116.46, 39.92]},\n",
    "{name:'上海', geoCoord:[121.48, 31.22]},\n",
    "{name:'重庆', geoCoord:[106.54, 29.59]},\n",
    "{name:'天津', geoCoord:[117.2, 39.13]},\n",
    "{name:'呼和浩特', geoCoord:[111.65, 40.82]},\n",
    "{name:'南宁', geoCoord:[108.33, 22.84]},\n",
    "//{name:'西藏', geoCoord:[91.11, 29.97]},\n",
    "{name:'银川', geoCoord:[106.27, 38.47]},\n",
    "{name:'乌鲁木齐', geoCoord:[87.68, 43.77]},\n",
    "{name:'香港', geoCoord:[114.17, 22.28]},\n",
    "{name:'澳门', geoCoord:[113.54, 22.19]}\n",
    "\"\"\""
   ]
  },
  {
   "cell_type": "code",
   "execution_count": 2,
   "metadata": {},
   "outputs": [],
   "source": [
    "import re"
   ]
  },
  {
   "cell_type": "code",
   "execution_count": 3,
   "metadata": {},
   "outputs": [],
   "source": [
    "city_location = {}"
   ]
  },
  {
   "cell_type": "code",
   "execution_count": 5,
   "metadata": {},
   "outputs": [],
   "source": [
    "city = re.findall(\"name:'(\\w+)'\", line)"
   ]
  },
  {
   "cell_type": "code",
   "execution_count": 6,
   "metadata": {},
   "outputs": [
    {
     "data": {
      "text/plain": [
       "[]"
      ]
     },
     "execution_count": 6,
     "metadata": {},
     "output_type": "execute_result"
    }
   ],
   "source": [
    "city"
   ]
  },
  {
   "cell_type": "code",
   "execution_count": 4,
   "metadata": {},
   "outputs": [
    {
     "name": "stdout",
     "output_type": "stream",
     "text": [
      "兰州 (103.73, 36.03)\n",
      "嘉峪关 (98.17, 39.47)\n",
      "西宁 (101.74, 36.56)\n",
      "成都 (104.06, 30.67)\n",
      "石家庄 (114.48, 38.03)\n",
      "拉萨 (102.73, 25.04)\n",
      "贵阳 (106.71, 26.57)\n",
      "武汉 (114.31, 30.52)\n",
      "郑州 (113.65, 34.76)\n",
      "济南 (117.0, 36.65)\n",
      "南京 (118.78, 32.04)\n",
      "合肥 (117.27, 31.86)\n",
      "杭州 (120.19, 30.26)\n",
      "南昌 (115.89, 28.68)\n",
      "福州 (119.3, 26.08)\n",
      "广州 (113.23, 23.16)\n",
      "长沙 (113.0, 28.21)\n",
      "沈阳 (123.38, 41.8)\n",
      "长春 (125.35, 43.88)\n",
      "哈尔滨 (126.63, 45.75)\n",
      "太原 (112.53, 37.87)\n",
      "西安 (108.95, 34.27)\n",
      "北京 (116.46, 39.92)\n",
      "上海 (121.48, 31.22)\n",
      "重庆 (106.54, 29.59)\n",
      "天津 (117.2, 39.13)\n",
      "呼和浩特 (111.65, 40.82)\n",
      "南宁 (108.33, 22.84)\n",
      "银川 (106.27, 38.47)\n",
      "乌鲁木齐 (87.68, 43.77)\n",
      "香港 (114.17, 22.28)\n",
      "澳门 (113.54, 22.19)\n"
     ]
    }
   ],
   "source": [
    "for line in coordination_source.split('\\n'):\n",
    "    if line.startswith('//'): continue\n",
    "    if line.strip() == '': continue\n",
    "    \n",
    "    city = re.findall(\"name:'(\\w+)'\", line)[0]\n",
    "   \n",
    "    x_y = re.findall(\"Coord:\\[(\\d+.\\d+),\\s(\\d+.\\d+)\\]\", line)[0]\n",
    "    x_y = tuple(map(float, x_y))\n",
    "  \n",
    "    \n",
    "    city_location[city] = x_y\n",
    "    print(city, x_y)\n",
    "\n",
    "    "
   ]
  },
  {
   "cell_type": "code",
   "execution_count": 7,
   "metadata": {},
   "outputs": [],
   "source": [
    "import math"
   ]
  },
  {
   "cell_type": "code",
   "execution_count": 8,
   "metadata": {},
   "outputs": [],
   "source": [
    "def geo_distance(origin, destination):\n",
    "    lat1, lon1 = origin\n",
    "    lat2, lon2 = destination\n",
    "    radius = 6371\n",
    "    \n",
    "    dlat = math.radians(lat2-lat1)\n",
    "    dlon = math.radians(lon2-lon1)\n",
    "    a = (math.sin(dlat / 2) * math.sin(dlat / 2) +\n",
    "         math.cos(math.radians(lat1)) * math.cos(math.radians(lat2)) *\n",
    "         math.sin(dlon / 2) * math.sin(dlon / 2))\n",
    "    c = 2 * math.atan2(math.sqrt(a), math.sqrt(1 - a))\n",
    "    d = radius * c\n",
    "\n",
    "    return d "
   ]
  },
  {
   "cell_type": "code",
   "execution_count": 9,
   "metadata": {},
   "outputs": [],
   "source": [
    "def get_city_distance(city1, city2):\n",
    "    return geo_distance(city_location[city1], city_location[city2])"
   ]
  },
  {
   "cell_type": "code",
   "execution_count": 10,
   "metadata": {},
   "outputs": [
    {
     "data": {
      "text/plain": [
       "153.5185697155768"
      ]
     },
     "execution_count": 10,
     "metadata": {},
     "output_type": "execute_result"
    }
   ],
   "source": [
    "get_city_distance('杭州', '上海')"
   ]
  },
  {
   "cell_type": "code",
   "execution_count": 11,
   "metadata": {},
   "outputs": [],
   "source": [
    "import networkx as nx"
   ]
  },
  {
   "cell_type": "code",
   "execution_count": 12,
   "metadata": {},
   "outputs": [],
   "source": [
    "cities = list(city_location.keys())"
   ]
  },
  {
   "cell_type": "code",
   "execution_count": 13,
   "metadata": {},
   "outputs": [
    {
     "data": {
      "text/plain": [
       "['兰州',\n",
       " '嘉峪关',\n",
       " '西宁',\n",
       " '成都',\n",
       " '石家庄',\n",
       " '拉萨',\n",
       " '贵阳',\n",
       " '武汉',\n",
       " '郑州',\n",
       " '济南',\n",
       " '南京',\n",
       " '合肥',\n",
       " '杭州',\n",
       " '南昌',\n",
       " '福州',\n",
       " '广州',\n",
       " '长沙',\n",
       " '沈阳',\n",
       " '长春',\n",
       " '哈尔滨',\n",
       " '太原',\n",
       " '西安',\n",
       " '北京',\n",
       " '上海',\n",
       " '重庆',\n",
       " '天津',\n",
       " '呼和浩特',\n",
       " '南宁',\n",
       " '银川',\n",
       " '乌鲁木齐',\n",
       " '香港',\n",
       " '澳门']"
      ]
     },
     "execution_count": 13,
     "metadata": {},
     "output_type": "execute_result"
    }
   ],
   "source": [
    "cities"
   ]
  },
  {
   "cell_type": "code",
   "execution_count": 14,
   "metadata": {},
   "outputs": [],
   "source": [
    "city_graph = nx.Graph()"
   ]
  },
  {
   "cell_type": "code",
   "execution_count": 15,
   "metadata": {},
   "outputs": [],
   "source": [
    "city_graph.add_nodes_from(cities)"
   ]
  },
  {
   "cell_type": "code",
   "execution_count": 22,
   "metadata": {},
   "outputs": [
    {
     "data": {
      "image/png": "[encoded data removed]",
      "text/plain": [
       "<Figure size 432x288 with 1 Axes>"
      ]
     },
     "metadata": {},
     "output_type": "display_data"
    }
   ],
   "source": [
    "from pylab import *\n",
    "mpl.rcParams['font.sans-serif'] = ['SimHei'] \n",
    "nx.draw(city_graph, city_location, with_labels=True, node_size=10)"
   ]
  },
  {
   "cell_type": "code",
   "execution_count": 23,
   "metadata": {},
   "outputs": [
    {
     "data": {
      "text/plain": [
       "582.9782141643079"
      ]
     },
     "execution_count": 23,
     "metadata": {},
     "output_type": "execute_result"
    }
   ],
   "source": [
    "get_city_distance('西安', '兰州')"
   ]
  },
  {
   "cell_type": "code",
   "execution_count": 24,
   "metadata": {},
   "outputs": [],
   "source": [
    "threshold = 700"
   ]
  },
  {
   "cell_type": "code",
   "execution_count": 25,
   "metadata": {},
   "outputs": [],
   "source": [
    "from collections import defaultdict"
   ]
  },
  {
   "cell_type": "code",
   "execution_count": 26,
   "metadata": {},
   "outputs": [],
   "source": [
    "cities_connections = defaultdict(list)"
   ]
  },
  {
   "cell_type": "code",
   "execution_count": 27,
   "metadata": {},
   "outputs": [],
   "source": [
    "for c1 in cities:\n",
    "    for c2 in cities:\n",
    "        if c1 == c2: continue\n",
    "        if get_city_distance(c1, c2) < threshold:\n",
    "            cities_connections[c1].append(c2)"
   ]
  },
  {
   "cell_type": "code",
   "execution_count": 28,
   "metadata": {},
   "outputs": [
    {
     "data": {
      "text/plain": [
       "['嘉峪关', '西宁', '成都', '拉萨', '贵阳', '西安', '重庆', '南宁', '银川']"
      ]
     },
     "execution_count": 28,
     "metadata": {},
     "output_type": "execute_result"
    }
   ],
   "source": [
    "cities_connections['兰州']"
   ]
  },
  {
   "cell_type": "code",
   "execution_count": 29,
   "metadata": {},
   "outputs": [],
   "source": [
    "cities_connections_graph = nx.Graph(cities_connections)"
   ]
  },
  {
   "cell_type": "code",
   "execution_count": 30,
   "metadata": {},
   "outputs": [
    {
     "data": {
      "text/plain": [
       "776.4154006857316"
      ]
     },
     "execution_count": 30,
     "metadata": {},
     "output_type": "execute_result"
    }
   ],
   "source": [
    "get_city_distance('沈阳', '北京')"
   ]
  },
  {
   "cell_type": "code",
   "execution_count": 31,
   "metadata": {},
   "outputs": [
    {
     "name": "stderr",
     "output_type": "stream",
     "text": [
      "C:\\Anaconda\\lib\\site-packages\\networkx\\drawing\\nx_pylab.py:611: MatplotlibDeprecationWarning: isinstance(..., numbers.Number)\n",
      "  if cb.is_numlike(alpha):\n"
     ]
    },
    {
     "data": {
      "image/png": "[encoded data removed]",
      "text/plain": [
       "<Figure size 432x288 with 1 Axes>"
      ]
     },
     "metadata": {},
     "output_type": "display_data"
    }
   ],
   "source": [
    "nx.draw(cities_connections_graph, city_location, with_labels=True, node_size=10);"
   ]
  },
  {
   "cell_type": "code",
   "execution_count": 77,
   "metadata": {},
   "outputs": [],
   "source": [
    "## ？\n",
    "def is_goal(desitination):\n",
    "    def _wrap(current_path):\n",
    "        return current_path[-1] == desitination\n",
    "    return _wrap"
   ]
  },
  {
   "cell_type": "code",
   "execution_count": 78,
   "metadata": {},
   "outputs": [
    {
     "data": {
      "text/plain": [
       "<function __main__.is_goal.<locals>._wrap(current_path)>"
      ]
     },
     "execution_count": 78,
     "metadata": {},
     "output_type": "execute_result"
    }
   ],
   "source": [
    "is_goal('兰州')"
   ]
  },
  {
   "cell_type": "code",
   "execution_count": 79,
   "metadata": {},
   "outputs": [
    {
     "ename": "NameError",
     "evalue": "name 'graph' is not defined",
     "output_type": "error",
     "traceback": [
      "\u001b[1;31m---------------------------------------------------------------------------\u001b[0m",
      "\u001b[1;31mNameError\u001b[0m                                 Traceback (most recent call last)",
      "\u001b[1;32m<ipython-input-79-e7bca803254d>\u001b[0m in \u001b[0;36m<module>\u001b[1;34m\u001b[0m\n\u001b[1;32m----> 1\u001b[1;33m \u001b[0mgraph\u001b[0m\u001b[1;33m\u001b[0m\u001b[1;33m\u001b[0m\u001b[0m\n\u001b[0m",
      "\u001b[1;31mNameError\u001b[0m: name 'graph' is not defined"
     ]
    }
   ],
   "source": [
    "graph"
   ]
  },
  {
   "cell_type": "code",
   "execution_count": 102,
   "metadata": {},
   "outputs": [],
   "source": [
    "def search(graph, start, is_goal, search_strategy):\n",
    "    paths = [[start]]\n",
    "    seen = set()\n",
    "    \n",
    "    while paths:\n",
    "        path = paths.pop(0)\n",
    "        \n",
    "        frontier = path[-1]\n",
    "        \n",
    "        if frontier in seen:\n",
    "            continue\n",
    "        successors = graph[frontier]\n",
    "        \n",
    "        \n",
    "        for city in successors:\n",
    "            if city in path:\n",
    "                continue\n",
    "            new_path = path + [city]\n",
    "            \n",
    "            paths.append(new_path)\n",
    "                    \n",
    "            if is_goal(new_path):\n",
    "                return new_path\n",
    "            \n",
    "        seen.add(frontier)\n",
    "        paths = search_strategy(paths)"
   ]
  },
  {
   "cell_type": "code",
   "execution_count": 103,
   "metadata": {},
   "outputs": [],
   "source": [
    "#？\n",
    "def sort_path(cmp_func, beam=-1):\n",
    "    def _sorted(paths):\n",
    "        return sorted(paths, key=cmp_func)[:beam]\n",
    "    return _sorted"
   ]
  },
  {
   "cell_type": "code",
   "execution_count": 104,
   "metadata": {},
   "outputs": [
    {
     "data": {
      "text/plain": [
       "['北京', '长沙', '南宁', '拉萨']"
      ]
     },
     "execution_count": 104,
     "metadata": {},
     "output_type": "execute_result"
    }
   ],
   "source": [
    "search(cities_connections, start='北京', is_goal=is_goal('拉萨'), search_strategy=lambda n: n)"
   ]
  },
  {
   "cell_type": "code",
   "execution_count": 87,
   "metadata": {},
   "outputs": [
    {
     "data": {
      "text/plain": [
       "defaultdict(list,\n",
       "            {'兰州': ['嘉峪关', '西宁', '成都', '拉萨', '贵阳', '西安', '重庆', '南宁', '银川'],\n",
       "             '嘉峪关': ['兰州', '西宁', '成都', '拉萨'],\n",
       "             '西宁': ['兰州', '嘉峪关', '成都', '拉萨', '贵阳', '重庆', '银川'],\n",
       "             '成都': ['兰州', '嘉峪关', '西宁', '拉萨', '贵阳', '西安', '重庆', '南宁', '银川'],\n",
       "             '石家庄': ['武汉',\n",
       "              '郑州',\n",
       "              '济南',\n",
       "              '南京',\n",
       "              '合肥',\n",
       "              '南昌',\n",
       "              '广州',\n",
       "              '长沙',\n",
       "              '太原',\n",
       "              '西安',\n",
       "              '北京',\n",
       "              '天津',\n",
       "              '呼和浩特'],\n",
       "             '拉萨': ['兰州', '嘉峪关', '西宁', '成都', '贵阳', '重庆', '南宁', '银川'],\n",
       "             '贵阳': ['兰州', '西宁', '成都', '拉萨', '西安', '重庆', '南宁', '银川'],\n",
       "             '武汉': ['石家庄',\n",
       "              '郑州',\n",
       "              '济南',\n",
       "              '南京',\n",
       "              '合肥',\n",
       "              '杭州',\n",
       "              '南昌',\n",
       "              '福州',\n",
       "              '广州',\n",
       "              '长沙',\n",
       "              '太原',\n",
       "              '西安',\n",
       "              '北京',\n",
       "              '天津',\n",
       "              '呼和浩特',\n",
       "              '香港',\n",
       "              '澳门'],\n",
       "             '郑州': ['石家庄',\n",
       "              '武汉',\n",
       "              '济南',\n",
       "              '南京',\n",
       "              '合肥',\n",
       "              '南昌',\n",
       "              '广州',\n",
       "              '长沙',\n",
       "              '太原',\n",
       "              '西安',\n",
       "              '北京',\n",
       "              '天津',\n",
       "              '呼和浩特',\n",
       "              '香港',\n",
       "              '澳门'],\n",
       "             '济南': ['石家庄',\n",
       "              '武汉',\n",
       "              '郑州',\n",
       "              '南京',\n",
       "              '合肥',\n",
       "              '杭州',\n",
       "              '南昌',\n",
       "              '福州',\n",
       "              '长沙',\n",
       "              '太原',\n",
       "              '北京',\n",
       "              '上海',\n",
       "              '天津',\n",
       "              '呼和浩特'],\n",
       "             '南京': ['石家庄',\n",
       "              '武汉',\n",
       "              '郑州',\n",
       "              '济南',\n",
       "              '合肥',\n",
       "              '杭州',\n",
       "              '南昌',\n",
       "              '福州',\n",
       "              '长沙',\n",
       "              '北京',\n",
       "              '上海',\n",
       "              '天津'],\n",
       "             '合肥': ['石家庄',\n",
       "              '武汉',\n",
       "              '郑州',\n",
       "              '济南',\n",
       "              '南京',\n",
       "              '杭州',\n",
       "              '南昌',\n",
       "              '福州',\n",
       "              '广州',\n",
       "              '长沙',\n",
       "              '太原',\n",
       "              '北京',\n",
       "              '上海',\n",
       "              '天津',\n",
       "              '香港',\n",
       "              '澳门'],\n",
       "             '杭州': ['武汉', '济南', '南京', '合肥', '南昌', '福州', '北京', '上海', '天津'],\n",
       "             '南昌': ['石家庄',\n",
       "              '武汉',\n",
       "              '郑州',\n",
       "              '济南',\n",
       "              '南京',\n",
       "              '合肥',\n",
       "              '杭州',\n",
       "              '福州',\n",
       "              '广州',\n",
       "              '长沙',\n",
       "              '太原',\n",
       "              '北京',\n",
       "              '上海',\n",
       "              '天津',\n",
       "              '香港',\n",
       "              '澳门'],\n",
       "             '福州': ['武汉',\n",
       "              '济南',\n",
       "              '南京',\n",
       "              '合肥',\n",
       "              '杭州',\n",
       "              '南昌',\n",
       "              '广州',\n",
       "              '上海',\n",
       "              '香港',\n",
       "              '澳门'],\n",
       "             '广州': ['石家庄',\n",
       "              '武汉',\n",
       "              '郑州',\n",
       "              '合肥',\n",
       "              '南昌',\n",
       "              '福州',\n",
       "              '长沙',\n",
       "              '太原',\n",
       "              '西安',\n",
       "              '南宁',\n",
       "              '香港',\n",
       "              '澳门'],\n",
       "             '长沙': ['石家庄',\n",
       "              '武汉',\n",
       "              '郑州',\n",
       "              '济南',\n",
       "              '南京',\n",
       "              '合肥',\n",
       "              '南昌',\n",
       "              '广州',\n",
       "              '太原',\n",
       "              '西安',\n",
       "              '北京',\n",
       "              '天津',\n",
       "              '呼和浩特',\n",
       "              '南宁',\n",
       "              '香港',\n",
       "              '澳门'],\n",
       "             '沈阳': ['长春', '哈尔滨', '上海'],\n",
       "             '长春': ['沈阳', '哈尔滨'],\n",
       "             '哈尔滨': ['沈阳', '长春'],\n",
       "             '太原': ['石家庄',\n",
       "              '武汉',\n",
       "              '郑州',\n",
       "              '济南',\n",
       "              '合肥',\n",
       "              '南昌',\n",
       "              '广州',\n",
       "              '长沙',\n",
       "              '西安',\n",
       "              '北京',\n",
       "              '天津',\n",
       "              '呼和浩特',\n",
       "              '银川',\n",
       "              '澳门'],\n",
       "             '西安': ['兰州',\n",
       "              '成都',\n",
       "              '石家庄',\n",
       "              '贵阳',\n",
       "              '武汉',\n",
       "              '郑州',\n",
       "              '广州',\n",
       "              '长沙',\n",
       "              '太原',\n",
       "              '重庆',\n",
       "              '呼和浩特',\n",
       "              '南宁',\n",
       "              '银川'],\n",
       "             '北京': ['石家庄',\n",
       "              '武汉',\n",
       "              '郑州',\n",
       "              '济南',\n",
       "              '南京',\n",
       "              '合肥',\n",
       "              '杭州',\n",
       "              '南昌',\n",
       "              '长沙',\n",
       "              '太原',\n",
       "              '天津',\n",
       "              '呼和浩特'],\n",
       "             '上海': ['济南', '南京', '合肥', '杭州', '南昌', '福州', '沈阳', '天津'],\n",
       "             '重庆': ['兰州', '西宁', '成都', '拉萨', '贵阳', '西安', '呼和浩特', '南宁', '银川'],\n",
       "             '天津': ['石家庄',\n",
       "              '武汉',\n",
       "              '郑州',\n",
       "              '济南',\n",
       "              '南京',\n",
       "              '合肥',\n",
       "              '杭州',\n",
       "              '南昌',\n",
       "              '长沙',\n",
       "              '太原',\n",
       "              '北京',\n",
       "              '上海',\n",
       "              '呼和浩特'],\n",
       "             '呼和浩特': ['石家庄',\n",
       "              '武汉',\n",
       "              '郑州',\n",
       "              '济南',\n",
       "              '长沙',\n",
       "              '太原',\n",
       "              '西安',\n",
       "              '北京',\n",
       "              '重庆',\n",
       "              '天津',\n",
       "              '银川'],\n",
       "             '南宁': ['兰州',\n",
       "              '成都',\n",
       "              '拉萨',\n",
       "              '贵阳',\n",
       "              '广州',\n",
       "              '长沙',\n",
       "              '西安',\n",
       "              '重庆',\n",
       "              '银川',\n",
       "              '香港',\n",
       "              '澳门'],\n",
       "             '银川': ['兰州',\n",
       "              '西宁',\n",
       "              '成都',\n",
       "              '拉萨',\n",
       "              '贵阳',\n",
       "              '太原',\n",
       "              '西安',\n",
       "              '重庆',\n",
       "              '呼和浩特',\n",
       "              '南宁'],\n",
       "             '香港': ['武汉', '郑州', '合肥', '南昌', '福州', '广州', '长沙', '南宁', '澳门'],\n",
       "             '澳门': ['武汉',\n",
       "              '郑州',\n",
       "              '合肥',\n",
       "              '南昌',\n",
       "              '福州',\n",
       "              '广州',\n",
       "              '长沙',\n",
       "              '太原',\n",
       "              '南宁',\n",
       "              '香港']})"
      ]
     },
     "execution_count": 87,
     "metadata": {},
     "output_type": "execute_result"
    }
   ],
   "source": [
    "cities_connections"
   ]
  },
  {
   "cell_type": "code",
   "execution_count": 94,
   "metadata": {},
   "outputs": [
    {
     "data": {
      "text/plain": [
       "['北京', '长沙', '南宁']"
      ]
     },
     "execution_count": 94,
     "metadata": {},
     "output_type": "execute_result"
    }
   ],
   "source": [
    "a = ['北京', '长沙', '南宁', '拉萨']\n",
    "a[:-1]"
   ]
  },
  {
   "cell_type": "code",
   "execution_count": 95,
   "metadata": {},
   "outputs": [],
   "source": [
    "def get_path_distance(path):\n",
    "    distance = 0\n",
    "    \n",
    "    for i, c in enumerate(path[:-1]):\n",
    "        distance += get_city_distance(c, path[i+1])\n",
    "    \n",
    "    return distance\n",
    "        "
   ]
  },
  {
   "cell_type": "code",
   "execution_count": 96,
   "metadata": {},
   "outputs": [],
   "source": [
    "def get_total_station(path):\n",
    "    return len(path)"
   ]
  },
  {
   "cell_type": "code",
   "execution_count": 97,
   "metadata": {},
   "outputs": [],
   "source": [
    "def get_comprehensive_path(path):\n",
    "    return get_path_distance(path) + get_total_station(path)"
   ]
  },
  {
   "cell_type": "code",
   "execution_count": 98,
   "metadata": {},
   "outputs": [],
   "source": [
    "def get_as_much_path(path):\n",
    "    return -1 * len(path)"
   ]
  },
  {
   "cell_type": "code",
   "execution_count": 99,
   "metadata": {},
   "outputs": [
    {
     "data": {
      "text/plain": [
       "665.2271362574077"
      ]
     },
     "execution_count": 99,
     "metadata": {},
     "output_type": "execute_result"
    }
   ],
   "source": [
    "get_path_distance(['北京', '长沙'])"
   ]
  },
  {
   "cell_type": "code",
   "execution_count": 122,
   "metadata": {},
   "outputs": [],
   "source": [
    "#？？？\n",
    "search(cities_connections, start='北京', is_goal=is_goal('拉萨'), search_strategy=sort_path(get_path_distance, beam = 10))"
   ]
  },
  {
   "cell_type": "code",
   "execution_count": 106,
   "metadata": {},
   "outputs": [
    {
     "data": {
      "text/plain": [
       "['北京', '石家庄', '西安']"
      ]
     },
     "execution_count": 106,
     "metadata": {},
     "output_type": "execute_result"
    }
   ],
   "source": [
    "\n",
    "search(cities_connections, start='北京', is_goal=is_goal('西安'), search_strategy=sort_path(get_total_station))"
   ]
  },
  {
   "cell_type": "code",
   "execution_count": 107,
   "metadata": {},
   "outputs": [
    {
     "data": {
      "text/plain": [
       "['杭州', '武汉', '广州', '南宁', '拉萨']"
      ]
     },
     "execution_count": 107,
     "metadata": {},
     "output_type": "execute_result"
    }
   ],
   "source": [
    "search(cities_connections, start='杭州', is_goal=is_goal('拉萨'), search_strategy=sort_path(get_total_station))"
   ]
  },
  {
   "cell_type": "code",
   "execution_count": 108,
   "metadata": {},
   "outputs": [
    {
     "data": {
      "text/plain": [
       "['北京', '呼和浩特', '银川', '拉萨']"
      ]
     },
     "execution_count": 108,
     "metadata": {},
     "output_type": "execute_result"
    }
   ],
   "source": [
    "search(cities_connections, start='北京', is_goal=is_goal('拉萨'), search_strategy=sort_path(get_comprehensive_path))"
   ]
  },
  {
   "cell_type": "code",
   "execution_count": 109,
   "metadata": {},
   "outputs": [
    {
     "data": {
      "text/plain": [
       "['北京',\n",
       " '石家庄',\n",
       " '武汉',\n",
       " '郑州',\n",
       " '济南',\n",
       " '南京',\n",
       " '合肥',\n",
       " '杭州',\n",
       " '南昌',\n",
       " '福州',\n",
       " '广州',\n",
       " '长沙',\n",
       " '太原',\n",
       " '西安',\n",
       " '兰州',\n",
       " '拉萨']"
      ]
     },
     "execution_count": 109,
     "metadata": {},
     "output_type": "execute_result"
    }
   ],
   "source": [
    "\n",
    "search(cities_connections, start='北京', is_goal=is_goal('拉萨'), search_strategy=sort_path(get_as_much_path))"
   ]
  },
  {
   "cell_type": "code",
   "execution_count": null,
   "metadata": {},
   "outputs": [],
   "source": []
  }
 ],
 "metadata": {
  "kernelspec": {
   "display_name": "Python 3",
   "language": "python",
   "name": "python3"
  },
  "language_info": {
   "codemirror_mode": {
    "name": "ipython",
    "version": 3
   },
   "file_extension": ".py",
   "mimetype": "text/x-python",
   "name": "python",
   "nbconvert_exporter": "python",
   "pygments_lexer": "ipython3",
   "version": "3.7.3"
  }
 },
 "nbformat": 4,
 "nbformat_minor": 2
}
